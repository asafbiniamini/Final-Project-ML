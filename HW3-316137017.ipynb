{
 "cells": [
  {
   "cell_type": "markdown",
   "metadata": {
    "id": "VQRc9rkcxuAF"
   },
   "source": [
    "<center><br><font size=10>HW3</font><br>\n",
    "<font size=6>Dimensionality Reduction and Model Selection</font>\n",
    "<br><br>\n",
    "<b>Introduction to Machine Learning – Digital Sciences for High-Tech</b>\n",
    "<br><br>\n",
    "<b>Author</b>: Ilan Vasilevsky - ilanv@mail.tau.ac.il\n",
    "<br><i>Spring 2023</i></center>"
   ]
  },
  {
   "cell_type": "markdown",
   "metadata": {},
   "source": [
    "Follow the instructions in the template, score will be given uppon it.\n",
    "<br>Some basic rules:\n",
    "- Use only relative path (like it is written in the template). if You need to use a different path, don't forget to revert it to original before submitting\n",
    "- Code must run without errors.\n",
    "- It is encouraged to check yourself with outputs such as prints, plots etc. Remember to delete extra outputs before submitting.\n",
    "- The answered notebook should be submitted in the following format: HW3_{id}.ipynb"
   ]
  },
  {
   "cell_type": "markdown",
   "metadata": {
    "id": "rYk83eiixuAN"
   },
   "source": [
    "## Import libraries\n",
    "You are allowed to use these libraries only."
   ]
  },
  {
   "cell_type": "code",
   "execution_count": 103,
   "metadata": {
    "ExecuteTime": {
     "end_time": "2021-04-21T13:49:16.541540Z",
     "start_time": "2021-04-21T13:49:15.994722Z"
    },
    "id": "Mt7fzIwrxuAP"
   },
   "outputs": [],
   "source": [
    "import pandas as pd\n",
    "import numpy as np\n",
    "import matplotlib.pyplot as plt\n",
    "from sklearn.metrics import mean_squared_error\n",
    "from sklearn.model_selection import train_test_split, KFold\n",
    "from sklearn.datasets import fetch_openml\n",
    "from sklearn.linear_model import LogisticRegression,LinearRegression\n",
    "from sklearn.preprocessing import StandardScaler\n",
    "from sklearn.metrics import confusion_matrix\n",
    "from typing import List, Dict\n",
    "%matplotlib inline"
   ]
  },
  {
   "cell_type": "markdown",
   "metadata": {
    "id": "XSQxYsJfM-z_"
   },
   "source": [
    "# Part 1: Dimensionality Reduction"
   ]
  },
  {
   "cell_type": "markdown",
   "metadata": {
    "id": "ewissiG2xuAU"
   },
   "source": [
    "## Load & external data"
   ]
  },
  {
   "cell_type": "markdown",
   "metadata": {
    "id": "Z4cMiPOFM-0B"
   },
   "source": [
    "In this part we shall use the 'crime_data' data set. about this data: [UCI Repository](https://archive.ics.uci.edu/ml/datasets/communities+and+crime#:~:text=UCI%20Machine%20Learning%20Repository%3A%20Communities%20and%20Crime%20Data%20Set&text=Abstract%3A%20Communities%20within%20the%20United,from%20the%201995%20FBI%20UCR.) </br><br>\n",
    "The following code loads the data, and splits it to train and test for this exercise. </br>\n",
    "</br>\n",
    "It also normalizes the data for as follows:</br>\n",
    "PCA needs each column to have zero mean. In addition, it works better when all features share the same variance (common shoice is 1). the sklearn transformer StandardScaler does exactly that."
   ]
  },
  {
   "cell_type": "code",
   "execution_count": 104,
   "metadata": {
    "id": "_u8ecZC6xuAW",
    "outputId": "35f46f04-222b-47bd-9546-5d30178016b1"
   },
   "outputs": [
    {
     "name": "stdout",
     "output_type": "stream",
     "text": [
      "X.shape: (1994, 101), y.shape: (1994,)\n",
      "X_train_raw.shape: (1595, 101), y_train.shape: (1595,), X_test_raw.shape: (399, 101), y_test.shape: (399,)\n",
      "X_train.shape: (1595, 101), X_test.shape: (399, 101)\n"
     ]
    }
   ],
   "source": [
    "# load\n",
    "data = pd.read_csv(\"crime_data.csv\")\n",
    "#Converting data to numpy arrays\n",
    "X, y = data.values[:,:-1], data.values[:, -1]\n",
    "print(f'X.shape: {X.shape}, y.shape: {y.shape}')\n",
    "\n",
    "#split to train and test\n",
    "X_train_raw ,X_test_raw ,y_train, y_test = train_test_split(X,y,test_size = 0.2, random_state= 42, shuffle=True)\n",
    "print(f'X_train_raw.shape: {X_train_raw.shape}, y_train.shape: {y_train.shape}, \\\n",
    "X_test_raw.shape: {X_test_raw.shape}, y_test.shape: {y_test.shape}')\n",
    "\n",
    "# normalize to have 0 mean and 1 variance (according to train distribution)\n",
    "scaler = StandardScaler()\n",
    "X_train = scaler.fit_transform(X_train_raw)\n",
    "X_test = scaler.transform(X_test_raw)\n",
    "print(f'X_train.shape: {X_train.shape}, X_test.shape: {X_test.shape}')"
   ]
  },
  {
   "cell_type": "markdown",
   "metadata": {
    "id": "XGiTN4pXxuAd"
   },
   "source": [
    "## a. PCA \n",
    " - Implement the function get_principal_components. The function returns the minimal group of components, which explain more than (100*p)% of the variance.\n",
    " - Use the next cell to print the number of minimal number of components explaining at least 99% of X_train"
   ]
  },
  {
   "cell_type": "code",
   "execution_count": 105,
   "metadata": {
    "id": "Pg8ZETwLxuAf"
   },
   "outputs": [],
   "source": [
    "# Import Package\n",
    "from sklearn.decomposition import PCA"
   ]
  },
  {
   "cell_type": "code",
   "execution_count": 106,
   "metadata": {
    "id": "b9HS9O9VxuAg"
   },
   "outputs": [],
   "source": [
    "def get_principal_components(X: np.array, p: float) -> np.array:\n",
    "    \"\"\"\n",
    "    Returns array of principal components explaining (100*p)% of the variance\n",
    "    X: 2d numpy array of data we want to apply PCA on. \n",
    "    p: float in the range (0,1]. The proportion of variance explained by components\n",
    "    \"\"\"\n",
    "    pca = PCA(p)\n",
    "    pca.fit(X)\n",
    "    \n",
    "    return pca.components_\n"
   ]
  },
  {
   "cell_type": "code",
   "execution_count": 107,
   "metadata": {
    "id": "UJhu6BBvxuAh",
    "outputId": "24ec7ea7-1c9a-4eeb-eae7-9947c107f1a7"
   },
   "outputs": [
    {
     "name": "stdout",
     "output_type": "stream",
     "text": [
      "number of components which preserve at least 99% of the variance: 60\n"
     ]
    }
   ],
   "source": [
    "components = get_principal_components(X_train,0.99)\n",
    "print(f'number of components which preserve at least 99% of the variance: {len(components)}')"
   ]
  },
  {
   "cell_type": "markdown",
   "metadata": {
    "id": "AVjpvVEcxuAi"
   },
   "source": [
    "## b. Backward Selection\n",
    "In this section we will implement a backward selection algorithm, using linear regression and Mallows cp penalization. </br> \n",
    "**Reminder:** <br><br>\n",
    "$ C_p= MSE+2\\frac{d+1}{n}\\hat{\\sigma}^2$ <br><br>\n",
    "Where : $ \\hat{\\sigma}^2 = \\frac{RSS_{all features}}{n-\\#features-1} $,   and $\\#features$ is the number of all features"
   ]
  },
  {
   "cell_type": "markdown",
   "metadata": {
    "id": "y7St7-ApxuAj"
   },
   "source": [
    "### b1. implement the noise variance estimation\n",
    "implement the function get_sigma_hat_squared function which retrieves the estimate of sigma_hat_squared. <br>"
   ]
  },
  {
   "cell_type": "code",
   "execution_count": 108,
   "metadata": {
    "id": "A-k0frdGM-0Q"
   },
   "outputs": [],
   "source": [
    "def get_sigma_hat_squared(X: np.array, y: np.array) -> float:\n",
    "    \"\"\"\n",
    "    Returns sigma_hat squared - an estimate of the noise variance sigma\n",
    "    X: 2d np.array with the data.\n",
    "    y: labels\n",
    "    return: float - the sigma hat squared.\n",
    "    \"\"\"\n",
    "    LrModel = LinearRegression()\n",
    "    LrModel.fit(X, y)\n",
    "    RSS = np.sum((y - LrModel.predict(X)) ** 2)\n",
    "    sigma_hat_squared = RSS / (X.shape[0] - X.shape[1] - 1)\n",
    "    return sigma_hat_squared\n"
   ]
  },
  {
   "cell_type": "markdown",
   "metadata": {
    "id": "F9bhojyHM-0R"
   },
   "source": [
    "### b2. implement the mallows C_p scoring\n",
    "implement the function get_mallows_cp_score which retrieves the mallows Cp score for linear regression. <br>"
   ]
  },
  {
   "cell_type": "code",
   "execution_count": 109,
   "metadata": {
    "id": "ffm0qtLTM-0S"
   },
   "outputs": [],
   "source": [
    "def get_mallows_cp_score(X: np.array ,y: np.array, sigma_hat_squared: float) -> float:\n",
    "    \"\"\"\n",
    "    Returns mallow cp score for given data, selected features and train model.\n",
    "    X: 2d numpy array of data with only selected features\n",
    "    y: 1d numpy array of labels (also knows as target values)\n",
    "    sigma_hat_squared: the estimate for noise variance\n",
    "    \"\"\"\n",
    "    LrModel = LinearRegression()\n",
    "    LrModel.fit(X, y)\n",
    "    MSE = mean_squared_error(y, LrModel.predict(X))\n",
    "    Cp = MSE + 2 * (X.shape[1] + 1) * sigma_hat_squared / n\n",
    "    return Cp"
   ]
  },
  {
   "cell_type": "markdown",
   "metadata": {
    "id": "XR63a8vPxuAk"
   },
   "source": [
    "### b3. Implement comparison function\n",
    "Create a function that gets as input a list of features and returns the best subset of features, containing one less feature, according to the mallows Cp score."
   ]
  },
  {
   "cell_type": "code",
   "execution_count": 110,
   "metadata": {
    "id": "KalzywgMxuAl"
   },
   "outputs": [],
   "source": [
    "def remove_feature(X: np.array ,y: np.array ,current_features: List[int] , sigma_hat_squared: float) -> Dict:\n",
    "    \"\"\"\n",
    "    Returns dictionary with list of features including the best subset of features and the cp score of the model for that subset.\n",
    "    X: 2d np array with all the features.\n",
    "    y: 1d np array with the labels\n",
    "    current_features: list of indexes which represent the features which are already included\n",
    "    sigma_hat_squared: the estimate for noise variance\n",
    "    returns: A dictionary with 2 keys:\n",
    "            'features': a sorted list of indexes containing the features of the best model  -> current_features - [removed]\n",
    "            'score': the mallows cp score of that model\n",
    "    \"\"\"\n",
    "    best_features_lst = []\n",
    "    best_score = np.inf\n",
    "    \n",
    "    for i in current_features:\n",
    "        new_features_lst = current_features.copy()\n",
    "        new_features_lst.remove(i)\n",
    "        X_new = X[:, new_features_lst]\n",
    "        model = LinearRegression()\n",
    "        model.fit(X_new, y)\n",
    "        RSS = np.sum((y - model.predict(X_new)) ** 2)\n",
    "        d = len(new_features_lst)\n",
    "        n = X_new.shape[0]\n",
    "        Cp = RSS / n + 2 * (d + 1) * sigma_hat_squared / n\n",
    "        if Cp < best_score:\n",
    "            best_score = Cp\n",
    "            best_features_lst = new_features_lst\n",
    "            \n",
    "    return {'features':sorted(best_features_lst),'score':best_score}"
   ]
  },
  {
   "cell_type": "markdown",
   "metadata": {
    "id": "Ck4Tnc0mxuAm"
   },
   "source": [
    "### b4. Backward selection wrapper\n",
    "No need to implement anything here. When all previous functions are implemented, you should get a nice graph of the mallows C_p score w.r.t the number of features, and print number of features which were chosen"
   ]
  },
  {
   "cell_type": "code",
   "execution_count": 111,
   "metadata": {
    "id": "4mJ_wDTkxuAm"
   },
   "outputs": [],
   "source": [
    "def backward_selection(X: np.array, y: np.array) -> List[int]:\n",
    "    \"\"\"\n",
    "    returns list of indexes for the selected features\n",
    "    X: 2d numpy array with original training data\n",
    "    y: numpy vector with targets of training data\n",
    "    returns: a sorted list containing the indexes of the selected features\n",
    "    \"\"\"\n",
    "    # Calculate error on model with all features\n",
    "    sigma_hat_squared = get_sigma_hat_squared(X, y)\n",
    "    # set initial features to all features\n",
    "    current_features = list(range(X.shape[1]))\n",
    "    models_lst = []\n",
    "    #perform backward selection\n",
    "    while len(current_features) > 1:\n",
    "        # remove feature\n",
    "        model = remove_feature(X, y, current_features, sigma_hat_squared)\n",
    "        #update\n",
    "        current_features = model['features']\n",
    "        models_lst.append(model)\n",
    "    #Plotting\n",
    "    scores_lst = [x['score'] for x in models_lst]\n",
    "    plt.plot(range(1,len(scores_lst)+1),scores_lst)\n",
    "    plt.xlabel(\"number of features\")\n",
    "    plt.ylabel(\"Mallows cp\")\n",
    "    plt.title(\"Mallows Cp score VS number of features\")\n",
    "    plt.show()\n",
    "\n",
    "    #Returning features of best model, based on mcp score\n",
    "    best_model = min(models_lst, key = lambda x: x['score'])\n",
    "    best_features = best_model['features']\n",
    "    return sorted(best_features)"
   ]
  },
  {
   "cell_type": "code",
   "execution_count": 112,
   "metadata": {
    "id": "WAp9rui7xuAo",
    "outputId": "eb9fdc7f-bacb-45eb-c3f1-a5167acbb982"
   },
   "outputs": [
    {
     "data": {
      "image/png": "[encoded data removed]",
      "text/plain": [
       "<Figure size 640x480 with 1 Axes>"
      ]
     },
     "metadata": {},
     "output_type": "display_data"
    },
    {
     "name": "stdout",
     "output_type": "stream",
     "text": [
      "number of selected features by backward: 44\n"
     ]
    }
   ],
   "source": [
    "res = backward_selection(X_train,y_train)\n",
    "print(f'number of selected features by backward: {len(res)}')"
   ]
  },
  {
   "cell_type": "markdown",
   "metadata": {
    "id": "LCBuGEPqxuAp"
   },
   "source": [
    "## C. Comparison"
   ]
  },
  {
   "cell_type": "markdown",
   "metadata": {
    "id": "5zun1_F3M-0X"
   },
   "source": [
    "In the next section, we use the previous results to form new train and test sets"
   ]
  },
  {
   "cell_type": "code",
   "execution_count": 113,
   "metadata": {
    "id": "Iqhphs9ixuAp"
   },
   "outputs": [],
   "source": [
    "# calculate the test MSE for each reduced dataset\n",
    "x_backward_reduced_train = X_train[:,res]\n",
    "x_backward_reduced_test = X_test[:,res]\n",
    "\n",
    "\n",
    "# get components based on train set:\n",
    "train_components = get_principal_components(X_train,0.99)\n",
    "x_pca_train = np.dot(X_train, train_components.T)\n",
    "x_pca_test = np.dot(X_test, train_components.T)\n"
   ]
  },
  {
   "cell_type": "markdown",
   "metadata": {
    "id": "h6GpPOCoM-0Y"
   },
   "source": [
    "### C1. Results\n",
    "Using these new datasets, print the train mse & test mse of each model, and answer the question briefly. <br><br>\n",
    "To compare between the methods use Linear Regression "
   ]
  },
  {
   "cell_type": "code",
   "execution_count": 114,
   "metadata": {
    "id": "3s71GkLtM-0Z",
    "outputId": "1dc22274-66c4-4f00-a78e-47cbc56342ae"
   },
   "outputs": [
    {
     "name": "stdout",
     "output_type": "stream",
     "text": [
      "MSE train - PCA: 0.0177\n",
      "MSE test - PCA: 0.018\n",
      "MSE train - backward: 0.017\n",
      "MSE test - backward: 0.0171\n"
     ]
    }
   ],
   "source": [
    "LrModel = LinearRegression()\n",
    "LrModel_pca = LinearRegression()\n",
    "\n",
    "LrModel.fit(x_backward_reduced_train, y_train)\n",
    "LrModel_pca.fit(x_pca_train, y_train)\n",
    "\n",
    "test_mse_backward = mean_squared_error(y_test,LrModel.predict(x_backward_reduced_test))\n",
    "test_mse_pca = mean_squared_error(y_test,LrModel_pca.predict(x_pca_test))\n",
    "train_mse_backward =  mean_squared_error(y_train,LrModel.predict(x_backward_reduced_train))\n",
    "train_mse_pca = mean_squared_error(y_train,LrModel_pca.predict(x_pca_train))\n",
    "\n",
    "print(f'MSE train - PCA: {round(train_mse_pca,4)}')\n",
    "print(f'MSE test - PCA: {round(test_mse_pca,4)}')\n",
    "print(f'MSE train - backward: {round(train_mse_backward,4)}')\n",
    "print(f'MSE test - backward: {round(test_mse_backward,4)}')"
   ]
  },
  {
   "cell_type": "markdown",
   "metadata": {
    "id": "qkFcuISqxuAp"
   },
   "source": [
    "### C2. Answer below: \n",
    "Based on the results shown above and what you know, which way is better to reduce dimensionality in this case? backward with Mallows Cp, or PCA with 0.99?"
   ]
  },
  {
   "cell_type": "markdown",
   "metadata": {
    "id": "Tw6qvqKZxuAq"
   },
   "source": [
    "TODO Answer: In our case, backward selection got better results, the mse test is lower (0.0171 < 0.018), but as you can see there is no siginficant difference between them, therefore in this case we can choose both options."
   ]
  },
  {
   "cell_type": "markdown",
   "metadata": {
    "id": "P8aW6zixxuAq"
   },
   "source": [
    "# Part 2"
   ]
  },
  {
   "cell_type": "markdown",
   "metadata": {
    "id": "kKvFQiFQxuAq"
   },
   "source": [
    "The following code downloads the MNIST data set (one of the most common data set in machine learning).<br>\n",
    "It contains images of hand written digits in gray scale. The training data contains 60,000 images (6,000 from each digit), and 10,000 test set. Each image is a 28X28 pixel image (total of 784 pixels).<br>\n",
    "a few examples:<br><br>\n",
    "<img src=\"https://storage.googleapis.com/tfds-data/visualization/fig/mnist-3.0.1.png\" width=\"200\"/>\n",
    "<br>In this exercise we shall classify the digits 0 and 8. The following code downloads the data set and splits it to train  and test. The labels are changed to 0 (for 0) and 1 (for 8)"
   ]
  },
  {
   "cell_type": "code",
   "execution_count": 115,
   "metadata": {
    "id": "2196XO9KxuAr"
   },
   "outputs": [],
   "source": [
    "data, labels = fetch_openml('mnist_784', version=1, return_X_y=True, as_frame=True,parser='pandas')\n",
    "neg, pos = '0', '8'"
   ]
  },
  {
   "cell_type": "code",
   "execution_count": 116,
   "metadata": {
    "id": "9Y4CbGQIxuAr"
   },
   "outputs": [],
   "source": [
    "# Take data with 0 or 8 digits only and make labels 0 or 1 accordingly\n",
    "binary_df = data[(labels==neg)|(labels==pos)]\n",
    "binary_label = labels[(labels==neg)|(labels==pos)]\n",
    "binary_label.replace({neg:0,pos:1},inplace=True)\n",
    "\n",
    "# Convert to numpy array\n",
    "X_digits = binary_df.values\n",
    "y_digits = binary_label.astype(int).values"
   ]
  },
  {
   "cell_type": "code",
   "execution_count": 117,
   "metadata": {
    "id": "QJ_a8pNkxuAr"
   },
   "outputs": [],
   "source": [
    "train_and_validation_data,test_data,train_and_validation_labels,test_labels = train_test_split(X_digits,y_digits,\n",
    "                                                        test_size = 0.25,\n",
    "                                                        random_state= 42, \n",
    "                                                        shuffle=True,\n",
    "                                                        stratify = y_digits)\n",
    "\n",
    "#stratify means keeping equal proportions of labels in train and test"
   ]
  },
  {
   "cell_type": "code",
   "execution_count": 118,
   "metadata": {
    "id": "wp5kis-VxuAr"
   },
   "outputs": [],
   "source": [
    "# spliting train to - train and validation\n",
    "train_data,validation_data ,train_labels,validation_labels = train_test_split(train_and_validation_data,train_and_validation_labels,\n",
    "                                                        test_size = 0.2,\n",
    "                                                        random_state= 42, \n",
    "                                                        shuffle=True)"
   ]
  },
  {
   "cell_type": "code",
   "execution_count": 119,
   "metadata": {
    "id": "YdCuSIkqxuAs",
    "outputId": "cfeee6d4-e1e5-4d45-f07c-be875b5a3a03"
   },
   "outputs": [
    {
     "name": "stdout",
     "output_type": "stream",
     "text": [
      "Train dimensions:\n",
      "data: (8236, 784)\n",
      "labels: (8236,)\n",
      "validation dimensions:\n",
      "data: (2060, 784)\n",
      "labels: (2060,)\n",
      "Test dimensions:\n",
      "data: (3432, 784)\n",
      "labels(3432,)\n"
     ]
    }
   ],
   "source": [
    "print('Train dimensions:')\n",
    "print(f'data: {train_data.shape}')\n",
    "print(f'labels: {train_labels.shape}')\n",
    "\n",
    "print('validation dimensions:')\n",
    "print(f'data: {validation_data.shape}')\n",
    "print(f'labels: {validation_labels.shape}')\n",
    "\n",
    "print('Test dimensions:')\n",
    "print(f'data: {test_data.shape}')\n",
    "print(f'labels{test_labels.shape}')"
   ]
  },
  {
   "cell_type": "markdown",
   "metadata": {
    "heading_collapsed": true,
    "id": "RDA8cPNhxuAs"
   },
   "source": [
    "## To visualize a digit, we can use the following code"
   ]
  },
  {
   "cell_type": "code",
   "execution_count": 120,
   "metadata": {
    "ExecuteTime": {
     "end_time": "2021-03-30T10:44:44.401213Z",
     "start_time": "2021-03-30T10:44:44.237582Z"
    },
    "hidden": true,
    "id": "BRfZHNyrxuAt",
    "outputId": "d0047ce2-cea3-4f03-c2af-f5435149807a"
   },
   "outputs": [
    {
     "data": {
      "image/png": "[encoded data removed]",
      "text/plain": [
       "<Figure size 640x480 with 1 Axes>"
      ]
     },
     "metadata": {},
     "output_type": "display_data"
    }
   ],
   "source": [
    "digit = train_and_validation_data[0] #use the scaled data to see what actually is trained on\n",
    "plt.figure(0)\n",
    "plt.imshow(digit.reshape(28, 28), cmap=plt.cm.gray)\n",
    "plt.show()"
   ]
  },
  {
   "cell_type": "markdown",
   "metadata": {
    "id": "9M_1X3hpxuAt"
   },
   "source": [
    "## 1. LogisticRegression (lr)"
   ]
  },
  {
   "cell_type": "markdown",
   "metadata": {
    "id": "nDpxiEqFxuAt"
   },
   "source": [
    "1. Run logistic regression on the train data with 'l2' regularization (a.k.a ridge regularization) with solver='liblinear'. <br> Use the validation data to choose the best regularization parameterr C out of the given list, with respect to accuracy measure.<br> plot the validation accuracy vs the powers array (scale of C) and print the best **Lambda** value: 1/c.\n",
    "\n",
    "2. Train Logistic regression on the whole data (train+validation).\n",
    "\n",
    "3. Given that the decision boundary is 0.5, plot the confusion matrix, and print the accuracy of the train data.\n",
    "\n",
    "4. Given that the decision boundary is 0.5, plot the confusion matrix, and print the accuracy of the test data.\n",
    "\n",
    "5. Plot one missclassified 8 digit and one missclassified 0 digit.\n",
    "\n",
    "\n",
    "Comment: you may use the 'confusion_matrix' imported above from sklearn.metrics (not mandatory)"
   ]
  },
  {
   "cell_type": "code",
   "execution_count": 121,
   "metadata": {
    "ExecuteTime": {
     "end_time": "2021-05-01T14:00:56.765891Z",
     "start_time": "2021-05-01T14:00:56.761928Z"
    },
    "id": "bYBXKHCixuAu"
   },
   "outputs": [],
   "source": [
    "from sklearn.linear_model import LogisticRegression\n",
    "powers = range(-10,0)\n",
    "Cs = [10**p for p in powers] #This is the inverse value for the lambda parameter.\n",
    "#It bounds the total value of the norm, and directly reduces the hypothesis class"
   ]
  },
  {
   "cell_type": "markdown",
   "metadata": {
    "id": "_lVTswobxuAu"
   },
   "source": [
    "### Choosing the optimal `C`\n",
    "Reminder: you need to print $\\lambda = \\frac{1}{c}$"
   ]
  },
  {
   "cell_type": "code",
   "execution_count": 122,
   "metadata": {
    "ExecuteTime": {
     "end_time": "2021-05-01T14:01:00.112166Z",
     "start_time": "2021-05-01T14:00:56.768850Z"
    },
    "id": "nv4Kt4n6xuAu",
    "outputId": "01af9aa5-a7f3-4e1c-a98d-24a291172be1"
   },
   "outputs": [
    {
     "data": {
      "image/png": "[encoded data removed]",
      "text/plain": [
       "<Figure size 640x480 with 1 Axes>"
      ]
     },
     "metadata": {},
     "output_type": "display_data"
    },
    {
     "name": "stdout",
     "output_type": "stream",
     "text": [
      "The optimal lambda is:  99999.99999999999 \n",
      "( Best C: 1e-05 )\n"
     ]
    }
   ],
   "source": [
    "c_grades = []\n",
    "\n",
    "for c in Cs:\n",
    "    Clg = LogisticRegression(solver = \"liblinear\",C=c) # the default penalty is l2 so no need to add this,\n",
    "    #Inverse of regularization strength. Like in support vector machines, smaller values specify stronger regularization.\n",
    "    #I need to find the best c from Cs.\n",
    "\n",
    "    Clg.fit(train_data, train_labels) #Fit the model according to the given training data for every c.\n",
    "    c_grades.append(Clg.score(validation_data, validation_labels)) # Add to my list the mean accuracy on the given validation data and labels.\n",
    "\n",
    "plt.plot(powers, c_grades)\n",
    "plt.show()\n",
    "\n",
    "C_opt_lr = Cs[c_grades.index(max(c_grades))]\n",
    "lambda_opt_lr = 1/C_opt_lr\n",
    "print(\"The optimal lambda is: \", 1/C_opt_lr, \"\\n( Best C:\", C_opt_lr, \")\")"
   ]
  },
  {
   "cell_type": "markdown",
   "metadata": {
    "id": "EEvgOIDmxuAv"
   },
   "source": [
    "### Using the lr best model (the one with the optimal C)"
   ]
  },
  {
   "cell_type": "code",
   "execution_count": 123,
   "metadata": {
    "ExecuteTime": {
     "end_time": "2021-05-01T14:01:01.012252Z",
     "start_time": "2021-05-01T14:01:00.114732Z"
    },
    "id": "TjEl6ihDxuAv"
   },
   "outputs": [],
   "source": [
    "\n",
    "logReg = LogisticRegression(solver = \"liblinear\",C=C_opt_lr) # now choose the best c I found above\n",
    "\n",
    "logReg.fit(train_and_validation_data, train_and_validation_labels) #Fit the model on whole data.\n",
    "\n",
    "test_pred = logReg.predict(test_data)\n",
    "train_pred = logReg.predict(train_and_validation_data)\n",
    "\n"
   ]
  },
  {
   "cell_type": "code",
   "execution_count": 124,
   "metadata": {},
   "outputs": [
    {
     "name": "stdout",
     "output_type": "stream",
     "text": [
      "Test confusion Matrix: \n",
      " [[1693   12]\n",
      " [  13 1714]]\n",
      "Test Accuracy: \n",
      " 0.9927156177156177\n",
      "\n",
      "Train confusion Matrix: \n",
      " [[5104   21]\n",
      " [  15 5156]]\n",
      "Train Accuracy: \n",
      " 0.9965034965034965\n"
     ]
    }
   ],
   "source": [
    "from sklearn.metrics import confusion_matrix\n",
    "\n",
    "test_conf_mat = confusion_matrix(test_labels, test_pred)\n",
    "test_accuracy = (test_conf_mat[0, 0] + test_conf_mat[1, 1]) / test_conf_mat.sum()\n",
    "tn, fp, fn, tp = test_conf_mat.ravel()\n",
    "test_conf_mat_array = np.array([[tp,fp],[fn,tn]])\n",
    "\n",
    "print(\"Test confusion Matrix: \\n\", test_conf_mat_array)\n",
    "print(\"Test Accuracy: \\n\", test_accuracy)\n",
    "\n",
    "\n",
    "train_conf_mat = confusion_matrix(train_and_validation_labels, train_pred)\n",
    "train_accuracy = (train_conf_mat[0, 0] + train_conf_mat[1, 1]) / train_conf_mat.sum()\n",
    "tn, fp, fn, tp = train_conf_mat.ravel()\n",
    "train_conf_mat_array = np.array([[tp,fp],[fn,tn]])\n",
    "\n",
    "print(\"\\nTrain confusion Matrix: \\n\", train_conf_mat_array)\n",
    "print(\"Train Accuracy: \\n\", train_accuracy)"
   ]
  },
  {
   "cell_type": "markdown",
   "metadata": {
    "id": "kZ2drDAuxuA1"
   },
   "source": [
    "### plotting 2 missclassified digits"
   ]
  },
  {
   "cell_type": "code",
   "execution_count": 125,
   "metadata": {},
   "outputs": [
    {
     "data": {
      "image/png": "[encoded data removed]",
      "text/plain": [
       "<Figure size 640x480 with 1 Axes>"
      ]
     },
     "metadata": {},
     "output_type": "display_data"
    },
    {
     "data": {
      "image/png": "[encoded data removed]",
      "text/plain": [
       "<Figure size 640x480 with 1 Axes>"
      ]
     },
     "metadata": {},
     "output_type": "display_data"
    }
   ],
   "source": [
    "misclassified_8_test_id = np.where((test_pred!=test_labels) & (test_labels == 1))[0][0]\n",
    "misclassified_8_test_img = test_data[misclassified_8_test_id].reshape(28, 28)\n",
    "plt.title(\"Misclassified 8 digit in test data\")\n",
    "plt.imshow(misclassified_8_test_img, cmap='gray')\n",
    "plt.show()\n",
    "\n",
    "\n",
    "misclassified_0_test_id = np.where((test_pred!=test_labels) & (test_labels == 0))[0][0]\n",
    "misclassified_0_test_img = test_data[misclassified_0_test_id].reshape(28, 28)\n",
    "plt.title(\"Misclassified 0 digit in test data\")\n",
    "plt.imshow(misclassified_0_test_img, cmap='gray')\n",
    "plt.show()"
   ]
  },
  {
   "cell_type": "markdown",
   "metadata": {
    "id": "7xDU0FAtxuAx"
   },
   "source": [
    "## 2. Multi Layer Perceptron (MLP)"
   ]
  },
  {
   "cell_type": "markdown",
   "metadata": {
    "id": "8Wl3kKVnxuAy"
   },
   "source": [
    "1. Run MLP on the train data with 'l2' regularization (a.k.a ridge regularization) with the following parameters:<br>\n",
    "   `hidden_layer_sizes=(10,5), max_iter=250, solver='sgd', verbose=False, tol=1e-4, random_state=42,\n",
    "   learning_rate_init=.001, alpha=?????`<br>\n",
    "   The alpha parameter is the 'l2' coefficient (regularization strength).<br>\n",
    "   * Below you can find possible alpha values. Use the validation data to choose the best one with respect to the accuracy measure.<br>\n",
    "   * plot the validation accuracy vs alpha values (use log scale if needed)\n",
    "   * print the best alpha value.\n",
    "\n",
    "2. Train MLP on the whole data (train+validation).\n",
    "\n",
    "3. Given that the decision boundary is 0.5, plot the confusion matrix, and print the accuracy of the train data.\n",
    "\n",
    "4. Given that the decision boundary is 0.5, plot the confusion matrix, and print the accuracy of the test data.\n",
    "\n",
    "5. Plot one missclassified 8 digit and one missclassified 0 digit.\n",
    "\n",
    "*Comment1*: you may use the 'confusion_matrix' imported above from sklearn.metrics (not mandatory)<br>\n",
    "*Comment2*: to see the loss convergence between epochs, use verbose=True. Just replace it back to False before submission."
   ]
  },
  {
   "cell_type": "code",
   "execution_count": 126,
   "metadata": {
    "ExecuteTime": {
     "end_time": "2021-05-01T14:01:01.450087Z",
     "start_time": "2021-05-01T14:01:01.446647Z"
    },
    "id": "PvgOwMJExuAy"
   },
   "outputs": [],
   "source": [
    "from sklearn.neural_network import MLPClassifier\n",
    "powers = range(-2,5)\n",
    "alphas = [10**(p) for p in powers]"
   ]
  },
  {
   "cell_type": "markdown",
   "metadata": {
    "id": "Pzzn9nTPxuAy"
   },
   "source": [
    "### Choosing the optimal alpha"
   ]
  },
  {
   "cell_type": "code",
   "execution_count": 127,
   "metadata": {},
   "outputs": [
    {
     "name": "stderr",
     "output_type": "stream",
     "text": [
      "C:\\Users\\asafb\\anaconda3\\lib\\site-packages\\sklearn\\neural_network\\_multilayer_perceptron.py:684: ConvergenceWarning: Stochastic Optimizer: Maximum iterations (250) reached and the optimization hasn't converged yet.\n",
      "  warnings.warn(\n"
     ]
    }
   ],
   "source": [
    "alpha_grades = []\n",
    "\n",
    "for alpha in alphas:\n",
    "    classifier = MLPClassifier(hidden_layer_sizes=(10,5), max_iter=250, solver='sgd', verbose=False, tol=1e-4, random_state=42, \n",
    "    learning_rate_init=.001, alpha=alpha)\n",
    "    classifier.fit(train_data, train_labels)\n",
    "    alpha_grades.append(classifier.score(validation_data, validation_labels))"
   ]
  },
  {
   "cell_type": "code",
   "execution_count": 128,
   "metadata": {
    "ExecuteTime": {
     "end_time": "2021-05-01T14:01:27.301208Z",
     "start_time": "2021-05-01T14:01:01.451738Z"
    },
    "id": "h5_nydSLxuAy",
    "outputId": "dbb84997-f1a2-482f-a723-4b9b2db0ed42",
    "scrolled": true
   },
   "outputs": [
    {
     "data": {
      "image/png": "[encoded data removed]",
      "text/plain": [
       "<Figure size 640x480 with 1 Axes>"
      ]
     },
     "metadata": {},
     "output_type": "display_data"
    },
    {
     "name": "stdout",
     "output_type": "stream",
     "text": [
      "The optimal alpha is:  100\n"
     ]
    }
   ],
   "source": [
    "plt.plot(powers, alpha_grades)\n",
    "plt.show()\n",
    "\n",
    "alpha_opt_mlp = alphas[alpha_grades.index(max(alpha_grades))]\n",
    "\n",
    "print(\"The optimal alpha is: \", alpha_opt_mlp)\n"
   ]
  },
  {
   "cell_type": "markdown",
   "metadata": {
    "id": "8zDK1eK7xuAz"
   },
   "source": [
    "### Using the best MLP model"
   ]
  },
  {
   "cell_type": "code",
   "execution_count": 129,
   "metadata": {
    "ExecuteTime": {
     "end_time": "2021-04-21T13:59:09.395999Z",
     "start_time": "2021-04-21T13:59:06.354564Z"
    },
    "id": "79Kk5TtzxuAz"
   },
   "outputs": [
    {
     "name": "stderr",
     "output_type": "stream",
     "text": [
      "C:\\Users\\asafb\\anaconda3\\lib\\site-packages\\sklearn\\neural_network\\_multilayer_perceptron.py:684: ConvergenceWarning: Stochastic Optimizer: Maximum iterations (250) reached and the optimization hasn't converged yet.\n",
      "  warnings.warn(\n"
     ]
    }
   ],
   "source": [
    "MLP_classifier = MLPClassifier(hidden_layer_sizes=(10,5), max_iter=250, solver='sgd', verbose=False, tol=1e-4, random_state=42, \n",
    "    learning_rate_init=.001, alpha=alpha_opt_mlp)\n",
    "\n",
    "MLP_classifier.fit(train_and_validation_data, train_and_validation_labels) #Fit the model on whole data.\n",
    "\n",
    "test_pred = MLP_classifier.predict(test_data)\n",
    "train_pred = MLP_classifier.predict(train_and_validation_data)\n"
   ]
  },
  {
   "cell_type": "code",
   "execution_count": 130,
   "metadata": {},
   "outputs": [
    {
     "name": "stdout",
     "output_type": "stream",
     "text": [
      "Test confusion Matrix: \n",
      " [[1697   20]\n",
      " [   9 1706]]\n",
      "Test Accuracy: \n",
      " 0.9915501165501166\n",
      "\n",
      "Train confusion Matrix: \n",
      " [[5088   61]\n",
      " [  31 5116]]\n",
      "Train Accuracy: \n",
      " 0.991064491064491\n"
     ]
    }
   ],
   "source": [
    "test_conf_mat = confusion_matrix(test_labels, test_pred)\n",
    "test_accuracy = (test_conf_mat[0, 0] + test_conf_mat[1, 1]) / test_conf_mat.sum()\n",
    "tn, fp, fn, tp = test_conf_mat.ravel()\n",
    "test_conf_mat_array = np.array([[tp,fp],[fn,tn]])\n",
    "\n",
    "print(\"Test confusion Matrix: \\n\", test_conf_mat_array)\n",
    "print(\"Test Accuracy: \\n\", test_accuracy)\n",
    "\n",
    "\n",
    "train_conf_mat = confusion_matrix(train_and_validation_labels, train_pred)\n",
    "train_accuracy = (train_conf_mat[0, 0] + train_conf_mat[1, 1]) / train_conf_mat.sum()\n",
    "tn, fp, fn, tp = train_conf_mat.ravel()\n",
    "train_conf_mat_array = np.array([[tp,fp],[fn,tn]])\n",
    "\n",
    "print(\"\\nTrain confusion Matrix: \\n\", train_conf_mat_array)\n",
    "print(\"Train Accuracy: \\n\", train_accuracy)"
   ]
  },
  {
   "cell_type": "markdown",
   "metadata": {
    "id": "kZ2drDAuxuA1"
   },
   "source": [
    "### plotting 2 missclassified digits"
   ]
  },
  {
   "cell_type": "code",
   "execution_count": 131,
   "metadata": {
    "ExecuteTime": {
     "end_time": "2021-04-21T13:59:16.160679Z",
     "start_time": "2021-04-21T13:59:15.875022Z"
    },
    "id": "kKTp0_d9xuA1",
    "outputId": "a75b0ed0-5929-469a-817c-51f424df54e7"
   },
   "outputs": [
    {
     "data": {
      "image/png": "[encoded data removed]",
      "text/plain": [
       "<Figure size 640x480 with 1 Axes>"
      ]
     },
     "metadata": {},
     "output_type": "display_data"
    },
    {
     "data": {
      "image/png": "[encoded data removed]",
      "text/plain": [
       "<Figure size 640x480 with 1 Axes>"
      ]
     },
     "metadata": {},
     "output_type": "display_data"
    }
   ],
   "source": [
    "\n",
    "misclassified_8_test_id = np.where((test_pred!=test_labels) & (test_labels == 1))[0][0]\n",
    "misclassified_8_test_img = test_data[misclassified_8_test_id].reshape(28, 28)\n",
    "plt.title(\"Misclassified 8 digit in test data\")\n",
    "plt.imshow(misclassified_8_test_img, cmap='gray')\n",
    "plt.show()\n",
    "\n",
    "\n",
    "misclassified_0_test_id = np.where((test_pred!=test_labels) & (test_labels == 0))[0][0]\n",
    "misclassified_0_test_img = test_data[misclassified_0_test_id].reshape(28, 28)\n",
    "plt.title(\"Misclassified 0 digit in test data\")\n",
    "plt.imshow(misclassified_0_test_img, cmap='gray')\n",
    "plt.show()"
   ]
  }
 ],
 "metadata": {
  "anaconda-cloud": {},
  "colab": {
   "collapsed_sections": [],
   "name": "Homework 3 - Dimensionality Reduction and Model Selection - Solution.ipynb",
   "provenance": []
  },
  "kernelspec": {
   "display_name": "Python 3 (ipykernel)",
   "language": "python",
   "name": "python3"
  },
  "language_info": {
   "codemirror_mode": {
    "name": "ipython",
    "version": 3
   },
   "file_extension": ".py",
   "mimetype": "text/x-python",
   "name": "python",
   "nbconvert_exporter": "python",
   "pygments_lexer": "ipython3",
   "version": "3.9.13"
  },
  "toc": {
   "base_numbering": 1,
   "nav_menu": {},
   "number_sections": true,
   "sideBar": true,
   "skip_h1_title": false,
   "title_cell": "Table of Contents",
   "title_sidebar": "Contents",
   "toc_cell": false,
   "toc_position": {},
   "toc_section_display": true,
   "toc_window_display": true
  },
  "vscode": {
   "interpreter": {
    "hash": "d0d24260c26781aab6a6247b3ae992ece4f26fd75ea3713b7a84756a27d5e272"
   }
  }
 },
 "nbformat": 4,
 "nbformat_minor": 1
}

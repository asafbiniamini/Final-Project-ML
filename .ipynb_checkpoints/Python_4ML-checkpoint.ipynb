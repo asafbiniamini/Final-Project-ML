{
 "cells": [
  {
   "cell_type": "markdown",
   "metadata": {
    "id": "bpRIU0Xhn3xo"
   },
   "source": [
    "<center><br><font size=10>Python for ML</font><br>\n",
    "<b>Introduction to Machine Learning</b>\n",
    "<br><br>\n",
    "<b>Author</b>: Ilan Vasilevsky - ilanv@mail.tau.ac.il\n",
    "<br><i>Spring 2022</i></center>"
   ]
  },
  {
   "cell_type": "markdown",
   "metadata": {
    "id": "5X1Sr4WxS8df"
   },
   "source": [
    "In the following notebook, we will learn some essential tools necessary for machine learning projects. <br>\n",
    "We will focus mainly on Numpy and Pandas libraries.\n",
    "\n"
   ]
  },
  {
   "cell_type": "markdown",
   "metadata": {
    "id": "AulfFAo7ny5r"
   },
   "source": [
    "# Intro to Numpy\n",
    "\n",
    "<img src=\"https://numpy.org/images/logo.svg\" width=100>\n",
    "\n",
    "NumPy is a Python library for creating and manipulating vectors and matrices. <br><br>\n",
    "The following Section will not go through all the features provided with NumPy. Instead, this notebook will lay out the essential tools for assignments and the project in our course. "
   ]
  },
  {
   "cell_type": "markdown",
   "metadata": {
    "id": "oCtcUStrS8dg"
   },
   "source": [
    "So, what is so good in np?\n",
    "\n",
    "it is being used as an input for all ML algorithms in TensorFlow, Keras, Scikit-Learn, it is kind of \"Vector Programming\" that will be explained here"
   ]
  },
  {
   "cell_type": "markdown",
   "metadata": {
    "id": "wzwFdf4s6PBT"
   },
   "source": [
    "### Import NumPy\n",
    "The following code will import the NumPy module:"
   ]
  },
  {
   "cell_type": "code",
   "execution_count": 2,
   "metadata": {
    "executionInfo": {
     "elapsed": 386,
     "status": "ok",
     "timestamp": 1635236640932,
     "user": {
      "displayName": "Ilan Vasilevsky",
      "photoUrl": "https://lh3.googleusercontent.com/a-/AOh14GguyxPxQM0_RGlxWIPJAwj0FMVfxWgPlwWl0QT3=s64",
      "userId": "01351641955183714281"
     },
     "user_tz": -180
    },
    "id": "IGMPZU60wpE_"
   },
   "outputs": [],
   "source": [
    "import numpy as np"
   ]
  },
  {
   "cell_type": "markdown",
   "metadata": {
    "id": "j7DOt7iwS8dh"
   },
   "source": [
    "### An numpy object is an N-dimensional array, mostly with 1 (vector), 2 (matrix) or 3 (cube) or even more.\n",
    "There are few ways to set an N - Dimensional array\n",
    "\n",
    "Lists and nested lists"
   ]
  },
  {
   "cell_type": "code",
   "execution_count": 3,
   "metadata": {
    "colab": {
     "base_uri": "https://localhost:8080/"
    },
    "executionInfo": {
     "elapsed": 515,
     "status": "ok",
     "timestamp": 1635236641974,
     "user": {
      "displayName": "Ilan Vasilevsky",
      "photoUrl": "https://lh3.googleusercontent.com/a-/AOh14GguyxPxQM0_RGlxWIPJAwj0FMVfxWgPlwWl0QT3=s64",
      "userId": "01351641955183714281"
     },
     "user_tz": -180
    },
    "id": "LWaKmIKhS8di",
    "outputId": "ee58a263-e081-4d70-c867-059da4b6252e"
   },
   "outputs": [
    {
     "name": "stdout",
     "output_type": "stream",
     "text": [
      "vector: [1 2 3 4 5]\n",
      "matrix: \n",
      "[[ 1  2  3  4  5]\n",
      " [ 6  7  8  9 10]\n",
      " [11 12 13 14 15]\n",
      " [16 17 18 19 20]\n",
      " [21 22 23 24 25]]\n"
     ]
    }
   ],
   "source": [
    "vector = np.array([1,2,3,4,5]) #List\n",
    "matrix = np.array([[1,2,3,4,5], \n",
    "                   [6,7,8,9,10],\n",
    "                   [11,12,13,14,15],\n",
    "                   [16,17,18,19,20],\n",
    "                   [21,22,23,24,25]]) #List of lists\n",
    "cube = '' #Can be either list of list of list of lists...\n",
    "print(f\"vector: {vector}\")\n",
    "print(f\"matrix: \\n{matrix}\")"
   ]
  },
  {
   "cell_type": "markdown",
   "metadata": {
    "id": "Q8k7PqzyS8dj"
   },
   "source": [
    "Or some functions in python (arange, random, etc...)"
   ]
  },
  {
   "cell_type": "code",
   "execution_count": 4,
   "metadata": {
    "colab": {
     "base_uri": "https://localhost:8080/"
    },
    "executionInfo": {
     "elapsed": 28,
     "status": "ok",
     "timestamp": 1635236641975,
     "user": {
      "displayName": "Ilan Vasilevsky",
      "photoUrl": "https://lh3.googleusercontent.com/a-/AOh14GguyxPxQM0_RGlxWIPJAwj0FMVfxWgPlwWl0QT3=s64",
      "userId": "01351641955183714281"
     },
     "user_tz": -180
    },
    "id": "7gzHM_7-S8dj",
    "outputId": "edac009b-552e-45ba-8072-26e604e8da95"
   },
   "outputs": [
    {
     "name": "stdout",
     "output_type": "stream",
     "text": [
      "matrix: \n",
      "[[ 0  1  2  3  4  5  6  7  8  9]\n",
      " [10 11 12 13 14 15 16 17 18 19]\n",
      " [20 21 22 23 24 25 26 27 28 29]\n",
      " [30 31 32 33 34 35 36 37 38 39]\n",
      " [40 41 42 43 44 45 46 47 48 49]\n",
      " [50 51 52 53 54 55 56 57 58 59]\n",
      " [60 61 62 63 64 65 66 67 68 69]\n",
      " [70 71 72 73 74 75 76 77 78 79]\n",
      " [80 81 82 83 84 85 86 87 88 89]\n",
      " [90 91 92 93 94 95 96 97 98 99]]\n",
      "--------------------------------------\n",
      "vector: [0 1 2 3 4 5 6 7 8 9]\n"
     ]
    }
   ],
   "source": [
    "vector = np.arange(10) #10 serial numbers across one dimension\n",
    "matrix = np.arange(100).reshape(10,10) #10X10 serial numbers across 2 dimension\n",
    "cube= np.random.random(1000).reshape(10,10,10) #10X10X10 uniformed random numbers across 3 dimension\n",
    "\n",
    "print(f\"matrix: \\n{matrix}\")\n",
    "print('--------------------------------------')\n",
    "print(f\"vector: {vector}\")"
   ]
  },
  {
   "cell_type": "markdown",
   "metadata": {
    "id": "wCrKDVsGS8dk"
   },
   "source": [
    "## Shape, Dimensionality and Indexing"
   ]
  },
  {
   "cell_type": "code",
   "execution_count": 5,
   "metadata": {
    "colab": {
     "base_uri": "https://localhost:8080/"
    },
    "executionInfo": {
     "elapsed": 26,
     "status": "ok",
     "timestamp": 1635236641975,
     "user": {
      "displayName": "Ilan Vasilevsky",
      "photoUrl": "https://lh3.googleusercontent.com/a-/AOh14GguyxPxQM0_RGlxWIPJAwj0FMVfxWgPlwWl0QT3=s64",
      "userId": "01351641955183714281"
     },
     "user_tz": -180
    },
    "id": "ivJbmjMXS8dk",
    "outputId": "a93a03d3-cf8b-4521-9bc2-675f9d470217"
   },
   "outputs": [
    {
     "name": "stdout",
     "output_type": "stream",
     "text": [
      "Shape: (10, 10)\n",
      "NDim: 2\n",
      "Size: 100\n"
     ]
    }
   ],
   "source": [
    "# Check the dimensionality of the array:\n",
    "print(f'Shape: {matrix.shape}')\n",
    "print(f'NDim: {matrix.ndim}')\n",
    "#Check size of array \n",
    "print (f'Size: {matrix.size}') #return the total size: product of all shape arguments.\n"
   ]
  },
  {
   "cell_type": "markdown",
   "metadata": {
    "id": "vWn76TBCS8dk"
   },
   "source": [
    "As you see, ndim returns the number of dimensions. The shape is returned as a tuple, the length of which is the number of dimensions, while the values represent the number of elements in each dimensions."
   ]
  },
  {
   "cell_type": "markdown",
   "metadata": {
    "id": "OAMZk4F8S8dl"
   },
   "source": [
    "### Note:\n",
    "\n",
    "to the variable named s we will assign  <B>Scalars</B> <br>\n",
    "to the variable named v we will assign <B>Vectors</B> <br>\n",
    "to the variable named m we will assign <B>Matrices</B> <br>\n",
    "to the variable named c we will assign <B>Cubes</B>"
   ]
  },
  {
   "cell_type": "markdown",
   "metadata": {
    "id": "pn4fPAoyS8dl"
   },
   "source": [
    "The np objects (ndarray) can be sliced, diced, indexed and so on"
   ]
  },
  {
   "cell_type": "code",
   "execution_count": 6,
   "metadata": {
    "colab": {
     "base_uri": "https://localhost:8080/"
    },
    "executionInfo": {
     "elapsed": 24,
     "status": "ok",
     "timestamp": 1635236641975,
     "user": {
      "displayName": "Ilan Vasilevsky",
      "photoUrl": "https://lh3.googleusercontent.com/a-/AOh14GguyxPxQM0_RGlxWIPJAwj0FMVfxWgPlwWl0QT3=s64",
      "userId": "01351641955183714281"
     },
     "user_tz": -180
    },
    "id": "JuaEgpYgS8dl",
    "outputId": "5b9330ce-2ae1-494d-dea1-45dea8bdea88"
   },
   "outputs": [
    {
     "name": "stdout",
     "output_type": "stream",
     "text": [
      "[0 1 2 3 4 5 6 7 8 9]\n",
      "[0 1 2]\n",
      "---\n",
      "[3 4 5 6 7 8 9]\n",
      "---\n"
     ]
    }
   ],
   "source": [
    "v = vector[:3] #first 3 items\n",
    "print (vector)\n",
    "print (v)\n",
    "print (\"---\")\n",
    "v = vector[3:] #everything except first 3 items\n",
    "print (v)\n",
    "print (\"---\")"
   ]
  },
  {
   "cell_type": "markdown",
   "metadata": {
    "id": "-w8M0WxsS8dm"
   },
   "source": [
    "In 2 dimesions np objects, we will use 2 slicing"
   ]
  },
  {
   "cell_type": "code",
   "execution_count": 7,
   "metadata": {
    "colab": {
     "base_uri": "https://localhost:8080/"
    },
    "executionInfo": {
     "elapsed": 22,
     "status": "ok",
     "timestamp": 1635236641975,
     "user": {
      "displayName": "Ilan Vasilevsky",
      "photoUrl": "https://lh3.googleusercontent.com/a-/AOh14GguyxPxQM0_RGlxWIPJAwj0FMVfxWgPlwWl0QT3=s64",
      "userId": "01351641955183714281"
     },
     "user_tz": -180
    },
    "id": "7h36e1R4S8dm",
    "outputId": "6a1fddca-1558-4737-a300-2667169123cf"
   },
   "outputs": [
    {
     "name": "stdout",
     "output_type": "stream",
     "text": [
      "[[ 0  1  2  3  4  5  6  7  8  9]\n",
      " [10 11 12 13 14 15 16 17 18 19]\n",
      " [20 21 22 23 24 25 26 27 28 29]\n",
      " [30 31 32 33 34 35 36 37 38 39]\n",
      " [40 41 42 43 44 45 46 47 48 49]\n",
      " [50 51 52 53 54 55 56 57 58 59]\n",
      " [60 61 62 63 64 65 66 67 68 69]\n",
      " [70 71 72 73 74 75 76 77 78 79]\n",
      " [80 81 82 83 84 85 86 87 88 89]\n",
      " [90 91 92 93 94 95 96 97 98 99]]\n",
      "-------------\n",
      "[[32 33]\n",
      " [42 43]\n",
      " [52 53]\n",
      " [62 63]]\n"
     ]
    }
   ],
   "source": [
    "m = matrix[3:7, 2:4] #sliced matrix includes rows 3,4,5,6 and cols 2,3.\n",
    "print (matrix)\n",
    "print (\"-------------\")\n",
    "print (m)"
   ]
  },
  {
   "cell_type": "code",
   "execution_count": 8,
   "metadata": {
    "colab": {
     "base_uri": "https://localhost:8080/"
    },
    "executionInfo": {
     "elapsed": 22,
     "status": "ok",
     "timestamp": 1635236641976,
     "user": {
      "displayName": "Ilan Vasilevsky",
      "photoUrl": "https://lh3.googleusercontent.com/a-/AOh14GguyxPxQM0_RGlxWIPJAwj0FMVfxWgPlwWl0QT3=s64",
      "userId": "01351641955183714281"
     },
     "user_tz": -180
    },
    "id": "O3AGqK5XS8dm",
    "outputId": "7baedf1c-2eaa-434a-c9bf-5b98b3cc94ef"
   },
   "outputs": [
    {
     "name": "stdout",
     "output_type": "stream",
     "text": [
      "[[ 2  3]\n",
      " [12 13]\n",
      " [22 23]\n",
      " [32 33]\n",
      " [42 43]\n",
      " [52 53]\n",
      " [62 63]\n",
      " [72 73]\n",
      " [82 83]\n",
      " [92 93]]\n"
     ]
    }
   ],
   "source": [
    "m = matrix[:, 2:4] #sliced matrix includes ALL ROWS and cols 2,3\n",
    "print (m)"
   ]
  },
  {
   "cell_type": "markdown",
   "metadata": {
    "id": "qvOGMVEPS8dn"
   },
   "source": [
    "Alternativly, we can create a sub matrix with specific indices"
   ]
  },
  {
   "cell_type": "code",
   "execution_count": 9,
   "metadata": {
    "colab": {
     "base_uri": "https://localhost:8080/"
    },
    "executionInfo": {
     "elapsed": 20,
     "status": "ok",
     "timestamp": 1635236641976,
     "user": {
      "displayName": "Ilan Vasilevsky",
      "photoUrl": "https://lh3.googleusercontent.com/a-/AOh14GguyxPxQM0_RGlxWIPJAwj0FMVfxWgPlwWl0QT3=s64",
      "userId": "01351641955183714281"
     },
     "user_tz": -180
    },
    "id": "gA5aBfONS8dn",
    "outputId": "deb6c91f-d24e-40ef-8ddd-4db70b226023"
   },
   "outputs": [
    {
     "name": "stdout",
     "output_type": "stream",
     "text": [
      "[[10 11 12 13 14 15 16 17 18 19]\n",
      " [50 51 52 53 54 55 56 57 58 59]\n",
      " [60 61 62 63 64 65 66 67 68 69]]\n",
      "-------------\n",
      "(3, 10)\n"
     ]
    }
   ],
   "source": [
    "m = matrix[[1,5,6], :] #alternative syntax: we give a list of indecies to slice using them\n",
    "print (m)\n",
    "print('-------------')\n",
    "print (m.shape)"
   ]
  },
  {
   "cell_type": "markdown",
   "metadata": {
    "id": "2D0X2H08k6ts"
   },
   "source": [
    "We can re-assign values to a given matrix"
   ]
  },
  {
   "cell_type": "code",
   "execution_count": 10,
   "metadata": {
    "colab": {
     "base_uri": "https://localhost:8080/"
    },
    "executionInfo": {
     "elapsed": 19,
     "status": "ok",
     "timestamp": 1635236641976,
     "user": {
      "displayName": "Ilan Vasilevsky",
      "photoUrl": "https://lh3.googleusercontent.com/a-/AOh14GguyxPxQM0_RGlxWIPJAwj0FMVfxWgPlwWl0QT3=s64",
      "userId": "01351641955183714281"
     },
     "user_tz": -180
    },
    "id": "FwCnXMa7k6tt",
    "outputId": "6956f148-e239-4f37-be65-fe0bfe730752"
   },
   "outputs": [
    {
     "name": "stdout",
     "output_type": "stream",
     "text": [
      "[[   0    1    2    3    4    5    6    7    8    9]\n",
      " [  10   11   12   13 1000 1000 1000   17   18   19]\n",
      " [  20   21   22   23 1000 1000 1000   27   28   29]\n",
      " [  30   31   32   33 1000 1000 1000   37   38   39]\n",
      " [  40   41   42   43   44   45   46   47   48   49]\n",
      " [  50   51   52   53   54   55   56  900   58   59]\n",
      " [  60   61   62   63   64   65   66   67   68   69]\n",
      " [  70   71   72   73   74   75   76   77   78   79]\n",
      " [  80   81   82   83   84   85   86   87   88   89]\n",
      " [  90   91   92   93   94   95   96   97   98   99]]\n"
     ]
    }
   ],
   "source": [
    "matrix[5,7] = 900 #row 5, column 7\n",
    "matrix[1:4,4:7] = 1000\n",
    "print (matrix)"
   ]
  },
  {
   "cell_type": "markdown",
   "metadata": {
    "id": "ohzv9qpKS8dn"
   },
   "source": [
    "If you don't give a range (or a list) as an index, the np object will be PROJECTED\n",
    "\n",
    "and the number of dimensions will be reduced."
   ]
  },
  {
   "cell_type": "code",
   "execution_count": 11,
   "metadata": {
    "colab": {
     "base_uri": "https://localhost:8080/"
    },
    "executionInfo": {
     "elapsed": 18,
     "status": "ok",
     "timestamp": 1635236641977,
     "user": {
      "displayName": "Ilan Vasilevsky",
      "photoUrl": "https://lh3.googleusercontent.com/a-/AOh14GguyxPxQM0_RGlxWIPJAwj0FMVfxWgPlwWl0QT3=s64",
      "userId": "01351641955183714281"
     },
     "user_tz": -180
    },
    "id": "UJ-PNjwsS8dn",
    "outputId": "d542434d-fece-4019-ca13-7886749abccd"
   },
   "outputs": [
    {
     "name": "stdout",
     "output_type": "stream",
     "text": [
      "[3 4 5]\n",
      "(3,)\n",
      "1\n"
     ]
    }
   ],
   "source": [
    "v = matrix[0, 3:6] #This isn't a matrix anymore, its a VECTOR. \n",
    "print (v)\n",
    "print (v.shape)\n",
    "print (v.ndim)"
   ]
  },
  {
   "cell_type": "markdown",
   "metadata": {
    "id": "VFujITsVS8do"
   },
   "source": [
    "Here is the confusing part, matrix not projected is still a matrix with 2 dimensions.\n",
    "however, 1 of the dimensions's length is 1."
   ]
  },
  {
   "cell_type": "code",
   "execution_count": 12,
   "metadata": {
    "colab": {
     "base_uri": "https://localhost:8080/"
    },
    "executionInfo": {
     "elapsed": 16,
     "status": "ok",
     "timestamp": 1635236641977,
     "user": {
      "displayName": "Ilan Vasilevsky",
      "photoUrl": "https://lh3.googleusercontent.com/a-/AOh14GguyxPxQM0_RGlxWIPJAwj0FMVfxWgPlwWl0QT3=s64",
      "userId": "01351641955183714281"
     },
     "user_tz": -180
    },
    "id": "kxZePzRUS8do",
    "outputId": "4a6cc89f-bc96-4317-ca23-40c1df1d1da9"
   },
   "outputs": [
    {
     "name": "stdout",
     "output_type": "stream",
     "text": [
      "[[3 4 5]]\n",
      "(1, 3)\n",
      "2\n"
     ]
    }
   ],
   "source": [
    "m = matrix[0:1, 3:6] #It is still a matrix. \n",
    "print (m)\n",
    "print (m.shape)\n",
    "print (m.ndim)"
   ]
  },
  {
   "cell_type": "markdown",
   "metadata": {
    "id": "w46o6m8HS8do"
   },
   "source": [
    "Make sure you hold the right type of frame, since there is a big difference between vector and one dimensional matrix"
   ]
  },
  {
   "cell_type": "code",
   "execution_count": 13,
   "metadata": {
    "colab": {
     "base_uri": "https://localhost:8080/"
    },
    "executionInfo": {
     "elapsed": 15,
     "status": "ok",
     "timestamp": 1635236641977,
     "user": {
      "displayName": "Ilan Vasilevsky",
      "photoUrl": "https://lh3.googleusercontent.com/a-/AOh14GguyxPxQM0_RGlxWIPJAwj0FMVfxWgPlwWl0QT3=s64",
      "userId": "01351641955183714281"
     },
     "user_tz": -180
    },
    "id": "f8o-2lirS8do",
    "outputId": "7a173eb3-0445-422b-a11f-9bb86d6e983b"
   },
   "outputs": [
    {
     "name": "stdout",
     "output_type": "stream",
     "text": [
      "shape from list a: (4,)\n",
      "shape from list b: (1, 4)\n"
     ]
    }
   ],
   "source": [
    "a = [6,2,4,3]\n",
    "b=[[6,2,4,3]]\n",
    "v = np.array(a)\n",
    "m = np.array(b)\n",
    "\n",
    "print(f\"shape from list a: {v.shape}\")\n",
    "print(f\"shape from list b: {m.shape}\")\n"
   ]
  },
  {
   "cell_type": "markdown",
   "metadata": {
    "id": "pEAD22nxS8do"
   },
   "source": [
    "Example where **vector** *vs* **matrix** matters:"
   ]
  },
  {
   "cell_type": "code",
   "execution_count": 14,
   "metadata": {
    "colab": {
     "base_uri": "https://localhost:8080/"
    },
    "executionInfo": {
     "elapsed": 13,
     "status": "ok",
     "timestamp": 1635236641977,
     "user": {
      "displayName": "Ilan Vasilevsky",
      "photoUrl": "https://lh3.googleusercontent.com/a-/AOh14GguyxPxQM0_RGlxWIPJAwj0FMVfxWgPlwWl0QT3=s64",
      "userId": "01351641955183714281"
     },
     "user_tz": -180
    },
    "id": "WGx0nHe4S8dp",
    "outputId": "0559276d-755b-4185-f0a6-b11e0dcf3f02"
   },
   "outputs": [
    {
     "name": "stdout",
     "output_type": "stream",
     "text": [
      "Original:\n",
      "[[2 3 6 9]]\n",
      "-----\n",
      "Transposed:\n",
      "[[2]\n",
      " [3]\n",
      " [6]\n",
      " [9]]\n",
      "-----\n",
      "[[2]\n",
      " [3]\n",
      " [6]\n",
      " [9]]\n",
      "-----\n",
      "original shape: (1, 4)\n",
      "transposed shape: (4, 1)\n"
     ]
    }
   ],
   "source": [
    "lst1 = [2,3,6,9]\n",
    "v = np.array(lst1)\n",
    "m = np.array([lst1]) #notice the []\n",
    "m2 = np.array(lst1).reshape(1,4)\n",
    "print('Original:')\n",
    "print(m2)\n",
    "print('-----')\n",
    "print('Transposed:')\n",
    "print (m.T) #transpose operation\n",
    "print('-----')\n",
    "print(m2.transpose()) #same operation but different syntax\n",
    "print('-----')\n",
    "print(f'original shape: {m.shape}')\n",
    "print(f'transposed shape: {m.T.shape}')"
   ]
  },
  {
   "cell_type": "code",
   "execution_count": 15,
   "metadata": {
    "colab": {
     "base_uri": "https://localhost:8080/"
    },
    "executionInfo": {
     "elapsed": 13,
     "status": "ok",
     "timestamp": 1635236641978,
     "user": {
      "displayName": "Ilan Vasilevsky",
      "photoUrl": "https://lh3.googleusercontent.com/a-/AOh14GguyxPxQM0_RGlxWIPJAwj0FMVfxWgPlwWl0QT3=s64",
      "userId": "01351641955183714281"
     },
     "user_tz": -180
    },
    "id": "ASYthIHsS8dp",
    "outputId": "39dcb311-7ded-45bf-9863-27a745757f1c"
   },
   "outputs": [
    {
     "name": "stdout",
     "output_type": "stream",
     "text": [
      "[2 3 6 9]\n",
      "original shape: (4,)\n",
      "transposed shape: (4,)\n"
     ]
    }
   ],
   "source": [
    "v_new = v.transpose()\n",
    "print(v_new)\n",
    "print(f'original shape: {v.shape}')\n",
    "print(f'transposed shape: {v_new.shape}')"
   ]
  },
  {
   "cell_type": "markdown",
   "metadata": {
    "id": "uHy0WIlpS8dp"
   },
   "source": [
    "Later in the course, we will see that the sklearn, our python machine learning pacakage, get y as a vector (one dimensional) and X as a matrix (two dimensional) even though we might have only one feature."
   ]
  },
  {
   "cell_type": "markdown",
   "metadata": {
    "id": "qmuWc6_OS8dp"
   },
   "source": [
    "#### Important functions for creating pre-built numpy arrays"
   ]
  },
  {
   "cell_type": "code",
   "execution_count": 16,
   "metadata": {
    "colab": {
     "base_uri": "https://localhost:8080/"
    },
    "executionInfo": {
     "elapsed": 11,
     "status": "ok",
     "timestamp": 1635236641978,
     "user": {
      "displayName": "Ilan Vasilevsky",
      "photoUrl": "https://lh3.googleusercontent.com/a-/AOh14GguyxPxQM0_RGlxWIPJAwj0FMVfxWgPlwWl0QT3=s64",
      "userId": "01351641955183714281"
     },
     "user_tz": -180
    },
    "id": "K5IyRx3FS8dp",
    "outputId": "fa9a1405-8c35-4003-ea86-4efe207c6231"
   },
   "outputs": [
    {
     "name": "stdout",
     "output_type": "stream",
     "text": [
      "[[0. 0. 0. 0.]\n",
      " [0. 0. 0. 0.]\n",
      " [0. 0. 0. 0.]\n",
      " [0. 0. 0. 0.]\n",
      " [0. 0. 0. 0.]\n",
      " [0. 0. 0. 0.]]\n",
      "----\n",
      "[1. 1. 1. 1. 1. 1. 1. 1.]\n",
      "----\n",
      "[ 1.   1.5  2.   2.5  3.   3.5  4.   4.5  5.   5.5  6.   6.5  7.   7.5\n",
      "  8.   8.5  9.   9.5 10. ]\n",
      "----\n",
      "[[1. 0. 0. 0. 0.]\n",
      " [0. 1. 0. 0. 0.]\n",
      " [0. 0. 1. 0. 0.]\n",
      " [0. 0. 0. 1. 0.]\n",
      " [0. 0. 0. 0. 1.]]\n"
     ]
    }
   ],
   "source": [
    "print (np.zeros((6,4))) #6X4 matrix full of zeros.\n",
    "print (\"----\")\n",
    "print (np.ones((8))) #8 size vector full of ones.\n",
    "print (\"----\")\n",
    "print (np.linspace(1,10, 19)) #Starts with 1, ends with 10, there are 19 numbers inside.\n",
    "print (\"----\")\n",
    "print (np.eye(5)) #\"I\" Matrix, remember?"
   ]
  },
  {
   "cell_type": "markdown",
   "metadata": {
    "id": "kyWLeG0mS8dp"
   },
   "source": [
    "One great thing that can be done using numpy, is per-element function"
   ]
  },
  {
   "cell_type": "code",
   "execution_count": 17,
   "metadata": {
    "colab": {
     "base_uri": "https://localhost:8080/"
    },
    "executionInfo": {
     "elapsed": 10,
     "status": "ok",
     "timestamp": 1635236641978,
     "user": {
      "displayName": "Ilan Vasilevsky",
      "photoUrl": "https://lh3.googleusercontent.com/a-/AOh14GguyxPxQM0_RGlxWIPJAwj0FMVfxWgPlwWl0QT3=s64",
      "userId": "01351641955183714281"
     },
     "user_tz": -180
    },
    "id": "c_6uAfNGS8dq",
    "outputId": "acfe2edf-4cfe-442b-e061-0e2037a336c8"
   },
   "outputs": [
    {
     "name": "stdout",
     "output_type": "stream",
     "text": [
      "oririnal matrix:\n",
      " [[1 1 1]\n",
      " [2 2 2]]\n",
      "----\n",
      "[[2 2 2]\n",
      " [3 3 3]]\n",
      "----\n",
      "[[2 2 2]\n",
      " [4 4 4]]\n"
     ]
    }
   ],
   "source": [
    "m = np.array([[1,1,1],[2,2,2]])\n",
    "print(f\"oririnal matrix:\\n {m}\")\n",
    "print (\"----\")\n",
    "print (1+m) #adds one to ALL elements in our matrix\n",
    "print (\"----\")\n",
    "print (m*2) #multiplies all elements by 2"
   ]
  },
  {
   "cell_type": "markdown",
   "metadata": {
    "id": "DqWfvwqIS8dq"
   },
   "source": [
    "## Boolean masking"
   ]
  },
  {
   "cell_type": "markdown",
   "metadata": {
    "id": "H4rV78clS8dq"
   },
   "source": [
    "You can also check in a np object for a condition, \n",
    "it creates a boolean np object"
   ]
  },
  {
   "cell_type": "code",
   "execution_count": 18,
   "metadata": {
    "colab": {
     "base_uri": "https://localhost:8080/"
    },
    "executionInfo": {
     "elapsed": 558,
     "status": "ok",
     "timestamp": 1635236642528,
     "user": {
      "displayName": "Ilan Vasilevsky",
      "photoUrl": "https://lh3.googleusercontent.com/a-/AOh14GguyxPxQM0_RGlxWIPJAwj0FMVfxWgPlwWl0QT3=s64",
      "userId": "01351641955183714281"
     },
     "user_tz": -180
    },
    "id": "mhZejrN-S8dq",
    "outputId": "a82bcc42-c429-4627-ef3e-9164bb459fb9"
   },
   "outputs": [
    {
     "name": "stdout",
     "output_type": "stream",
     "text": [
      "oririnal matrix:\n",
      " [[ 4  2  6]\n",
      " [ 3  9 11]]\n",
      "boolean mask:\n",
      " [[False False False]\n",
      " [False  True  True]]\n",
      "----\n",
      "original vector: [0 1 2 3 4 5 6 7 8 9]\n",
      "[False False False False False False False  True False False]\n"
     ]
    }
   ],
   "source": [
    "m = np.array([[4,2,6],[3,9,11]])\n",
    "print(f\"oririnal matrix:\\n {m}\")\n",
    "m_mask = m>7\n",
    "print(f\"boolean mask:\\n {m_mask}\")\n",
    "print (\"----\")\n",
    "v_mask = vector==7\n",
    "print(f\"original vector: {vector}\")\n",
    "print (v_mask)"
   ]
  },
  {
   "cell_type": "markdown",
   "metadata": {
    "id": "8M52x7O_S8dq"
   },
   "source": [
    "The most important parts about bool objects, can be used as slicers and make it kind of a filter"
   ]
  },
  {
   "cell_type": "code",
   "execution_count": 37,
   "metadata": {
    "colab": {
     "base_uri": "https://localhost:8080/"
    },
    "executionInfo": {
     "elapsed": 34,
     "status": "ok",
     "timestamp": 1635236642529,
     "user": {
      "displayName": "Ilan Vasilevsky",
      "photoUrl": "https://lh3.googleusercontent.com/a-/AOh14GguyxPxQM0_RGlxWIPJAwj0FMVfxWgPlwWl0QT3=s64",
      "userId": "01351641955183714281"
     },
     "user_tz": -180
    },
    "id": "DTKwPC4WS8dq",
    "outputId": "34725137-6357-4713-f6d2-a3ff3c078ea6"
   },
   "outputs": [
    {
     "name": "stdout",
     "output_type": "stream",
     "text": [
      "[ True False  True False  True False  True False  True False]\n",
      "[0 2 4 6 8]\n"
     ]
    }
   ],
   "source": [
    "v_mask = vector % 2 == 0\n",
    "print(v_mask)\n",
    "print(vector[v_mask]) #returns all of the items that satisfy the condition"
   ]
  },
  {
   "cell_type": "markdown",
   "metadata": {
    "id": "Pi2chUmFk6tt"
   },
   "source": [
    "### Exercise 2: Given a 1D array, negate all elements which are between 3 and 8, in place."
   ]
  },
  {
   "cell_type": "code",
   "execution_count": 38,
   "metadata": {
    "colab": {
     "base_uri": "https://localhost:8080/"
    },
    "executionInfo": {
     "elapsed": 32,
     "status": "ok",
     "timestamp": 1635236642529,
     "user": {
      "displayName": "Ilan Vasilevsky",
      "photoUrl": "https://lh3.googleusercontent.com/a-/AOh14GguyxPxQM0_RGlxWIPJAwj0FMVfxWgPlwWl0QT3=s64",
      "userId": "01351641955183714281"
     },
     "user_tz": -180
    },
    "id": "aH6ywwRjk6tt",
    "outputId": "4497c1d6-3221-441a-b525-86f5420812ce",
    "scrolled": true
   },
   "outputs": [
    {
     "data": {
      "text/plain": [
       "array([4, 5, 6, 7, 8])"
      ]
     },
     "execution_count": 38,
     "metadata": {},
     "output_type": "execute_result"
    }
   ],
   "source": [
    "q1 = np.arange(11)\n",
    "q1[(3 < q1) & (q1 <= 8)] "
   ]
  },
  {
   "cell_type": "markdown",
   "metadata": {
    "id": "9KWIsZ0eS8dr"
   },
   "source": [
    "## Mathematical operations"
   ]
  },
  {
   "cell_type": "markdown",
   "metadata": {
    "id": "iWwo3sq8S8dr"
   },
   "source": [
    "#### 2 vectors operations"
   ]
  },
  {
   "cell_type": "code",
   "execution_count": 39,
   "metadata": {
    "colab": {
     "base_uri": "https://localhost:8080/"
    },
    "executionInfo": {
     "elapsed": 30,
     "status": "ok",
     "timestamp": 1635236642529,
     "user": {
      "displayName": "Ilan Vasilevsky",
      "photoUrl": "https://lh3.googleusercontent.com/a-/AOh14GguyxPxQM0_RGlxWIPJAwj0FMVfxWgPlwWl0QT3=s64",
      "userId": "01351641955183714281"
     },
     "user_tz": -180
    },
    "id": "t95KwYFDS8dr",
    "outputId": "5f2d9615-6d63-4729-bdae-52ec03f05a89"
   },
   "outputs": [
    {
     "name": "stdout",
     "output_type": "stream",
     "text": [
      "substraction: [ 1  0 -1 -1]\n",
      "multiplication (element wise): [ 2  4  6 12]\n",
      "----\n",
      "24\n"
     ]
    }
   ],
   "source": [
    "v1 = np.array([1,2,3,4])\n",
    "v2 = np.array([2, 2, 2, 3])\n",
    "v_sub = v2-v1\n",
    "v_mul  = v1*v2\n",
    "print (f'substraction: {v_sub}')\n",
    "print (f'multiplication (element wise): {v_mul}')\n",
    "print (\"----\")\n",
    "\n",
    "s =  np.dot(v1, v2) #inner product - scalar multiplication\n",
    "print (s)"
   ]
  },
  {
   "cell_type": "markdown",
   "metadata": {
    "id": "fPznoA3JS8dr"
   },
   "source": [
    "#### matrix multiplication"
   ]
  },
  {
   "cell_type": "code",
   "execution_count": 40,
   "metadata": {
    "colab": {
     "base_uri": "https://localhost:8080/"
    },
    "executionInfo": {
     "elapsed": 30,
     "status": "ok",
     "timestamp": 1635236642530,
     "user": {
      "displayName": "Ilan Vasilevsky",
      "photoUrl": "https://lh3.googleusercontent.com/a-/AOh14GguyxPxQM0_RGlxWIPJAwj0FMVfxWgPlwWl0QT3=s64",
      "userId": "01351641955183714281"
     },
     "user_tz": -180
    },
    "id": "fnYYHaXFS8dr",
    "outputId": "64df0a24-225e-4d10-f0df-7180329878e3"
   },
   "outputs": [
    {
     "name": "stdout",
     "output_type": "stream",
     "text": [
      "[[23.1  38.73]\n",
      " [56.2  53.4 ]]\n"
     ]
    }
   ],
   "source": [
    "m1 = np.array([3,2.7,3,4,9,6.3]).reshape(2,3)\n",
    "m2 =  np.array([1,12,3,-0.1,4,1]).reshape(3,2)\n",
    "print(np.matmul(m1, m2))\n",
    "# m1 @ m2"
   ]
  },
  {
   "cell_type": "markdown",
   "metadata": {
    "id": "u_2_kHo4S8dr"
   },
   "source": [
    "### Aggreagating functions\n",
    "Cause a projection to the function"
   ]
  },
  {
   "cell_type": "code",
   "execution_count": 41,
   "metadata": {
    "colab": {
     "base_uri": "https://localhost:8080/"
    },
    "executionInfo": {
     "elapsed": 28,
     "status": "ok",
     "timestamp": 1635236642530,
     "user": {
      "displayName": "Ilan Vasilevsky",
      "photoUrl": "https://lh3.googleusercontent.com/a-/AOh14GguyxPxQM0_RGlxWIPJAwj0FMVfxWgPlwWl0QT3=s64",
      "userId": "01351641955183714281"
     },
     "user_tz": -180
    },
    "id": "KM9HJvc9S8dr",
    "outputId": "b29f9e80-1b06-42be-9d1d-cac656c5e868"
   },
   "outputs": [
    {
     "data": {
      "text/plain": [
       "array([[2, 3, 2],\n",
       "       [4, 1, 7]])"
      ]
     },
     "execution_count": 41,
     "metadata": {},
     "output_type": "execute_result"
    }
   ],
   "source": [
    "mat1 = np.array([[2,3,2],[4,1,7]])\n",
    "mat1"
   ]
  },
  {
   "cell_type": "code",
   "execution_count": 42,
   "metadata": {
    "colab": {
     "base_uri": "https://localhost:8080/"
    },
    "executionInfo": {
     "elapsed": 27,
     "status": "ok",
     "timestamp": 1635236642530,
     "user": {
      "displayName": "Ilan Vasilevsky",
      "photoUrl": "https://lh3.googleusercontent.com/a-/AOh14GguyxPxQM0_RGlxWIPJAwj0FMVfxWgPlwWl0QT3=s64",
      "userId": "01351641955183714281"
     },
     "user_tz": -180
    },
    "id": "K2xvpaFzS8ds",
    "outputId": "8ffebd37-8285-4699-cd3d-f4774fbd7035"
   },
   "outputs": [
    {
     "name": "stdout",
     "output_type": "stream",
     "text": [
      "\n",
      "----mean, axis=0----\n",
      "[3.  2.  4.5]\n",
      "\n",
      "----mean, axis=1----\n",
      "[2.33333333 4.        ]\n",
      "\n",
      "----sum, axis=0----\n",
      "[6 4 9]\n",
      "\n",
      "----sum, axis=1----\n",
      "[ 7 12]\n",
      "\n",
      "----std, axis=1----\n",
      "[0.47140452 2.44948974]\n",
      "\n",
      "----min, axis=1----\n",
      "[2 1]\n",
      "\n",
      "----max, axis=1----\n",
      "[3 7]\n",
      "\n",
      "----cumsum, axis=0----\n",
      "[[2 3 2]\n",
      " [6 4 9]]\n",
      "\n",
      "----cumsum, axis=1----\n",
      "[[ 2  5  7]\n",
      " [ 4  5 12]]\n",
      "\n",
      "----cumsum, axis=None----\n",
      "[ 2  5  7 11 12 19]\n"
     ]
    }
   ],
   "source": [
    "print (\"\\n----mean, axis=0----\")\n",
    "v = mat1.mean(axis =0) #for each COLUMN, calculate its mean, returns lower dim np object. Matrix->Vector\n",
    "print (v)\n",
    "\n",
    "\n",
    "print (\"\\n----mean, axis=1----\")\n",
    "v = mat1.mean(axis =1) #for each ROW, calculate its mean\n",
    "print (v)\n",
    "\n",
    "print (\"\\n----sum, axis=0----\")\n",
    "v = mat1.sum(axis =0) #for each ROW, calculate its sum\n",
    "print (v)\n",
    "\n",
    "\n",
    "print (\"\\n----sum, axis=1----\")\n",
    "v = mat1.sum(axis =1) #for each ROW, calculate its sum\n",
    "print (v)\n",
    "\n",
    "\n",
    "print (\"\\n----std, axis=1----\")\n",
    "v = mat1.std(axis =1) #for each ROW, calculate its standart deviation \n",
    "print (v)\n",
    "\n",
    "\n",
    "print (\"\\n----min, axis=1----\")\n",
    "v = mat1.min(axis =1) #for each ROW, calculate its mean\n",
    "print (v)\n",
    "\n",
    "\n",
    "print (\"\\n----max, axis=1----\")\n",
    "v = mat1.max(axis =1) #for each ROW, calculate its mean\n",
    "print (v)\n",
    "\n",
    "\n",
    "print (\"\\n----cumsum, axis=0----\" )\n",
    "m = mat1.cumsum(axis = 0) #This is cumulative-sum function and doesn't do a projection, equivalent of integral.\n",
    "print (m)\n",
    "\n",
    "print (\"\\n----cumsum, axis=1----\" )\n",
    "m = mat1.cumsum(axis = 1) #This is cumulative-sum function and doesn't do a projection, equivalent of integral.\n",
    "print (m)\n",
    "\n",
    "print (\"\\n----cumsum, axis=None----\" )\n",
    "m = mat1.cumsum() #This function doesn't do a projection.\n",
    "print (m)\n"
   ]
  },
  {
   "cell_type": "markdown",
   "metadata": {
    "id": "P_KYOOBDYjyc"
   },
   "source": [
    "## Exercise 3 (Numpy Final Boss) - Outlier Detection\n",
    "Given a matrix with n rows, return a sub matrix with m rows ($m\\leq n$) <br>\n",
    "such that for each row in the returned matrix:<br>\n",
    "every element in the row, is within 1 std from the mean of its column in the original matrix."
   ]
  },
  {
   "cell_type": "code",
   "execution_count": 43,
   "metadata": {
    "executionInfo": {
     "elapsed": 26,
     "status": "ok",
     "timestamp": 1635236642531,
     "user": {
      "displayName": "Ilan Vasilevsky",
      "photoUrl": "https://lh3.googleusercontent.com/a-/AOh14GguyxPxQM0_RGlxWIPJAwj0FMVfxWgPlwWl0QT3=s64",
      "userId": "01351641955183714281"
     },
     "user_tz": -180
    },
    "id": "PM85YRhka3KN"
   },
   "outputs": [],
   "source": [
    "#Solution: \n",
    "def outlier_detection(mat):\n",
    "  #step 1 - calculate std and mean for each column\n",
    "  col_means = mat.mean(axis=0) #calculate mean for every column\n",
    "  col_stds = mat.std(axis=0) #calculate std for every column\n",
    "\n",
    "  #step 2 - create a bolean mask\n",
    "  not_outliers = np.abs(mat - col_means) <= col_stds \n",
    "  rows_without_ol = not_outliers.all(axis=1) #rows with only True values\n",
    "\n",
    "  #step 3 - create sub-matrix with rows that have no outliers\n",
    "  sub_mat = mat[rows_without_ol,:] #specify row indices, take all columns\n",
    "\n",
    "  #printing the whole process\n",
    "  seperator = '-------------------'\n",
    "  print(f\"input matrix:\\n{mat}\")\n",
    "  print(seperator)\n",
    "  print(f'means of columns: {np.round(col_means,2)}')\n",
    "  print(f'stds of columns: {np.round(col_stds,2)}')\n",
    "  print(seperator)\n",
    "  print(f\"Masking calculation -> np.abs(mat - col_means) :\\n{np.round(np.abs(mat - col_means),2)}\")\n",
    "  print(seperator)\n",
    "  print(f\"outlier masking:\\n{not_outliers}\\n\")\n",
    "  print(f\"row masking:\\n{rows_without_ol}\")\n",
    "  print(seperator)\n",
    "  print(f\"output matrix:\\n{sub_mat}\")\n",
    "  print(seperator)\n",
    "  print(f'input shape: {mat.shape}')\n",
    "  print(f'output shape: {sub_mat.shape}')\n",
    "\n",
    "  #final step - returning output matrix\n",
    "  return sub_mat"
   ]
  },
  {
   "cell_type": "code",
   "execution_count": 44,
   "metadata": {
    "colab": {
     "base_uri": "https://localhost:8080/"
    },
    "executionInfo": {
     "elapsed": 26,
     "status": "ok",
     "timestamp": 1635236642531,
     "user": {
      "displayName": "Ilan Vasilevsky",
      "photoUrl": "https://lh3.googleusercontent.com/a-/AOh14GguyxPxQM0_RGlxWIPJAwj0FMVfxWgPlwWl0QT3=s64",
      "userId": "01351641955183714281"
     },
     "user_tz": -180
    },
    "id": "-Us2G2M7hVM8",
    "outputId": "a0894fea-d91e-457c-98dd-29caefe698a3"
   },
   "outputs": [
    {
     "name": "stdout",
     "output_type": "stream",
     "text": [
      "input matrix:\n",
      "[[1 5 2]\n",
      " [6 3 5]\n",
      " [2 4 3]]\n",
      "-------------------\n",
      "means of columns: [3.   4.   3.33]\n",
      "stds of columns: [2.16 0.82 1.25]\n",
      "-------------------\n",
      "Masking calculation -> np.abs(mat - col_means) :\n",
      "[[2.   1.   1.33]\n",
      " [3.   1.   1.67]\n",
      " [1.   0.   0.33]]\n",
      "-------------------\n",
      "outlier masking:\n",
      "[[ True False False]\n",
      " [False False False]\n",
      " [ True  True  True]]\n",
      "\n",
      "row masking:\n",
      "[False False  True]\n",
      "-------------------\n",
      "output matrix:\n",
      "[[2 4 3]]\n",
      "-------------------\n",
      "input shape: (3, 3)\n",
      "output shape: (1, 3)\n"
     ]
    }
   ],
   "source": [
    "mat = np.array([[1,5,2],[6,3,5],[2,4,3]])\n",
    "result = outlier_detection(mat)"
   ]
  },
  {
   "cell_type": "markdown",
   "metadata": {
    "id": "rHLcriKWLRe4"
   },
   "source": [
    "# Intro to pandas"
   ]
  },
  {
   "cell_type": "markdown",
   "metadata": {
    "id": "f7SEZD1o710Y"
   },
   "source": [
    "In this Section, we'll learn the basics of data analysis with the Python Pandas library.\n",
    "\n",
    "<img src=\"https://pandas.pydata.org/static/img/pandas_white.svg\" width=300>\n",
    "<br><br> For that, we will use an **IMDB** Data Set! <br><br>\n",
    "<img src=\"https://m.media-amazon.com/images/G/01/IMDb/BG_rectangle._CB1509060989_SY230_SX307_AL_.png\" width=200>"
   ]
  },
  {
   "cell_type": "markdown",
   "metadata": {
    "id": "s_JOISVgmn9v"
   },
   "source": [
    "## Import\n",
    "\n",
    "\n",
    "The following line imports the *pandas* API"
   ]
  },
  {
   "cell_type": "code",
   "execution_count": 45,
   "metadata": {
    "executionInfo": {
     "elapsed": 24,
     "status": "ok",
     "timestamp": 1635236642531,
     "user": {
      "displayName": "Ilan Vasilevsky",
      "photoUrl": "https://lh3.googleusercontent.com/a-/AOh14GguyxPxQM0_RGlxWIPJAwj0FMVfxWgPlwWl0QT3=s64",
      "userId": "01351641955183714281"
     },
     "user_tz": -180
    },
    "id": "aSRYu62xUi3g"
   },
   "outputs": [],
   "source": [
    "import pandas as pd"
   ]
  },
  {
   "cell_type": "markdown",
   "metadata": {
    "id": "daQreKXIUslr"
   },
   "source": [
    "The primary data structures in *pandas* are implemented as two classes:\n",
    "\n",
    "  * **`DataFrame`**, which you can imagine as a relational data table, with rows and named columns.\n",
    "  * **`Series`**, which is a single column. A `DataFrame` contains one or more `Series` and a name for each `Series`."
   ]
  },
  {
   "cell_type": "markdown",
   "metadata": {
    "id": "l-sCKhEP9Clz"
   },
   "source": [
    "## Series\n",
    "The basic Pandas object: **A one-Dimentional array, with index and values.**\n",
    "<br>Equivilant to 1-d numpy array."
   ]
  },
  {
   "cell_type": "code",
   "execution_count": 46,
   "metadata": {
    "colab": {
     "base_uri": "https://localhost:8080/"
    },
    "executionInfo": {
     "elapsed": 24,
     "status": "ok",
     "timestamp": 1635236642531,
     "user": {
      "displayName": "Ilan Vasilevsky",
      "photoUrl": "https://lh3.googleusercontent.com/a-/AOh14GguyxPxQM0_RGlxWIPJAwj0FMVfxWgPlwWl0QT3=s64",
      "userId": "01351641955183714281"
     },
     "user_tz": -180
    },
    "id": "ox2R3WtI8Giz",
    "outputId": "64568ae2-fd2a-4407-b0ba-3f89918a6b63"
   },
   "outputs": [
    {
     "data": {
      "text/plain": [
       "A    1.0\n",
       "B    3.0\n",
       "C    5.0\n",
       "D    NaN\n",
       "E    6.0\n",
       "F    8.0\n",
       "dtype: float64"
      ]
     },
     "execution_count": 46,
     "metadata": {},
     "output_type": "execute_result"
    }
   ],
   "source": [
    "s = pd.Series([1,3,5,np.nan,6,8], index = [\"A\", \"B\", \"C\", \"D\", \"E\", \"F\"])\n",
    "s"
   ]
  },
  {
   "cell_type": "code",
   "execution_count": 47,
   "metadata": {
    "colab": {
     "base_uri": "https://localhost:8080/"
    },
    "executionInfo": {
     "elapsed": 23,
     "status": "ok",
     "timestamp": 1635236642532,
     "user": {
      "displayName": "Ilan Vasilevsky",
      "photoUrl": "https://lh3.googleusercontent.com/a-/AOh14GguyxPxQM0_RGlxWIPJAwj0FMVfxWgPlwWl0QT3=s64",
      "userId": "01351641955183714281"
     },
     "user_tz": -180
    },
    "id": "ZomWOWa78MUz",
    "outputId": "dced0fe4-5d33-4e1d-8821-ebbac92a1bae"
   },
   "outputs": [
    {
     "name": "stdout",
     "output_type": "stream",
     "text": [
      "4.6\n",
      "2.701851217221259\n"
     ]
    }
   ],
   "source": [
    "print(s.mean())\n",
    "print(s.std())"
   ]
  },
  {
   "cell_type": "markdown",
   "metadata": {
    "id": "7gkh-H_OrrcS"
   },
   "source": [
    "## DataFrame\n",
    "**The MOST IMPORTANT pandas object**, equivilant to 2-d numpy array.\n",
    "<br><br>\n",
    "**Main features**:\n",
    "- The `pd.DataFrame` has both row and column index!\n",
    "- Each column can be in a different type (But only 1 type in each column)\n",
    "- Size mutable: insert and delete columns\n"
   ]
  },
  {
   "cell_type": "code",
   "execution_count": 48,
   "metadata": {
    "colab": {
     "base_uri": "https://localhost:8080/"
    },
    "executionInfo": {
     "elapsed": 22,
     "status": "ok",
     "timestamp": 1635236642532,
     "user": {
      "displayName": "Ilan Vasilevsky",
      "photoUrl": "https://lh3.googleusercontent.com/a-/AOh14GguyxPxQM0_RGlxWIPJAwj0FMVfxWgPlwWl0QT3=s64",
      "userId": "01351641955183714281"
     },
     "user_tz": -180
    },
    "id": "E6TEib-f9Aj5",
    "outputId": "9f7a1683-beaa-45e6-c009-eaac9cb30f35"
   },
   "outputs": [
    {
     "data": {
      "text/plain": [
       "0      Itzik\n",
       "1    Shmulik\n",
       "2      Rivka\n",
       "3      Hatul\n",
       "dtype: object"
      ]
     },
     "execution_count": 48,
     "metadata": {},
     "output_type": "execute_result"
    }
   ],
   "source": [
    "#Lets Create a DataFrame from 2 Series objects\n",
    "#Defining the first series (without assigning index manually)\n",
    "bad_dog_names = pd.Series(['Itzik', 'Shmulik', 'Rivka','Hatul'])\n",
    "bad_dog_names"
   ]
  },
  {
   "cell_type": "code",
   "execution_count": 49,
   "metadata": {
    "colab": {
     "base_uri": "https://localhost:8080/"
    },
    "executionInfo": {
     "elapsed": 20,
     "status": "ok",
     "timestamp": 1635236642532,
     "user": {
      "displayName": "Ilan Vasilevsky",
      "photoUrl": "https://lh3.googleusercontent.com/a-/AOh14GguyxPxQM0_RGlxWIPJAwj0FMVfxWgPlwWl0QT3=s64",
      "userId": "01351641955183714281"
     },
     "user_tz": -180
    },
    "id": "DFZ42Uq7UFDj",
    "outputId": "b221294b-68b1-44ac-edad-d0c526b80bd1"
   },
   "outputs": [
    {
     "data": {
      "text/plain": [
       "0     4\n",
       "1    10\n",
       "2     7\n",
       "dtype: int64"
      ]
     },
     "execution_count": 49,
     "metadata": {},
     "output_type": "execute_result"
    }
   ],
   "source": [
    "#Lets define a second series\n",
    "ages = pd.Series([4,10,7])\n",
    "ages"
   ]
  },
  {
   "cell_type": "code",
   "execution_count": 50,
   "metadata": {
    "colab": {
     "base_uri": "https://localhost:8080/",
     "height": 173
    },
    "executionInfo": {
     "elapsed": 20,
     "status": "ok",
     "timestamp": 1635236642533,
     "user": {
      "displayName": "Ilan Vasilevsky",
      "photoUrl": "https://lh3.googleusercontent.com/a-/AOh14GguyxPxQM0_RGlxWIPJAwj0FMVfxWgPlwWl0QT3=s64",
      "userId": "01351641955183714281"
     },
     "user_tz": -180
    },
    "id": "EgOP_3WLr5hm",
    "outputId": "0bc1a18e-7d15-4227-e0a2-5e92c6aede17"
   },
   "outputs": [
    {
     "data": {
      "text/html": [
       "<div>\n",
       "<style scoped>\n",
       "    .dataframe tbody tr th:only-of-type {\n",
       "        vertical-align: middle;\n",
       "    }\n",
       "\n",
       "    .dataframe tbody tr th {\n",
       "        vertical-align: top;\n",
       "    }\n",
       "\n",
       "    .dataframe thead th {\n",
       "        text-align: right;\n",
       "    }\n",
       "</style>\n",
       "<table border=\"1\" class=\"dataframe\">\n",
       "  <thead>\n",
       "    <tr style=\"text-align: right;\">\n",
       "      <th></th>\n",
       "      <th>Dog name</th>\n",
       "      <th>Age</th>\n",
       "    </tr>\n",
       "  </thead>\n",
       "  <tbody>\n",
       "    <tr>\n",
       "      <th>0</th>\n",
       "      <td>Itzik</td>\n",
       "      <td>4.0</td>\n",
       "    </tr>\n",
       "    <tr>\n",
       "      <th>1</th>\n",
       "      <td>Shmulik</td>\n",
       "      <td>10.0</td>\n",
       "    </tr>\n",
       "    <tr>\n",
       "      <th>2</th>\n",
       "      <td>Rivka</td>\n",
       "      <td>7.0</td>\n",
       "    </tr>\n",
       "    <tr>\n",
       "      <th>3</th>\n",
       "      <td>Hatul</td>\n",
       "      <td>NaN</td>\n",
       "    </tr>\n",
       "  </tbody>\n",
       "</table>\n",
       "</div>"
      ],
      "text/plain": [
       "  Dog name   Age\n",
       "0    Itzik   4.0\n",
       "1  Shmulik  10.0\n",
       "2    Rivka   7.0\n",
       "3    Hatul   NaN"
      ]
     },
     "execution_count": 50,
     "metadata": {},
     "output_type": "execute_result"
    }
   ],
   "source": [
    "new_df = pd.DataFrame({'Dog name': bad_dog_names, 'Age': ages})\n",
    "new_df"
   ]
  },
  {
   "cell_type": "markdown",
   "metadata": {
    "id": "mGW_61bqto-4"
   },
   "source": [
    "Creating a DataFrame can be done in one of several ways:\n",
    "- Dictionary of 1D numpy arrays, lists, dictionaries or Series.\n",
    "- A 2D numpy array.\n",
    "- A Series\n",
    "- A different DataFrame.\n",
    "\n",
    "Alongside the data itself, you can pass two important arguments to the constructor:\n",
    "- `columns` - An iterable of the headers of each data column.\n",
    "- `index` - Similar to a series.\n",
    "\n",
    "Just like in the Series case, passing these arguments ensures that the resulting DataFrame will contain these specific columns and indices, which might lead to NaNs in certain rows and\\or columns."
   ]
  },
  {
   "cell_type": "code",
   "execution_count": 51,
   "metadata": {
    "colab": {
     "base_uri": "https://localhost:8080/",
     "height": 235
    },
    "executionInfo": {
     "elapsed": 21,
     "status": "ok",
     "timestamp": 1635236642535,
     "user": {
      "displayName": "Ilan Vasilevsky",
      "photoUrl": "https://lh3.googleusercontent.com/a-/AOh14GguyxPxQM0_RGlxWIPJAwj0FMVfxWgPlwWl0QT3=s64",
      "userId": "01351641955183714281"
     },
     "user_tz": -180
    },
    "id": "MsdSVZWdttiI",
    "outputId": "da0a0c4b-376b-414a-c132-a523383646d8"
   },
   "outputs": [
    {
     "data": {
      "text/html": [
       "<div>\n",
       "<style scoped>\n",
       "    .dataframe tbody tr th:only-of-type {\n",
       "        vertical-align: middle;\n",
       "    }\n",
       "\n",
       "    .dataframe tbody tr th {\n",
       "        vertical-align: top;\n",
       "    }\n",
       "\n",
       "    .dataframe thead th {\n",
       "        text-align: right;\n",
       "    }\n",
       "</style>\n",
       "<table border=\"1\" class=\"dataframe\">\n",
       "  <thead>\n",
       "    <tr style=\"text-align: right;\">\n",
       "      <th></th>\n",
       "      <th>A</th>\n",
       "      <th>B</th>\n",
       "      <th>C</th>\n",
       "      <th>D</th>\n",
       "    </tr>\n",
       "  </thead>\n",
       "  <tbody>\n",
       "    <tr>\n",
       "      <th>2</th>\n",
       "      <td>-0.265429</td>\n",
       "      <td>1.087239</td>\n",
       "      <td>0.524370</td>\n",
       "      <td>-0.607315</td>\n",
       "    </tr>\n",
       "    <tr>\n",
       "      <th>3</th>\n",
       "      <td>1.683830</td>\n",
       "      <td>1.019538</td>\n",
       "      <td>-1.390494</td>\n",
       "      <td>0.456974</td>\n",
       "    </tr>\n",
       "    <tr>\n",
       "      <th>4</th>\n",
       "      <td>0.290897</td>\n",
       "      <td>0.521010</td>\n",
       "      <td>0.313235</td>\n",
       "      <td>-1.020446</td>\n",
       "    </tr>\n",
       "    <tr>\n",
       "      <th>5</th>\n",
       "      <td>-0.265851</td>\n",
       "      <td>-0.426827</td>\n",
       "      <td>0.937329</td>\n",
       "      <td>0.110656</td>\n",
       "    </tr>\n",
       "    <tr>\n",
       "      <th>6</th>\n",
       "      <td>1.401315</td>\n",
       "      <td>0.613335</td>\n",
       "      <td>0.544685</td>\n",
       "      <td>-0.107441</td>\n",
       "    </tr>\n",
       "    <tr>\n",
       "      <th>7</th>\n",
       "      <td>0.536989</td>\n",
       "      <td>0.004211</td>\n",
       "      <td>0.582356</td>\n",
       "      <td>-0.381205</td>\n",
       "    </tr>\n",
       "  </tbody>\n",
       "</table>\n",
       "</div>"
      ],
      "text/plain": [
       "          A         B         C         D\n",
       "2 -0.265429  1.087239  0.524370 -0.607315\n",
       "3  1.683830  1.019538 -1.390494  0.456974\n",
       "4  0.290897  0.521010  0.313235 -1.020446\n",
       "5 -0.265851 -0.426827  0.937329  0.110656\n",
       "6  1.401315  0.613335  0.544685 -0.107441\n",
       "7  0.536989  0.004211  0.582356 -0.381205"
      ]
     },
     "execution_count": 51,
     "metadata": {},
     "output_type": "execute_result"
    }
   ],
   "source": [
    "df = pd.DataFrame(np.random.randn(6,4), columns=[\"A\",\"B\",\"C\",\"D\",], index = [2,3,4,5,6,7])\n",
    "df"
   ]
  },
  {
   "cell_type": "markdown",
   "metadata": {
    "id": "8VOVqZPpdkah"
   },
   "source": [
    "### Create a DataFrame from a .csv file\n",
    "most of the time, you load an entire file into a `DataFrame` "
   ]
  },
  {
   "cell_type": "code",
   "execution_count": 52,
   "metadata": {
    "executionInfo": {
     "elapsed": 21,
     "status": "ok",
     "timestamp": 1635236642535,
     "user": {
      "displayName": "Ilan Vasilevsky",
      "photoUrl": "https://lh3.googleusercontent.com/a-/AOh14GguyxPxQM0_RGlxWIPJAwj0FMVfxWgPlwWl0QT3=s64",
      "userId": "01351641955183714281"
     },
     "user_tz": -180
    },
    "id": "n-BJpc35_MMx"
   },
   "outputs": [],
   "source": [
    "df = pd.read_csv(\"./IMDB-Movie-Data.csv\", index_col=0) # index_col - Choose which column of the data is going to be the index."
   ]
  },
  {
   "cell_type": "markdown",
   "metadata": {
    "id": "D9iSMeTndkai"
   },
   "source": [
    "## DataFrame Attributes and Methods"
   ]
  },
  {
   "cell_type": "markdown",
   "metadata": {
    "id": "gfWABi3pdkai"
   },
   "source": [
    "### `head()` & `tail()`\n",
    "Viewing the top (or bottom) rows of your data (5 rows if not defined other)."
   ]
  },
  {
   "cell_type": "code",
   "execution_count": 53,
   "metadata": {
    "colab": {
     "base_uri": "https://localhost:8080/",
     "height": 309
    },
    "executionInfo": {
     "elapsed": 21,
     "status": "ok",
     "timestamp": 1635236642536,
     "user": {
      "displayName": "Ilan Vasilevsky",
      "photoUrl": "https://lh3.googleusercontent.com/a-/AOh14GguyxPxQM0_RGlxWIPJAwj0FMVfxWgPlwWl0QT3=s64",
      "userId": "01351641955183714281"
     },
     "user_tz": -180
    },
    "id": "8cwmURsVdkai",
    "outputId": "5ebf4958-3edf-4d6c-c1a0-94322f49e232"
   },
   "outputs": [
    {
     "data": {
      "text/html": [
       "<div>\n",
       "<style scoped>\n",
       "    .dataframe tbody tr th:only-of-type {\n",
       "        vertical-align: middle;\n",
       "    }\n",
       "\n",
       "    .dataframe tbody tr th {\n",
       "        vertical-align: top;\n",
       "    }\n",
       "\n",
       "    .dataframe thead th {\n",
       "        text-align: right;\n",
       "    }\n",
       "</style>\n",
       "<table border=\"1\" class=\"dataframe\">\n",
       "  <thead>\n",
       "    <tr style=\"text-align: right;\">\n",
       "      <th></th>\n",
       "      <th>Title</th>\n",
       "      <th>Genre</th>\n",
       "      <th>Description</th>\n",
       "      <th>Director</th>\n",
       "      <th>Actors</th>\n",
       "      <th>Year</th>\n",
       "      <th>Runtime (Minutes)</th>\n",
       "      <th>Rating</th>\n",
       "      <th>Votes</th>\n",
       "      <th>Revenue (Millions)</th>\n",
       "      <th>Metascore</th>\n",
       "    </tr>\n",
       "    <tr>\n",
       "      <th>ID</th>\n",
       "      <th></th>\n",
       "      <th></th>\n",
       "      <th></th>\n",
       "      <th></th>\n",
       "      <th></th>\n",
       "      <th></th>\n",
       "      <th></th>\n",
       "      <th></th>\n",
       "      <th></th>\n",
       "      <th></th>\n",
       "      <th></th>\n",
       "    </tr>\n",
       "  </thead>\n",
       "  <tbody>\n",
       "    <tr>\n",
       "      <th>10066</th>\n",
       "      <td>Guardians of the Galaxy</td>\n",
       "      <td>Action,Adventure,Sci-Fi</td>\n",
       "      <td>A group of intergalactic criminals are forced ...</td>\n",
       "      <td>James Gunn</td>\n",
       "      <td>Chris Pratt, Vin Diesel, Bradley Cooper, Zoe S...</td>\n",
       "      <td>2014</td>\n",
       "      <td>121</td>\n",
       "      <td>8.1</td>\n",
       "      <td>757074</td>\n",
       "      <td>333.13</td>\n",
       "      <td>76.0</td>\n",
       "    </tr>\n",
       "    <tr>\n",
       "      <th>36452</th>\n",
       "      <td>Prometheus</td>\n",
       "      <td>Adventure,Mystery,Sci-Fi</td>\n",
       "      <td>Following clues to the origin of mankind, a te...</td>\n",
       "      <td>Ridley Scott</td>\n",
       "      <td>Noomi Rapace, Logan Marshall-Green, Michael Fa...</td>\n",
       "      <td>2012</td>\n",
       "      <td>124</td>\n",
       "      <td>7.0</td>\n",
       "      <td>485820</td>\n",
       "      <td>126.46</td>\n",
       "      <td>65.0</td>\n",
       "    </tr>\n",
       "    <tr>\n",
       "      <th>41798</th>\n",
       "      <td>Split</td>\n",
       "      <td>Horror,Thriller</td>\n",
       "      <td>Three girls are kidnapped by a man with a diag...</td>\n",
       "      <td>M. Night Shyamalan</td>\n",
       "      <td>James McAvoy, Anya Taylor-Joy, Haley Lu Richar...</td>\n",
       "      <td>2016</td>\n",
       "      <td>117</td>\n",
       "      <td>7.3</td>\n",
       "      <td>157606</td>\n",
       "      <td>138.12</td>\n",
       "      <td>62.0</td>\n",
       "    </tr>\n",
       "  </tbody>\n",
       "</table>\n",
       "</div>"
      ],
      "text/plain": [
       "                         Title                     Genre  \\\n",
       "ID                                                         \n",
       "10066  Guardians of the Galaxy   Action,Adventure,Sci-Fi   \n",
       "36452               Prometheus  Adventure,Mystery,Sci-Fi   \n",
       "41798                    Split           Horror,Thriller   \n",
       "\n",
       "                                             Description            Director  \\\n",
       "ID                                                                             \n",
       "10066  A group of intergalactic criminals are forced ...          James Gunn   \n",
       "36452  Following clues to the origin of mankind, a te...        Ridley Scott   \n",
       "41798  Three girls are kidnapped by a man with a diag...  M. Night Shyamalan   \n",
       "\n",
       "                                                  Actors  Year  \\\n",
       "ID                                                               \n",
       "10066  Chris Pratt, Vin Diesel, Bradley Cooper, Zoe S...  2014   \n",
       "36452  Noomi Rapace, Logan Marshall-Green, Michael Fa...  2012   \n",
       "41798  James McAvoy, Anya Taylor-Joy, Haley Lu Richar...  2016   \n",
       "\n",
       "       Runtime (Minutes)  Rating   Votes  Revenue (Millions)  Metascore  \n",
       "ID                                                                       \n",
       "10066                121     8.1  757074              333.13       76.0  \n",
       "36452                124     7.0  485820              126.46       65.0  \n",
       "41798                117     7.3  157606              138.12       62.0  "
      ]
     },
     "execution_count": 53,
     "metadata": {},
     "output_type": "execute_result"
    }
   ],
   "source": [
    "df.head(3)"
   ]
  },
  {
   "cell_type": "code",
   "execution_count": 54,
   "metadata": {
    "colab": {
     "base_uri": "https://localhost:8080/",
     "height": 227
    },
    "executionInfo": {
     "elapsed": 21,
     "status": "ok",
     "timestamp": 1635236642536,
     "user": {
      "displayName": "Ilan Vasilevsky",
      "photoUrl": "https://lh3.googleusercontent.com/a-/AOh14GguyxPxQM0_RGlxWIPJAwj0FMVfxWgPlwWl0QT3=s64",
      "userId": "01351641955183714281"
     },
     "user_tz": -180
    },
    "id": "iq-Poow6dkai",
    "outputId": "f4990502-849c-4cdc-e083-1cd97a831bb2"
   },
   "outputs": [
    {
     "data": {
      "text/html": [
       "<div>\n",
       "<style scoped>\n",
       "    .dataframe tbody tr th:only-of-type {\n",
       "        vertical-align: middle;\n",
       "    }\n",
       "\n",
       "    .dataframe tbody tr th {\n",
       "        vertical-align: top;\n",
       "    }\n",
       "\n",
       "    .dataframe thead th {\n",
       "        text-align: right;\n",
       "    }\n",
       "</style>\n",
       "<table border=\"1\" class=\"dataframe\">\n",
       "  <thead>\n",
       "    <tr style=\"text-align: right;\">\n",
       "      <th></th>\n",
       "      <th>Title</th>\n",
       "      <th>Genre</th>\n",
       "      <th>Description</th>\n",
       "      <th>Director</th>\n",
       "      <th>Actors</th>\n",
       "      <th>Year</th>\n",
       "      <th>Runtime (Minutes)</th>\n",
       "      <th>Rating</th>\n",
       "      <th>Votes</th>\n",
       "      <th>Revenue (Millions)</th>\n",
       "      <th>Metascore</th>\n",
       "    </tr>\n",
       "    <tr>\n",
       "      <th>ID</th>\n",
       "      <th></th>\n",
       "      <th></th>\n",
       "      <th></th>\n",
       "      <th></th>\n",
       "      <th></th>\n",
       "      <th></th>\n",
       "      <th></th>\n",
       "      <th></th>\n",
       "      <th></th>\n",
       "      <th></th>\n",
       "      <th></th>\n",
       "    </tr>\n",
       "  </thead>\n",
       "  <tbody>\n",
       "    <tr>\n",
       "      <th>54715</th>\n",
       "      <td>Search Party</td>\n",
       "      <td>Adventure,Comedy</td>\n",
       "      <td>A pair of friends embark on a mission to reuni...</td>\n",
       "      <td>Scot Armstrong</td>\n",
       "      <td>Adam Pally, T.J. Miller, Thomas Middleditch,Sh...</td>\n",
       "      <td>2014</td>\n",
       "      <td>93</td>\n",
       "      <td>5.6</td>\n",
       "      <td>4881</td>\n",
       "      <td>NaN</td>\n",
       "      <td>22.0</td>\n",
       "    </tr>\n",
       "    <tr>\n",
       "      <th>83080</th>\n",
       "      <td>Nine Lives</td>\n",
       "      <td>Comedy,Family,Fantasy</td>\n",
       "      <td>A stuffy businessman finds himself trapped ins...</td>\n",
       "      <td>Barry Sonnenfeld</td>\n",
       "      <td>Kevin Spacey, Jennifer Garner, Robbie Amell,Ch...</td>\n",
       "      <td>2016</td>\n",
       "      <td>87</td>\n",
       "      <td>5.3</td>\n",
       "      <td>12435</td>\n",
       "      <td>19.64</td>\n",
       "      <td>11.0</td>\n",
       "    </tr>\n",
       "  </tbody>\n",
       "</table>\n",
       "</div>"
      ],
      "text/plain": [
       "              Title                  Genre  \\\n",
       "ID                                           \n",
       "54715  Search Party       Adventure,Comedy   \n",
       "83080    Nine Lives  Comedy,Family,Fantasy   \n",
       "\n",
       "                                             Description          Director  \\\n",
       "ID                                                                           \n",
       "54715  A pair of friends embark on a mission to reuni...    Scot Armstrong   \n",
       "83080  A stuffy businessman finds himself trapped ins...  Barry Sonnenfeld   \n",
       "\n",
       "                                                  Actors  Year  \\\n",
       "ID                                                               \n",
       "54715  Adam Pally, T.J. Miller, Thomas Middleditch,Sh...  2014   \n",
       "83080  Kevin Spacey, Jennifer Garner, Robbie Amell,Ch...  2016   \n",
       "\n",
       "       Runtime (Minutes)  Rating  Votes  Revenue (Millions)  Metascore  \n",
       "ID                                                                      \n",
       "54715                 93     5.6   4881                 NaN       22.0  \n",
       "83080                 87     5.3  12435               19.64       11.0  "
      ]
     },
     "execution_count": 54,
     "metadata": {},
     "output_type": "execute_result"
    }
   ],
   "source": [
    "df.tail(2)"
   ]
  },
  {
   "cell_type": "markdown",
   "metadata": {
    "id": "GZoL5_MRdkaj"
   },
   "source": [
    "### `columns`"
   ]
  },
  {
   "cell_type": "code",
   "execution_count": 55,
   "metadata": {
    "colab": {
     "base_uri": "https://localhost:8080/"
    },
    "executionInfo": {
     "elapsed": 20,
     "status": "ok",
     "timestamp": 1635236642536,
     "user": {
      "displayName": "Ilan Vasilevsky",
      "photoUrl": "https://lh3.googleusercontent.com/a-/AOh14GguyxPxQM0_RGlxWIPJAwj0FMVfxWgPlwWl0QT3=s64",
      "userId": "01351641955183714281"
     },
     "user_tz": -180
    },
    "id": "8wcT9FdZdkaj",
    "outputId": "31a74bad-4201-40a2-8333-0064a4723c48"
   },
   "outputs": [
    {
     "data": {
      "text/plain": [
       "Index(['Title', 'Genre', 'Description', 'Director', 'Actors', 'Year',\n",
       "       'Runtime (Minutes)', 'Rating', 'Votes', 'Revenue (Millions)',\n",
       "       'Metascore'],\n",
       "      dtype='object')"
      ]
     },
     "execution_count": 55,
     "metadata": {},
     "output_type": "execute_result"
    }
   ],
   "source": [
    "df.columns"
   ]
  },
  {
   "cell_type": "markdown",
   "metadata": {
    "id": "9JdL0STs9Cl5"
   },
   "source": [
    "### `rename`\n",
    "Let's do a tiny columns cleanup."
   ]
  },
  {
   "cell_type": "code",
   "execution_count": 56,
   "metadata": {
    "colab": {
     "base_uri": "https://localhost:8080/"
    },
    "executionInfo": {
     "elapsed": 17,
     "status": "ok",
     "timestamp": 1635236642536,
     "user": {
      "displayName": "Ilan Vasilevsky",
      "photoUrl": "https://lh3.googleusercontent.com/a-/AOh14GguyxPxQM0_RGlxWIPJAwj0FMVfxWgPlwWl0QT3=s64",
      "userId": "01351641955183714281"
     },
     "user_tz": -180
    },
    "id": "eg0WAkvC9Cl5",
    "outputId": "65662f7c-9bec-450b-ba3d-7e9b7562e401"
   },
   "outputs": [
    {
     "data": {
      "text/plain": [
       "Index(['Title', 'Genre', 'Description', 'Director', 'Actors', 'Year',\n",
       "       'Runtime', 'Rating', 'Votes', 'Revenue_millions', 'Metascore'],\n",
       "      dtype='object')"
      ]
     },
     "execution_count": 56,
     "metadata": {},
     "output_type": "execute_result"
    }
   ],
   "source": [
    "df.rename(columns={ 'Runtime (Minutes)': 'Runtime', \n",
    "                    'Revenue (Millions)': 'Revenue_millions'}\n",
    "                   , inplace=True) # Note the inplace!\n",
    "\n",
    "df.columns"
   ]
  },
  {
   "cell_type": "code",
   "execution_count": 57,
   "metadata": {
    "colab": {
     "base_uri": "https://localhost:8080/"
    },
    "executionInfo": {
     "elapsed": 17,
     "status": "ok",
     "timestamp": 1635236642537,
     "user": {
      "displayName": "Ilan Vasilevsky",
      "photoUrl": "https://lh3.googleusercontent.com/a-/AOh14GguyxPxQM0_RGlxWIPJAwj0FMVfxWgPlwWl0QT3=s64",
      "userId": "01351641955183714281"
     },
     "user_tz": -180
    },
    "id": "VMQ3IVFW9Cl5",
    "outputId": "60cfd15a-0fd0-48df-ae82-cb6b53f3af7f"
   },
   "outputs": [
    {
     "data": {
      "text/plain": [
       "Index(['title', 'genre', 'description', 'director', 'actors', 'year',\n",
       "       'runtime', 'rating', 'votes', 'revenue_millions', 'metascore'],\n",
       "      dtype='object')"
      ]
     },
     "execution_count": 57,
     "metadata": {},
     "output_type": "execute_result"
    }
   ],
   "source": [
    "df.columns = [col.lower() for col in df]\n",
    "df.columns"
   ]
  },
  {
   "cell_type": "markdown",
   "metadata": {
    "id": "ecjuqp5d9Cl5"
   },
   "source": [
    "### `shape`"
   ]
  },
  {
   "cell_type": "code",
   "execution_count": 58,
   "metadata": {
    "colab": {
     "base_uri": "https://localhost:8080/"
    },
    "executionInfo": {
     "elapsed": 27,
     "status": "ok",
     "timestamp": 1635236643031,
     "user": {
      "displayName": "Ilan Vasilevsky",
      "photoUrl": "https://lh3.googleusercontent.com/a-/AOh14GguyxPxQM0_RGlxWIPJAwj0FMVfxWgPlwWl0QT3=s64",
      "userId": "01351641955183714281"
     },
     "user_tz": -180
    },
    "id": "1w4NOdTR9Cl6",
    "outputId": "6ee8e2b4-c893-4e8e-9ec0-e74cc7b676bf"
   },
   "outputs": [
    {
     "data": {
      "text/plain": [
       "(1000, 11)"
      ]
     },
     "execution_count": 58,
     "metadata": {},
     "output_type": "execute_result"
    }
   ],
   "source": [
    "df.shape #return the shape of th dataframe"
   ]
  },
  {
   "cell_type": "markdown",
   "metadata": {
    "id": "4hLlRK6Q9Cl6"
   },
   "source": [
    "### `dtype`\n",
    "The columns of the resulting DataFrame have different **dtypes** (data types)."
   ]
  },
  {
   "cell_type": "code",
   "execution_count": 59,
   "metadata": {
    "colab": {
     "base_uri": "https://localhost:8080/"
    },
    "executionInfo": {
     "elapsed": 25,
     "status": "ok",
     "timestamp": 1635236643031,
     "user": {
      "displayName": "Ilan Vasilevsky",
      "photoUrl": "https://lh3.googleusercontent.com/a-/AOh14GguyxPxQM0_RGlxWIPJAwj0FMVfxWgPlwWl0QT3=s64",
      "userId": "01351641955183714281"
     },
     "user_tz": -180
    },
    "id": "tWz8G3jW9Cl6",
    "outputId": "02a6421f-8fdc-4573-ef34-09d6ef992156"
   },
   "outputs": [
    {
     "data": {
      "text/plain": [
       "title                object\n",
       "genre                object\n",
       "description          object\n",
       "director             object\n",
       "actors               object\n",
       "year                  int64\n",
       "runtime               int64\n",
       "rating              float64\n",
       "votes                 int64\n",
       "revenue_millions    float64\n",
       "metascore           float64\n",
       "dtype: object"
      ]
     },
     "execution_count": 59,
     "metadata": {},
     "output_type": "execute_result"
    }
   ],
   "source": [
    "df.dtypes"
   ]
  },
  {
   "cell_type": "markdown",
   "metadata": {
    "id": "5z8yT_T49Cl6"
   },
   "source": [
    "*__note__: \"object\" dtype means string. Will be assigned to your column if column has mixed types (numbers and strings).*"
   ]
  },
  {
   "cell_type": "markdown",
   "metadata": {
    "id": "CwXahRlN9Cl6"
   },
   "source": [
    "### `index`\n",
    "The indeces of the data (row)"
   ]
  },
  {
   "cell_type": "code",
   "execution_count": 60,
   "metadata": {
    "colab": {
     "base_uri": "https://localhost:8080/"
    },
    "executionInfo": {
     "elapsed": 23,
     "status": "ok",
     "timestamp": 1635236643031,
     "user": {
      "displayName": "Ilan Vasilevsky",
      "photoUrl": "https://lh3.googleusercontent.com/a-/AOh14GguyxPxQM0_RGlxWIPJAwj0FMVfxWgPlwWl0QT3=s64",
      "userId": "01351641955183714281"
     },
     "user_tz": -180
    },
    "id": "SVz2kcN19Cl7",
    "outputId": "589aa3fe-75f4-4a71-9edd-6aadf303cb48"
   },
   "outputs": [
    {
     "data": {
      "text/plain": [
       "Int64Index([10066, 36452, 41798, 63054, 16233, 68178, 10033, 52344, 61536,\n",
       "            29367,\n",
       "            ...\n",
       "            96581, 60368, 37045, 75252, 89837, 87845, 83535, 48221, 54715,\n",
       "            83080],\n",
       "           dtype='int64', name='ID', length=1000)"
      ]
     },
     "execution_count": 60,
     "metadata": {},
     "output_type": "execute_result"
    }
   ],
   "source": [
    "df.index"
   ]
  },
  {
   "cell_type": "markdown",
   "metadata": {
    "id": "csRQwwTg9Cl7"
   },
   "source": [
    "We can also reset the index:"
   ]
  },
  {
   "cell_type": "code",
   "execution_count": 61,
   "metadata": {
    "colab": {
     "base_uri": "https://localhost:8080/",
     "height": 278
    },
    "executionInfo": {
     "elapsed": 22,
     "status": "ok",
     "timestamp": 1635236643032,
     "user": {
      "displayName": "Ilan Vasilevsky",
      "photoUrl": "https://lh3.googleusercontent.com/a-/AOh14GguyxPxQM0_RGlxWIPJAwj0FMVfxWgPlwWl0QT3=s64",
      "userId": "01351641955183714281"
     },
     "user_tz": -180
    },
    "id": "5W4zTK_l9Cl7",
    "outputId": "cc37a398-0134-4058-8676-e960ccd09f6a"
   },
   "outputs": [
    {
     "data": {
      "text/html": [
       "<div>\n",
       "<style scoped>\n",
       "    .dataframe tbody tr th:only-of-type {\n",
       "        vertical-align: middle;\n",
       "    }\n",
       "\n",
       "    .dataframe tbody tr th {\n",
       "        vertical-align: top;\n",
       "    }\n",
       "\n",
       "    .dataframe thead th {\n",
       "        text-align: right;\n",
       "    }\n",
       "</style>\n",
       "<table border=\"1\" class=\"dataframe\">\n",
       "  <thead>\n",
       "    <tr style=\"text-align: right;\">\n",
       "      <th></th>\n",
       "      <th>ID</th>\n",
       "      <th>title</th>\n",
       "      <th>genre</th>\n",
       "      <th>description</th>\n",
       "      <th>director</th>\n",
       "      <th>actors</th>\n",
       "      <th>year</th>\n",
       "      <th>runtime</th>\n",
       "      <th>rating</th>\n",
       "      <th>votes</th>\n",
       "      <th>revenue_millions</th>\n",
       "      <th>metascore</th>\n",
       "    </tr>\n",
       "  </thead>\n",
       "  <tbody>\n",
       "    <tr>\n",
       "      <th>0</th>\n",
       "      <td>10066</td>\n",
       "      <td>Guardians of the Galaxy</td>\n",
       "      <td>Action,Adventure,Sci-Fi</td>\n",
       "      <td>A group of intergalactic criminals are forced ...</td>\n",
       "      <td>James Gunn</td>\n",
       "      <td>Chris Pratt, Vin Diesel, Bradley Cooper, Zoe S...</td>\n",
       "      <td>2014</td>\n",
       "      <td>121</td>\n",
       "      <td>8.1</td>\n",
       "      <td>757074</td>\n",
       "      <td>333.13</td>\n",
       "      <td>76.0</td>\n",
       "    </tr>\n",
       "    <tr>\n",
       "      <th>1</th>\n",
       "      <td>36452</td>\n",
       "      <td>Prometheus</td>\n",
       "      <td>Adventure,Mystery,Sci-Fi</td>\n",
       "      <td>Following clues to the origin of mankind, a te...</td>\n",
       "      <td>Ridley Scott</td>\n",
       "      <td>Noomi Rapace, Logan Marshall-Green, Michael Fa...</td>\n",
       "      <td>2012</td>\n",
       "      <td>124</td>\n",
       "      <td>7.0</td>\n",
       "      <td>485820</td>\n",
       "      <td>126.46</td>\n",
       "      <td>65.0</td>\n",
       "    </tr>\n",
       "    <tr>\n",
       "      <th>2</th>\n",
       "      <td>41798</td>\n",
       "      <td>Split</td>\n",
       "      <td>Horror,Thriller</td>\n",
       "      <td>Three girls are kidnapped by a man with a diag...</td>\n",
       "      <td>M. Night Shyamalan</td>\n",
       "      <td>James McAvoy, Anya Taylor-Joy, Haley Lu Richar...</td>\n",
       "      <td>2016</td>\n",
       "      <td>117</td>\n",
       "      <td>7.3</td>\n",
       "      <td>157606</td>\n",
       "      <td>138.12</td>\n",
       "      <td>62.0</td>\n",
       "    </tr>\n",
       "  </tbody>\n",
       "</table>\n",
       "</div>"
      ],
      "text/plain": [
       "      ID                    title                     genre  \\\n",
       "0  10066  Guardians of the Galaxy   Action,Adventure,Sci-Fi   \n",
       "1  36452               Prometheus  Adventure,Mystery,Sci-Fi   \n",
       "2  41798                    Split           Horror,Thriller   \n",
       "\n",
       "                                         description            director  \\\n",
       "0  A group of intergalactic criminals are forced ...          James Gunn   \n",
       "1  Following clues to the origin of mankind, a te...        Ridley Scott   \n",
       "2  Three girls are kidnapped by a man with a diag...  M. Night Shyamalan   \n",
       "\n",
       "                                              actors  year  runtime  rating  \\\n",
       "0  Chris Pratt, Vin Diesel, Bradley Cooper, Zoe S...  2014      121     8.1   \n",
       "1  Noomi Rapace, Logan Marshall-Green, Michael Fa...  2012      124     7.0   \n",
       "2  James McAvoy, Anya Taylor-Joy, Haley Lu Richar...  2016      117     7.3   \n",
       "\n",
       "    votes  revenue_millions  metascore  \n",
       "0  757074            333.13       76.0  \n",
       "1  485820            126.46       65.0  \n",
       "2  157606            138.12       62.0  "
      ]
     },
     "execution_count": 61,
     "metadata": {},
     "output_type": "execute_result"
    }
   ],
   "source": [
    "new_idx_df = df.reset_index()\n",
    "new_idx_df.head(3)"
   ]
  },
  {
   "cell_type": "markdown",
   "metadata": {
    "id": "d-4SO1RsS8dw"
   },
   "source": [
    "### `values`\n",
    "Returns the DataFrame as a 2d numpy array.<br>\n",
    "every list (array row) in the **output** numpy array  was a record (row) in the **input** DataFrame."
   ]
  },
  {
   "cell_type": "code",
   "execution_count": 62,
   "metadata": {
    "colab": {
     "base_uri": "https://localhost:8080/"
    },
    "executionInfo": {
     "elapsed": 21,
     "status": "ok",
     "timestamp": 1635236643032,
     "user": {
      "displayName": "Ilan Vasilevsky",
      "photoUrl": "https://lh3.googleusercontent.com/a-/AOh14GguyxPxQM0_RGlxWIPJAwj0FMVfxWgPlwWl0QT3=s64",
      "userId": "01351641955183714281"
     },
     "user_tz": -180
    },
    "id": "TXg9uxOoS8dx",
    "outputId": "25c8e592-592d-47f5-ced2-215a16d98789"
   },
   "outputs": [
    {
     "data": {
      "text/plain": [
       "array([['Guardians of the Galaxy', 'Action,Adventure,Sci-Fi',\n",
       "        'A group of intergalactic criminals are forced to work together to stop a fanatical warrior from taking control of the universe.',\n",
       "        ..., 757074, 333.13, 76.0],\n",
       "       ['Prometheus', 'Adventure,Mystery,Sci-Fi',\n",
       "        'Following clues to the origin of mankind, a team finds a structure on a distant moon, but they soon realize they are not alone.',\n",
       "        ..., 485820, 126.46, 65.0],\n",
       "       ['Split', 'Horror,Thriller',\n",
       "        'Three girls are kidnapped by a man with a diagnosed 23 distinct personalities. They must try to escape before the apparent emergence of a frightful new 24th.',\n",
       "        ..., 157606, 138.12, 62.0],\n",
       "       ...,\n",
       "       ['Step Up 2: The Streets', 'Drama,Music,Romance',\n",
       "        'Romantic sparks occur between two dance students from different backgrounds at the Maryland School of the Arts.',\n",
       "        ..., 70699, 58.01, 50.0],\n",
       "       ['Search Party', 'Adventure,Comedy',\n",
       "        'A pair of friends embark on a mission to reunite their pal with the woman he was going to marry.',\n",
       "        ..., 4881, nan, 22.0],\n",
       "       ['Nine Lives', 'Comedy,Family,Fantasy',\n",
       "        \"A stuffy businessman finds himself trapped inside the body of his family's cat.\",\n",
       "        ..., 12435, 19.64, 11.0]], dtype=object)"
      ]
     },
     "execution_count": 62,
     "metadata": {},
     "output_type": "execute_result"
    }
   ],
   "source": [
    "df.values"
   ]
  },
  {
   "cell_type": "markdown",
   "metadata": {
    "id": "S5HqQ_Kgdkaj"
   },
   "source": [
    "### `describe()` (statistics)\n",
    "shows a quick statistic summary of your data.apply only on numeric columns"
   ]
  },
  {
   "cell_type": "code",
   "execution_count": 63,
   "metadata": {
    "colab": {
     "base_uri": "https://localhost:8080/",
     "height": 235
    },
    "executionInfo": {
     "elapsed": 19,
     "status": "ok",
     "timestamp": 1635236643032,
     "user": {
      "displayName": "Ilan Vasilevsky",
      "photoUrl": "https://lh3.googleusercontent.com/a-/AOh14GguyxPxQM0_RGlxWIPJAwj0FMVfxWgPlwWl0QT3=s64",
      "userId": "01351641955183714281"
     },
     "user_tz": -180
    },
    "id": "-b8CwzMUdkak",
    "outputId": "00c148f6-72c5-4a01-b46d-f49d8b8891bd"
   },
   "outputs": [
    {
     "data": {
      "text/html": [
       "<div>\n",
       "<style scoped>\n",
       "    .dataframe tbody tr th:only-of-type {\n",
       "        vertical-align: middle;\n",
       "    }\n",
       "\n",
       "    .dataframe tbody tr th {\n",
       "        vertical-align: top;\n",
       "    }\n",
       "\n",
       "    .dataframe thead th {\n",
       "        text-align: right;\n",
       "    }\n",
       "</style>\n",
       "<table border=\"1\" class=\"dataframe\">\n",
       "  <thead>\n",
       "    <tr style=\"text-align: right;\">\n",
       "      <th></th>\n",
       "      <th>year</th>\n",
       "      <th>runtime</th>\n",
       "      <th>rating</th>\n",
       "      <th>votes</th>\n",
       "      <th>revenue_millions</th>\n",
       "      <th>metascore</th>\n",
       "    </tr>\n",
       "    <tr>\n",
       "      <th>ID</th>\n",
       "      <th></th>\n",
       "      <th></th>\n",
       "      <th></th>\n",
       "      <th></th>\n",
       "      <th></th>\n",
       "      <th></th>\n",
       "    </tr>\n",
       "  </thead>\n",
       "  <tbody>\n",
       "    <tr>\n",
       "      <th>10066</th>\n",
       "      <td>2014</td>\n",
       "      <td>121</td>\n",
       "      <td>8.1</td>\n",
       "      <td>757074</td>\n",
       "      <td>333.13</td>\n",
       "      <td>76.0</td>\n",
       "    </tr>\n",
       "    <tr>\n",
       "      <th>36452</th>\n",
       "      <td>2012</td>\n",
       "      <td>124</td>\n",
       "      <td>7.0</td>\n",
       "      <td>485820</td>\n",
       "      <td>126.46</td>\n",
       "      <td>65.0</td>\n",
       "    </tr>\n",
       "    <tr>\n",
       "      <th>41798</th>\n",
       "      <td>2016</td>\n",
       "      <td>117</td>\n",
       "      <td>7.3</td>\n",
       "      <td>157606</td>\n",
       "      <td>138.12</td>\n",
       "      <td>62.0</td>\n",
       "    </tr>\n",
       "    <tr>\n",
       "      <th>63054</th>\n",
       "      <td>2016</td>\n",
       "      <td>108</td>\n",
       "      <td>7.2</td>\n",
       "      <td>60545</td>\n",
       "      <td>270.32</td>\n",
       "      <td>59.0</td>\n",
       "    </tr>\n",
       "    <tr>\n",
       "      <th>16233</th>\n",
       "      <td>2016</td>\n",
       "      <td>123</td>\n",
       "      <td>6.2</td>\n",
       "      <td>393727</td>\n",
       "      <td>325.02</td>\n",
       "      <td>40.0</td>\n",
       "    </tr>\n",
       "  </tbody>\n",
       "</table>\n",
       "</div>"
      ],
      "text/plain": [
       "       year  runtime  rating   votes  revenue_millions  metascore\n",
       "ID                                                               \n",
       "10066  2014      121     8.1  757074            333.13       76.0\n",
       "36452  2012      124     7.0  485820            126.46       65.0\n",
       "41798  2016      117     7.3  157606            138.12       62.0\n",
       "63054  2016      108     7.2   60545            270.32       59.0\n",
       "16233  2016      123     6.2  393727            325.02       40.0"
      ]
     },
     "execution_count": 63,
     "metadata": {},
     "output_type": "execute_result"
    }
   ],
   "source": [
    "df._get_numeric_data().head(5) #show column (with values) of numeric data"
   ]
  },
  {
   "cell_type": "code",
   "execution_count": 64,
   "metadata": {
    "colab": {
     "base_uri": "https://localhost:8080/",
     "height": 297
    },
    "executionInfo": {
     "elapsed": 20,
     "status": "ok",
     "timestamp": 1635236643033,
     "user": {
      "displayName": "Ilan Vasilevsky",
      "photoUrl": "https://lh3.googleusercontent.com/a-/AOh14GguyxPxQM0_RGlxWIPJAwj0FMVfxWgPlwWl0QT3=s64",
      "userId": "01351641955183714281"
     },
     "user_tz": -180
    },
    "id": "nOou97Q2dkak",
    "outputId": "0962c406-967e-4712-c971-f1e5bf9762f3"
   },
   "outputs": [
    {
     "data": {
      "text/html": [
       "<div>\n",
       "<style scoped>\n",
       "    .dataframe tbody tr th:only-of-type {\n",
       "        vertical-align: middle;\n",
       "    }\n",
       "\n",
       "    .dataframe tbody tr th {\n",
       "        vertical-align: top;\n",
       "    }\n",
       "\n",
       "    .dataframe thead th {\n",
       "        text-align: right;\n",
       "    }\n",
       "</style>\n",
       "<table border=\"1\" class=\"dataframe\">\n",
       "  <thead>\n",
       "    <tr style=\"text-align: right;\">\n",
       "      <th></th>\n",
       "      <th>year</th>\n",
       "      <th>runtime</th>\n",
       "      <th>rating</th>\n",
       "      <th>votes</th>\n",
       "      <th>revenue_millions</th>\n",
       "      <th>metascore</th>\n",
       "    </tr>\n",
       "  </thead>\n",
       "  <tbody>\n",
       "    <tr>\n",
       "      <th>count</th>\n",
       "      <td>1000.000000</td>\n",
       "      <td>1000.000000</td>\n",
       "      <td>1000.000000</td>\n",
       "      <td>1.000000e+03</td>\n",
       "      <td>872.000000</td>\n",
       "      <td>936.000000</td>\n",
       "    </tr>\n",
       "    <tr>\n",
       "      <th>mean</th>\n",
       "      <td>2012.783000</td>\n",
       "      <td>113.172000</td>\n",
       "      <td>6.723200</td>\n",
       "      <td>1.698083e+05</td>\n",
       "      <td>82.956376</td>\n",
       "      <td>58.985043</td>\n",
       "    </tr>\n",
       "    <tr>\n",
       "      <th>std</th>\n",
       "      <td>3.205962</td>\n",
       "      <td>18.810908</td>\n",
       "      <td>0.945429</td>\n",
       "      <td>1.887626e+05</td>\n",
       "      <td>103.253540</td>\n",
       "      <td>17.194757</td>\n",
       "    </tr>\n",
       "    <tr>\n",
       "      <th>min</th>\n",
       "      <td>2006.000000</td>\n",
       "      <td>66.000000</td>\n",
       "      <td>1.900000</td>\n",
       "      <td>6.100000e+01</td>\n",
       "      <td>0.000000</td>\n",
       "      <td>11.000000</td>\n",
       "    </tr>\n",
       "    <tr>\n",
       "      <th>25%</th>\n",
       "      <td>2010.000000</td>\n",
       "      <td>100.000000</td>\n",
       "      <td>6.200000</td>\n",
       "      <td>3.630900e+04</td>\n",
       "      <td>13.270000</td>\n",
       "      <td>47.000000</td>\n",
       "    </tr>\n",
       "    <tr>\n",
       "      <th>50%</th>\n",
       "      <td>2014.000000</td>\n",
       "      <td>111.000000</td>\n",
       "      <td>6.800000</td>\n",
       "      <td>1.107990e+05</td>\n",
       "      <td>47.985000</td>\n",
       "      <td>59.500000</td>\n",
       "    </tr>\n",
       "    <tr>\n",
       "      <th>75%</th>\n",
       "      <td>2016.000000</td>\n",
       "      <td>123.000000</td>\n",
       "      <td>7.400000</td>\n",
       "      <td>2.399098e+05</td>\n",
       "      <td>113.715000</td>\n",
       "      <td>72.000000</td>\n",
       "    </tr>\n",
       "    <tr>\n",
       "      <th>max</th>\n",
       "      <td>2016.000000</td>\n",
       "      <td>191.000000</td>\n",
       "      <td>9.000000</td>\n",
       "      <td>1.791916e+06</td>\n",
       "      <td>936.630000</td>\n",
       "      <td>100.000000</td>\n",
       "    </tr>\n",
       "  </tbody>\n",
       "</table>\n",
       "</div>"
      ],
      "text/plain": [
       "              year      runtime       rating         votes  revenue_millions  \\\n",
       "count  1000.000000  1000.000000  1000.000000  1.000000e+03        872.000000   \n",
       "mean   2012.783000   113.172000     6.723200  1.698083e+05         82.956376   \n",
       "std       3.205962    18.810908     0.945429  1.887626e+05        103.253540   \n",
       "min    2006.000000    66.000000     1.900000  6.100000e+01          0.000000   \n",
       "25%    2010.000000   100.000000     6.200000  3.630900e+04         13.270000   \n",
       "50%    2014.000000   111.000000     6.800000  1.107990e+05         47.985000   \n",
       "75%    2016.000000   123.000000     7.400000  2.399098e+05        113.715000   \n",
       "max    2016.000000   191.000000     9.000000  1.791916e+06        936.630000   \n",
       "\n",
       "        metascore  \n",
       "count  936.000000  \n",
       "mean    58.985043  \n",
       "std     17.194757  \n",
       "min     11.000000  \n",
       "25%     47.000000  \n",
       "50%     59.500000  \n",
       "75%     72.000000  \n",
       "max    100.000000  "
      ]
     },
     "execution_count": 64,
     "metadata": {},
     "output_type": "execute_result"
    }
   ],
   "source": [
    "df.describe()"
   ]
  },
  {
   "cell_type": "markdown",
   "metadata": {
    "id": "oZrSpRbBdkak"
   },
   "source": [
    "All statistics above can be generated seperetly with their names as methods:\n",
    "- `df.count()`\n",
    "- `df.mean()`\n",
    "- `df.std()`\n",
    "- `df.max()`\n",
    "- `df.min()`"
   ]
  },
  {
   "cell_type": "markdown",
   "metadata": {
    "id": "bqPpPbAq9Cl9"
   },
   "source": [
    "for example:"
   ]
  },
  {
   "cell_type": "code",
   "execution_count": 65,
   "metadata": {
    "colab": {
     "base_uri": "https://localhost:8080/"
    },
    "executionInfo": {
     "elapsed": 19,
     "status": "ok",
     "timestamp": 1635236643033,
     "user": {
      "displayName": "Ilan Vasilevsky",
      "photoUrl": "https://lh3.googleusercontent.com/a-/AOh14GguyxPxQM0_RGlxWIPJAwj0FMVfxWgPlwWl0QT3=s64",
      "userId": "01351641955183714281"
     },
     "user_tz": -180
    },
    "id": "CxrjvHXRdkak",
    "outputId": "9608a339-013c-4d52-9f65-93280394724d"
   },
   "outputs": [
    {
     "data": {
      "text/plain": [
       "6.723200000000003"
      ]
     },
     "execution_count": 65,
     "metadata": {},
     "output_type": "execute_result"
    }
   ],
   "source": [
    "df['rating'].mean() #find the mean (average) of rating column"
   ]
  },
  {
   "cell_type": "markdown",
   "metadata": {
    "id": "lw1uP5a99Cl-"
   },
   "source": [
    "### `append()`\n",
    "Append rows of another DataFrame to the end of this frame, returning a new object.<br>\n",
    "Columns not in this frame are added as new columns."
   ]
  },
  {
   "cell_type": "code",
   "execution_count": 66,
   "metadata": {
    "colab": {
     "base_uri": "https://localhost:8080/"
    },
    "executionInfo": {
     "elapsed": 17,
     "status": "ok",
     "timestamp": 1635236643033,
     "user": {
      "displayName": "Ilan Vasilevsky",
      "photoUrl": "https://lh3.googleusercontent.com/a-/AOh14GguyxPxQM0_RGlxWIPJAwj0FMVfxWgPlwWl0QT3=s64",
      "userId": "01351641955183714281"
     },
     "user_tz": -180
    },
    "id": "QA3OcALW9Cl_",
    "outputId": "bb65eed5-181c-4e92-b4f4-3911df3611fa"
   },
   "outputs": [
    {
     "data": {
      "text/plain": [
       "(2000, 11)"
      ]
     },
     "execution_count": 66,
     "metadata": {},
     "output_type": "execute_result"
    }
   ],
   "source": [
    "temp_df = df.append(df)\n",
    "temp_df.shape"
   ]
  },
  {
   "cell_type": "markdown",
   "metadata": {
    "id": "Yy29TCca9Cl_"
   },
   "source": [
    "### `remove_duplicates()`\n",
    "method will also return a copy of your DataFrame, but this time with duplicates removed. Calling ``.shape`` confirms we're back to the 1000 rows of our original dataset"
   ]
  },
  {
   "cell_type": "code",
   "execution_count": 67,
   "metadata": {
    "colab": {
     "base_uri": "https://localhost:8080/"
    },
    "executionInfo": {
     "elapsed": 15,
     "status": "ok",
     "timestamp": 1635236643033,
     "user": {
      "displayName": "Ilan Vasilevsky",
      "photoUrl": "https://lh3.googleusercontent.com/a-/AOh14GguyxPxQM0_RGlxWIPJAwj0FMVfxWgPlwWl0QT3=s64",
      "userId": "01351641955183714281"
     },
     "user_tz": -180
    },
    "id": "vb9IkoM49Cl_",
    "outputId": "a95ee34c-de99-45a4-e89e-b48ac8e5bb72"
   },
   "outputs": [
    {
     "data": {
      "text/plain": [
       "(1000, 11)"
      ]
     },
     "execution_count": 67,
     "metadata": {},
     "output_type": "execute_result"
    }
   ],
   "source": [
    "temp_df.drop_duplicates().shape"
   ]
  },
  {
   "cell_type": "markdown",
   "metadata": {
    "id": "BcRC9qjf9CmA"
   },
   "source": [
    "But- notice!"
   ]
  },
  {
   "cell_type": "code",
   "execution_count": 68,
   "metadata": {
    "colab": {
     "base_uri": "https://localhost:8080/"
    },
    "executionInfo": {
     "elapsed": 15,
     "status": "ok",
     "timestamp": 1635236643034,
     "user": {
      "displayName": "Ilan Vasilevsky",
      "photoUrl": "https://lh3.googleusercontent.com/a-/AOh14GguyxPxQM0_RGlxWIPJAwj0FMVfxWgPlwWl0QT3=s64",
      "userId": "01351641955183714281"
     },
     "user_tz": -180
    },
    "id": "kEgbiOt99CmA",
    "outputId": "97a04c20-85e7-4e3d-e2c8-3b8ef16e90bc"
   },
   "outputs": [
    {
     "data": {
      "text/plain": [
       "(2000, 11)"
      ]
     },
     "execution_count": 68,
     "metadata": {},
     "output_type": "execute_result"
    }
   ],
   "source": [
    "temp_df.drop_duplicates()\n",
    "temp_df.shape"
   ]
  },
  {
   "cell_type": "markdown",
   "metadata": {
    "id": "sRU5pJMI9CmA"
   },
   "source": [
    "2 options to fix issue\n",
    "<br>  Using ``inplace=True`` will modify the DataFrame object in place"
   ]
  },
  {
   "cell_type": "code",
   "execution_count": 69,
   "metadata": {
    "colab": {
     "base_uri": "https://localhost:8080/"
    },
    "executionInfo": {
     "elapsed": 14,
     "status": "ok",
     "timestamp": 1635236643034,
     "user": {
      "displayName": "Ilan Vasilevsky",
      "photoUrl": "https://lh3.googleusercontent.com/a-/AOh14GguyxPxQM0_RGlxWIPJAwj0FMVfxWgPlwWl0QT3=s64",
      "userId": "01351641955183714281"
     },
     "user_tz": -180
    },
    "id": "bAv3wmTU9CmA",
    "outputId": "d0f9eb92-091b-4e9b-bf21-43773264af76"
   },
   "outputs": [
    {
     "data": {
      "text/plain": [
       "(1000, 11)"
      ]
     },
     "execution_count": 69,
     "metadata": {},
     "output_type": "execute_result"
    }
   ],
   "source": [
    "temp_df = temp_df.drop_duplicates()\n",
    "temp_df.shape"
   ]
  },
  {
   "cell_type": "code",
   "execution_count": 70,
   "metadata": {
    "colab": {
     "base_uri": "https://localhost:8080/"
    },
    "executionInfo": {
     "elapsed": 12,
     "status": "ok",
     "timestamp": 1635236643034,
     "user": {
      "displayName": "Ilan Vasilevsky",
      "photoUrl": "https://lh3.googleusercontent.com/a-/AOh14GguyxPxQM0_RGlxWIPJAwj0FMVfxWgPlwWl0QT3=s64",
      "userId": "01351641955183714281"
     },
     "user_tz": -180
    },
    "id": "mpqod5x39CmB",
    "outputId": "dfea5863-6b72-4c4a-fc44-b9201aba1203"
   },
   "outputs": [
    {
     "data": {
      "text/plain": [
       "(1000, 11)"
      ]
     },
     "execution_count": 70,
     "metadata": {},
     "output_type": "execute_result"
    }
   ],
   "source": [
    "temp_df.drop_duplicates(inplace=True)\n",
    "temp_df.shape"
   ]
  },
  {
   "cell_type": "markdown",
   "metadata": {
    "id": "Bh00FVSw9CmB"
   },
   "source": [
    "---"
   ]
  },
  {
   "cell_type": "markdown",
   "metadata": {
    "id": "ZHedmr-tS8dz"
   },
   "source": [
    "## Accessing Data - Indexing\n",
    "\n",
    "pandas indexing can be seem complicated at times due to its high flexibility. However, its relative importance should motivate you to overcome this initial barrier.\n",
    "\n",
    "The pandas documentation summarizes it in the following manner:\n",
    "\n",
    "|Operation|Syntax|Result|\n",
    "|--------|-------|------|\n",
    "|Select column| `df[col], df.col` | Series|\n",
    "|Select row by label| `df.loc[row_label]` | Series|\n",
    "|Select row by integer location| `df.iloc[intloc]` | Series|\n",
    "|Slice rows| `df[5:10]` | DataFrame|\n",
    "|Select rows by boolean vector| `df[bool_vec]` or `df.loc[bool_vec]` or `df.iloc[bool_vec]` | DataFrame|"
   ]
  },
  {
   "cell_type": "markdown",
   "metadata": {
    "id": "fSso35fQmGKb"
   },
   "source": [
    "For more information, see the [Index documentation](http://pandas.pydata.org/pandas-docs/stable/indexing.html#index-objects)."
   ]
  },
  {
   "cell_type": "markdown",
   "metadata": {
    "id": "LWfoty5q9CmB"
   },
   "source": [
    "**Single column**"
   ]
  },
  {
   "cell_type": "code",
   "execution_count": 52,
   "metadata": {
    "colab": {
     "base_uri": "https://localhost:8080/"
    },
    "executionInfo": {
     "elapsed": 419,
     "status": "ok",
     "timestamp": 1635236643443,
     "user": {
      "displayName": "Ilan Vasilevsky",
      "photoUrl": "https://lh3.googleusercontent.com/a-/AOh14GguyxPxQM0_RGlxWIPJAwj0FMVfxWgPlwWl0QT3=s64",
      "userId": "01351641955183714281"
     },
     "user_tz": -180
    },
    "id": "aTj0e7qm9CmB",
    "outputId": "e532862e-519c-45e6-c724-5c909b59c055"
   },
   "outputs": [
    {
     "data": {
      "text/plain": [
       "ID\n",
       "10066    Guardians of the Galaxy\n",
       "36452                 Prometheus\n",
       "41798                      Split\n",
       "63054                       Sing\n",
       "16233              Suicide Squad\n",
       "68178             The Great Wall\n",
       "10033                 La La Land\n",
       "Name: title, dtype: object"
      ]
     },
     "execution_count": 52,
     "metadata": {},
     "output_type": "execute_result"
    }
   ],
   "source": [
    "df[\"title\"][0:7] #select column + slice rows : Will yield a *Series*"
   ]
  },
  {
   "cell_type": "markdown",
   "metadata": {
    "id": "XIKCNMhsq1wV"
   },
   "source": [
    "**Multiple Columns**"
   ]
  },
  {
   "cell_type": "code",
   "execution_count": 53,
   "metadata": {
    "colab": {
     "base_uri": "https://localhost:8080/",
     "height": 297
    },
    "executionInfo": {
     "elapsed": 21,
     "status": "ok",
     "timestamp": 1635236643444,
     "user": {
      "displayName": "Ilan Vasilevsky",
      "photoUrl": "https://lh3.googleusercontent.com/a-/AOh14GguyxPxQM0_RGlxWIPJAwj0FMVfxWgPlwWl0QT3=s64",
      "userId": "01351641955183714281"
     },
     "user_tz": -180
    },
    "id": "iRRoacnxq1wV",
    "outputId": "354103b2-9581-4a6b-cbbf-cf685bbf64f1"
   },
   "outputs": [
    {
     "data": {
      "text/html": [
       "<div>\n",
       "<style scoped>\n",
       "    .dataframe tbody tr th:only-of-type {\n",
       "        vertical-align: middle;\n",
       "    }\n",
       "\n",
       "    .dataframe tbody tr th {\n",
       "        vertical-align: top;\n",
       "    }\n",
       "\n",
       "    .dataframe thead th {\n",
       "        text-align: right;\n",
       "    }\n",
       "</style>\n",
       "<table border=\"1\" class=\"dataframe\">\n",
       "  <thead>\n",
       "    <tr style=\"text-align: right;\">\n",
       "      <th></th>\n",
       "      <th>title</th>\n",
       "      <th>genre</th>\n",
       "    </tr>\n",
       "    <tr>\n",
       "      <th>ID</th>\n",
       "      <th></th>\n",
       "      <th></th>\n",
       "    </tr>\n",
       "  </thead>\n",
       "  <tbody>\n",
       "    <tr>\n",
       "      <th>10066</th>\n",
       "      <td>Guardians of the Galaxy</td>\n",
       "      <td>Action,Adventure,Sci-Fi</td>\n",
       "    </tr>\n",
       "    <tr>\n",
       "      <th>36452</th>\n",
       "      <td>Prometheus</td>\n",
       "      <td>Adventure,Mystery,Sci-Fi</td>\n",
       "    </tr>\n",
       "    <tr>\n",
       "      <th>41798</th>\n",
       "      <td>Split</td>\n",
       "      <td>Horror,Thriller</td>\n",
       "    </tr>\n",
       "    <tr>\n",
       "      <th>63054</th>\n",
       "      <td>Sing</td>\n",
       "      <td>Animation,Comedy,Family</td>\n",
       "    </tr>\n",
       "    <tr>\n",
       "      <th>16233</th>\n",
       "      <td>Suicide Squad</td>\n",
       "      <td>Action,Adventure,Fantasy</td>\n",
       "    </tr>\n",
       "    <tr>\n",
       "      <th>68178</th>\n",
       "      <td>The Great Wall</td>\n",
       "      <td>Action,Adventure,Fantasy</td>\n",
       "    </tr>\n",
       "    <tr>\n",
       "      <th>10033</th>\n",
       "      <td>La La Land</td>\n",
       "      <td>Comedy,Drama,Music</td>\n",
       "    </tr>\n",
       "  </tbody>\n",
       "</table>\n",
       "</div>"
      ],
      "text/plain": [
       "                         title                     genre\n",
       "ID                                                      \n",
       "10066  Guardians of the Galaxy   Action,Adventure,Sci-Fi\n",
       "36452               Prometheus  Adventure,Mystery,Sci-Fi\n",
       "41798                    Split           Horror,Thriller\n",
       "63054                     Sing   Animation,Comedy,Family\n",
       "16233            Suicide Squad  Action,Adventure,Fantasy\n",
       "68178           The Great Wall  Action,Adventure,Fantasy\n",
       "10033               La La Land        Comedy,Drama,Music"
      ]
     },
     "execution_count": 53,
     "metadata": {},
     "output_type": "execute_result"
    }
   ],
   "source": [
    "df[[\"title\",\"genre\"]][0:7]  # Will yeild a DataFrame"
   ]
  },
  {
   "cell_type": "markdown",
   "metadata": {
    "id": "1C3B19RKq1wW"
   },
   "source": [
    "A new dataframe is born"
   ]
  },
  {
   "cell_type": "code",
   "execution_count": 54,
   "metadata": {
    "colab": {
     "base_uri": "https://localhost:8080/",
     "height": 173
    },
    "executionInfo": {
     "elapsed": 20,
     "status": "ok",
     "timestamp": 1635236643444,
     "user": {
      "displayName": "Ilan Vasilevsky",
      "photoUrl": "https://lh3.googleusercontent.com/a-/AOh14GguyxPxQM0_RGlxWIPJAwj0FMVfxWgPlwWl0QT3=s64",
      "userId": "01351641955183714281"
     },
     "user_tz": -180
    },
    "id": "tGfEhgQtq1wW",
    "outputId": "61b90c45-c077-49d4-9b37-abe396fa3b03"
   },
   "outputs": [
    {
     "data": {
      "text/html": [
       "<div>\n",
       "<style scoped>\n",
       "    .dataframe tbody tr th:only-of-type {\n",
       "        vertical-align: middle;\n",
       "    }\n",
       "\n",
       "    .dataframe tbody tr th {\n",
       "        vertical-align: top;\n",
       "    }\n",
       "\n",
       "    .dataframe thead th {\n",
       "        text-align: right;\n",
       "    }\n",
       "</style>\n",
       "<table border=\"1\" class=\"dataframe\">\n",
       "  <thead>\n",
       "    <tr style=\"text-align: right;\">\n",
       "      <th></th>\n",
       "      <th>age</th>\n",
       "      <th>breed</th>\n",
       "      <th>energy</th>\n",
       "    </tr>\n",
       "  </thead>\n",
       "  <tbody>\n",
       "    <tr>\n",
       "      <th>Lichy</th>\n",
       "      <td>1</td>\n",
       "      <td>Beagle</td>\n",
       "      <td>10</td>\n",
       "    </tr>\n",
       "    <tr>\n",
       "      <th>Emi</th>\n",
       "      <td>4</td>\n",
       "      <td>Schnauzer</td>\n",
       "      <td>2</td>\n",
       "    </tr>\n",
       "    <tr>\n",
       "      <th>Bamba</th>\n",
       "      <td>7</td>\n",
       "      <td>Shepherd</td>\n",
       "      <td>6</td>\n",
       "    </tr>\n",
       "    <tr>\n",
       "      <th>Miki</th>\n",
       "      <td>3</td>\n",
       "      <td>Shitzu</td>\n",
       "      <td>0</td>\n",
       "    </tr>\n",
       "  </tbody>\n",
       "</table>\n",
       "</div>"
      ],
      "text/plain": [
       "       age      breed  energy\n",
       "Lichy    1     Beagle      10\n",
       "Emi      4  Schnauzer       2\n",
       "Bamba    7   Shepherd       6\n",
       "Miki     3     Shitzu       0"
      ]
     },
     "execution_count": 54,
     "metadata": {},
     "output_type": "execute_result"
    }
   ],
   "source": [
    "#Lets create a new dataframe to practice on\n",
    "dog_names = [\"Lichy\",\"Emi\",\"Bamba\",\"Miki\"]\n",
    "dog_ages = [1,4,7,3]\n",
    "dog_breeds = [\"Beagle\",\"Schnauzer\",\"Shepherd\",\"Shitzu\"]\n",
    "dog_energy_levels = [10,2,6,0]\n",
    "\n",
    "dog_dictionary = {'age':dog_ages, 'breed':dog_breeds,'energy':dog_energy_levels}\n",
    "dog_df = pd.DataFrame(dog_dictionary,index=dog_names)\n",
    "\n",
    "dog_df"
   ]
  },
  {
   "cell_type": "markdown",
   "metadata": {
    "id": "I9FH2z2kq1wW"
   },
   "source": [
    "### `.loc`\n",
    "`.loc` is primarily label based, but may also be used with a boolean array. .loc will raise KeyError when the items are not found. Allowed inputs are:\n",
    "\n",
    "- A single label, e.g. 5 or 'a', (note that 5 is interpreted as a label of the index. This use is not an integer position along the index)\n",
    "\n",
    "- A list or array of labels ['a', 'b', 'c']\n",
    "\n",
    "- A slice object with labels `'a':'f'` (note that contrary to usual python slices, both the start and the stop are included, when present in the index! - also see Slicing with labels)\n",
    "\n",
    "- A boolean array\n",
    "\n",
    "- A callable function with one argument (the calling Series, DataFrame or Panel) and that returns valid output for indexing (one of the above)"
   ]
  },
  {
   "cell_type": "code",
   "execution_count": 55,
   "metadata": {
    "colab": {
     "base_uri": "https://localhost:8080/"
    },
    "executionInfo": {
     "elapsed": 19,
     "status": "ok",
     "timestamp": 1635236643444,
     "user": {
      "displayName": "Ilan Vasilevsky",
      "photoUrl": "https://lh3.googleusercontent.com/a-/AOh14GguyxPxQM0_RGlxWIPJAwj0FMVfxWgPlwWl0QT3=s64",
      "userId": "01351641955183714281"
     },
     "user_tz": -180
    },
    "id": "CPFHZfTtq1wW",
    "outputId": "21836a09-a33a-49e7-ed34-73ada3ddabbf"
   },
   "outputs": [
    {
     "data": {
      "text/plain": [
       "age               4\n",
       "breed     Schnauzer\n",
       "energy            2\n",
       "Name: Emi, dtype: object"
      ]
     },
     "execution_count": 55,
     "metadata": {},
     "output_type": "execute_result"
    }
   ],
   "source": [
    "dog_df.loc['Emi']  # a series is returned"
   ]
  },
  {
   "cell_type": "code",
   "execution_count": 56,
   "metadata": {
    "colab": {
     "base_uri": "https://localhost:8080/",
     "height": 142
    },
    "executionInfo": {
     "elapsed": 18,
     "status": "ok",
     "timestamp": 1635236643445,
     "user": {
      "displayName": "Ilan Vasilevsky",
      "photoUrl": "https://lh3.googleusercontent.com/a-/AOh14GguyxPxQM0_RGlxWIPJAwj0FMVfxWgPlwWl0QT3=s64",
      "userId": "01351641955183714281"
     },
     "user_tz": -180
    },
    "id": "ldUBy1Brq1wW",
    "outputId": "cff47c4c-2952-4470-b25d-3ce01b8b2344"
   },
   "outputs": [
    {
     "data": {
      "text/html": [
       "<div>\n",
       "<style scoped>\n",
       "    .dataframe tbody tr th:only-of-type {\n",
       "        vertical-align: middle;\n",
       "    }\n",
       "\n",
       "    .dataframe tbody tr th {\n",
       "        vertical-align: top;\n",
       "    }\n",
       "\n",
       "    .dataframe thead th {\n",
       "        text-align: right;\n",
       "    }\n",
       "</style>\n",
       "<table border=\"1\" class=\"dataframe\">\n",
       "  <thead>\n",
       "    <tr style=\"text-align: right;\">\n",
       "      <th></th>\n",
       "      <th>age</th>\n",
       "      <th>breed</th>\n",
       "      <th>energy</th>\n",
       "    </tr>\n",
       "  </thead>\n",
       "  <tbody>\n",
       "    <tr>\n",
       "      <th>Emi</th>\n",
       "      <td>4</td>\n",
       "      <td>Schnauzer</td>\n",
       "      <td>2</td>\n",
       "    </tr>\n",
       "    <tr>\n",
       "      <th>Bamba</th>\n",
       "      <td>7</td>\n",
       "      <td>Shepherd</td>\n",
       "      <td>6</td>\n",
       "    </tr>\n",
       "    <tr>\n",
       "      <th>Miki</th>\n",
       "      <td>3</td>\n",
       "      <td>Shitzu</td>\n",
       "      <td>0</td>\n",
       "    </tr>\n",
       "  </tbody>\n",
       "</table>\n",
       "</div>"
      ],
      "text/plain": [
       "       age      breed  energy\n",
       "Emi      4  Schnauzer       2\n",
       "Bamba    7   Shepherd       6\n",
       "Miki     3     Shitzu       0"
      ]
     },
     "execution_count": 56,
     "metadata": {},
     "output_type": "execute_result"
    }
   ],
   "source": [
    "dog_df.loc['Emi':'Miki'] # a dataframe is returned"
   ]
  },
  {
   "cell_type": "code",
   "execution_count": 57,
   "metadata": {
    "colab": {
     "base_uri": "https://localhost:8080/",
     "height": 111
    },
    "executionInfo": {
     "elapsed": 17,
     "status": "ok",
     "timestamp": 1635236643445,
     "user": {
      "displayName": "Ilan Vasilevsky",
      "photoUrl": "https://lh3.googleusercontent.com/a-/AOh14GguyxPxQM0_RGlxWIPJAwj0FMVfxWgPlwWl0QT3=s64",
      "userId": "01351641955183714281"
     },
     "user_tz": -180
    },
    "id": "z8yxyFGLq1wW",
    "outputId": "5079e962-ad0d-4baf-d9be-83cb6a04d8d2"
   },
   "outputs": [
    {
     "data": {
      "text/html": [
       "<div>\n",
       "<style scoped>\n",
       "    .dataframe tbody tr th:only-of-type {\n",
       "        vertical-align: middle;\n",
       "    }\n",
       "\n",
       "    .dataframe tbody tr th {\n",
       "        vertical-align: top;\n",
       "    }\n",
       "\n",
       "    .dataframe thead th {\n",
       "        text-align: right;\n",
       "    }\n",
       "</style>\n",
       "<table border=\"1\" class=\"dataframe\">\n",
       "  <thead>\n",
       "    <tr style=\"text-align: right;\">\n",
       "      <th></th>\n",
       "      <th>breed</th>\n",
       "    </tr>\n",
       "  </thead>\n",
       "  <tbody>\n",
       "    <tr>\n",
       "      <th>Lichy</th>\n",
       "      <td>Beagle</td>\n",
       "    </tr>\n",
       "    <tr>\n",
       "      <th>Miki</th>\n",
       "      <td>Shitzu</td>\n",
       "    </tr>\n",
       "  </tbody>\n",
       "</table>\n",
       "</div>"
      ],
      "text/plain": [
       "        breed\n",
       "Lichy  Beagle\n",
       "Miki   Shitzu"
      ]
     },
     "execution_count": 57,
     "metadata": {},
     "output_type": "execute_result"
    }
   ],
   "source": [
    "dog_df.loc[['Lichy','Miki'],['breed']] #Notice how we chose what column to include"
   ]
  },
  {
   "cell_type": "code",
   "execution_count": 58,
   "metadata": {
    "colab": {
     "base_uri": "https://localhost:8080/",
     "height": 142
    },
    "executionInfo": {
     "elapsed": 16,
     "status": "ok",
     "timestamp": 1635236643445,
     "user": {
      "displayName": "Ilan Vasilevsky",
      "photoUrl": "https://lh3.googleusercontent.com/a-/AOh14GguyxPxQM0_RGlxWIPJAwj0FMVfxWgPlwWl0QT3=s64",
      "userId": "01351641955183714281"
     },
     "user_tz": -180
    },
    "id": "luQ5uoV-q1wX",
    "outputId": "91ff46bb-70ff-497e-abfa-9f67ef37ab2b"
   },
   "outputs": [
    {
     "data": {
      "text/html": [
       "<div>\n",
       "<style scoped>\n",
       "    .dataframe tbody tr th:only-of-type {\n",
       "        vertical-align: middle;\n",
       "    }\n",
       "\n",
       "    .dataframe tbody tr th {\n",
       "        vertical-align: top;\n",
       "    }\n",
       "\n",
       "    .dataframe thead th {\n",
       "        text-align: right;\n",
       "    }\n",
       "</style>\n",
       "<table border=\"1\" class=\"dataframe\">\n",
       "  <thead>\n",
       "    <tr style=\"text-align: right;\">\n",
       "      <th></th>\n",
       "      <th>age</th>\n",
       "      <th>breed</th>\n",
       "      <th>energy</th>\n",
       "    </tr>\n",
       "  </thead>\n",
       "  <tbody>\n",
       "    <tr>\n",
       "      <th>Lichy</th>\n",
       "      <td>1</td>\n",
       "      <td>Beagle</td>\n",
       "      <td>10</td>\n",
       "    </tr>\n",
       "    <tr>\n",
       "      <th>Bamba</th>\n",
       "      <td>7</td>\n",
       "      <td>Shepherd</td>\n",
       "      <td>6</td>\n",
       "    </tr>\n",
       "    <tr>\n",
       "      <th>Miki</th>\n",
       "      <td>3</td>\n",
       "      <td>Shitzu</td>\n",
       "      <td>0</td>\n",
       "    </tr>\n",
       "  </tbody>\n",
       "</table>\n",
       "</div>"
      ],
      "text/plain": [
       "       age     breed  energy\n",
       "Lichy    1    Beagle      10\n",
       "Bamba    7  Shepherd       6\n",
       "Miki     3    Shitzu       0"
      ]
     },
     "execution_count": 58,
     "metadata": {},
     "output_type": "execute_result"
    }
   ],
   "source": [
    "dog_df.loc[[True,False,True,True]]"
   ]
  },
  {
   "cell_type": "markdown",
   "metadata": {
    "id": "1Yp9jChvq1wX"
   },
   "source": [
    "### `.iloc`\n",
    "`.iloc` is primarily integer position based (from 0 to length-1 of the axis), but may also be used with a boolean array. `.iloc` will raise IndexError if a requested indexer is out-of-bounds, except slice indexers which allow out-of-bounds indexing. (this conforms with Python/numpy slice semantics). Allowed inputs are:\n",
    "\n",
    "- An integer, e.g. `5`\n",
    "\n",
    "- A list or array of integers `[4, 3, 0]`\n",
    "\n",
    "- A slice object with ints `1:7`\n",
    "\n",
    "- A boolean array\n",
    "\n",
    "- A callable function with one argument (the calling Series, DataFrame or Panel) and that returns valid output for indexing (one of the above)"
   ]
  },
  {
   "cell_type": "code",
   "execution_count": 59,
   "metadata": {
    "colab": {
     "base_uri": "https://localhost:8080/",
     "height": 111
    },
    "executionInfo": {
     "elapsed": 16,
     "status": "ok",
     "timestamp": 1635236643445,
     "user": {
      "displayName": "Ilan Vasilevsky",
      "photoUrl": "https://lh3.googleusercontent.com/a-/AOh14GguyxPxQM0_RGlxWIPJAwj0FMVfxWgPlwWl0QT3=s64",
      "userId": "01351641955183714281"
     },
     "user_tz": -180
    },
    "id": "kzl6Dfnmq1wX",
    "outputId": "7aa5ae0b-59c3-495a-b91a-8ad9cb5b01f3"
   },
   "outputs": [
    {
     "data": {
      "text/html": [
       "<div>\n",
       "<style scoped>\n",
       "    .dataframe tbody tr th:only-of-type {\n",
       "        vertical-align: middle;\n",
       "    }\n",
       "\n",
       "    .dataframe tbody tr th {\n",
       "        vertical-align: top;\n",
       "    }\n",
       "\n",
       "    .dataframe thead th {\n",
       "        text-align: right;\n",
       "    }\n",
       "</style>\n",
       "<table border=\"1\" class=\"dataframe\">\n",
       "  <thead>\n",
       "    <tr style=\"text-align: right;\">\n",
       "      <th></th>\n",
       "      <th>age</th>\n",
       "      <th>breed</th>\n",
       "      <th>energy</th>\n",
       "    </tr>\n",
       "  </thead>\n",
       "  <tbody>\n",
       "    <tr>\n",
       "      <th>Emi</th>\n",
       "      <td>4</td>\n",
       "      <td>Schnauzer</td>\n",
       "      <td>2</td>\n",
       "    </tr>\n",
       "    <tr>\n",
       "      <th>Bamba</th>\n",
       "      <td>7</td>\n",
       "      <td>Shepherd</td>\n",
       "      <td>6</td>\n",
       "    </tr>\n",
       "  </tbody>\n",
       "</table>\n",
       "</div>"
      ],
      "text/plain": [
       "       age      breed  energy\n",
       "Emi      4  Schnauzer       2\n",
       "Bamba    7   Shepherd       6"
      ]
     },
     "execution_count": 59,
     "metadata": {},
     "output_type": "execute_result"
    }
   ],
   "source": [
    "dog_df.iloc[1:3]"
   ]
  },
  {
   "cell_type": "code",
   "execution_count": 60,
   "metadata": {
    "colab": {
     "base_uri": "https://localhost:8080/",
     "height": 111
    },
    "executionInfo": {
     "elapsed": 16,
     "status": "ok",
     "timestamp": 1635236643446,
     "user": {
      "displayName": "Ilan Vasilevsky",
      "photoUrl": "https://lh3.googleusercontent.com/a-/AOh14GguyxPxQM0_RGlxWIPJAwj0FMVfxWgPlwWl0QT3=s64",
      "userId": "01351641955183714281"
     },
     "user_tz": -180
    },
    "id": "Oxk5xqELq1wX",
    "outputId": "c4db640d-9b79-40c7-8457-c2615b0051e1"
   },
   "outputs": [
    {
     "data": {
      "text/html": [
       "<div>\n",
       "<style scoped>\n",
       "    .dataframe tbody tr th:only-of-type {\n",
       "        vertical-align: middle;\n",
       "    }\n",
       "\n",
       "    .dataframe tbody tr th {\n",
       "        vertical-align: top;\n",
       "    }\n",
       "\n",
       "    .dataframe thead th {\n",
       "        text-align: right;\n",
       "    }\n",
       "</style>\n",
       "<table border=\"1\" class=\"dataframe\">\n",
       "  <thead>\n",
       "    <tr style=\"text-align: right;\">\n",
       "      <th></th>\n",
       "      <th>breed</th>\n",
       "      <th>energy</th>\n",
       "    </tr>\n",
       "  </thead>\n",
       "  <tbody>\n",
       "    <tr>\n",
       "      <th>Lichy</th>\n",
       "      <td>Beagle</td>\n",
       "      <td>10</td>\n",
       "    </tr>\n",
       "    <tr>\n",
       "      <th>Bamba</th>\n",
       "      <td>Shepherd</td>\n",
       "      <td>6</td>\n",
       "    </tr>\n",
       "  </tbody>\n",
       "</table>\n",
       "</div>"
      ],
      "text/plain": [
       "          breed  energy\n",
       "Lichy    Beagle      10\n",
       "Bamba  Shepherd       6"
      ]
     },
     "execution_count": 60,
     "metadata": {},
     "output_type": "execute_result"
    }
   ],
   "source": [
    "dog_df.iloc[[True, False, True, False],1:] #notice how we choose which columns to include"
   ]
  },
  {
   "cell_type": "markdown",
   "metadata": {
    "id": "I73Jk02Vq1wX"
   },
   "source": [
    "### Using slicing by conditons - Bolean Masks"
   ]
  },
  {
   "cell_type": "code",
   "execution_count": 61,
   "metadata": {
    "colab": {
     "base_uri": "https://localhost:8080/"
    },
    "executionInfo": {
     "elapsed": 16,
     "status": "ok",
     "timestamp": 1635236643446,
     "user": {
      "displayName": "Ilan Vasilevsky",
      "photoUrl": "https://lh3.googleusercontent.com/a-/AOh14GguyxPxQM0_RGlxWIPJAwj0FMVfxWgPlwWl0QT3=s64",
      "userId": "01351641955183714281"
     },
     "user_tz": -180
    },
    "id": "DCFVTm7Cq1wX",
    "outputId": "d86b2c52-9f67-4ef0-fc9c-062ca0410ab2"
   },
   "outputs": [
    {
     "data": {
      "text/plain": [
       "Lichy    False\n",
       "Emi       True\n",
       "Bamba     True\n",
       "Miki     False\n",
       "Name: age, dtype: bool"
      ]
     },
     "execution_count": 61,
     "metadata": {},
     "output_type": "execute_result"
    }
   ],
   "source": [
    "mask = dog_df['age']>3\n",
    "mask"
   ]
  },
  {
   "cell_type": "code",
   "execution_count": 62,
   "metadata": {
    "colab": {
     "base_uri": "https://localhost:8080/"
    },
    "executionInfo": {
     "elapsed": 13,
     "status": "ok",
     "timestamp": 1635236643446,
     "user": {
      "displayName": "Ilan Vasilevsky",
      "photoUrl": "https://lh3.googleusercontent.com/a-/AOh14GguyxPxQM0_RGlxWIPJAwj0FMVfxWgPlwWl0QT3=s64",
      "userId": "01351641955183714281"
     },
     "user_tz": -180
    },
    "id": "MPmtODnrq1wY",
    "outputId": "e070f4a0-e90e-4c08-8424-b1df6bc9d5d3"
   },
   "outputs": [
    {
     "name": "stdout",
     "output_type": "stream",
     "text": [
      "       age      breed  energy\n",
      "Emi      4  Schnauzer       2\n",
      "Bamba    7   Shepherd       6\n"
     ]
    }
   ],
   "source": [
    "print(dog_df[mask])"
   ]
  },
  {
   "cell_type": "markdown",
   "metadata": {
    "id": "DW8_jji9q1wY"
   },
   "source": [
    "#### and / or\n",
    "We can also use the and (\"&\") or (\"|\") operators."
   ]
  },
  {
   "cell_type": "code",
   "execution_count": 63,
   "metadata": {
    "colab": {
     "base_uri": "https://localhost:8080/",
     "height": 111
    },
    "executionInfo": {
     "elapsed": 12,
     "status": "ok",
     "timestamp": 1635236643446,
     "user": {
      "displayName": "Ilan Vasilevsky",
      "photoUrl": "https://lh3.googleusercontent.com/a-/AOh14GguyxPxQM0_RGlxWIPJAwj0FMVfxWgPlwWl0QT3=s64",
      "userId": "01351641955183714281"
     },
     "user_tz": -180
    },
    "id": "OnpcCMhdq1wY",
    "outputId": "bb31a48a-180a-43eb-91b1-f957b5002e88"
   },
   "outputs": [
    {
     "data": {
      "text/html": [
       "<div>\n",
       "<style scoped>\n",
       "    .dataframe tbody tr th:only-of-type {\n",
       "        vertical-align: middle;\n",
       "    }\n",
       "\n",
       "    .dataframe tbody tr th {\n",
       "        vertical-align: top;\n",
       "    }\n",
       "\n",
       "    .dataframe thead th {\n",
       "        text-align: right;\n",
       "    }\n",
       "</style>\n",
       "<table border=\"1\" class=\"dataframe\">\n",
       "  <thead>\n",
       "    <tr style=\"text-align: right;\">\n",
       "      <th></th>\n",
       "      <th>age</th>\n",
       "      <th>breed</th>\n",
       "      <th>energy</th>\n",
       "    </tr>\n",
       "  </thead>\n",
       "  <tbody>\n",
       "    <tr>\n",
       "      <th>Emi</th>\n",
       "      <td>4</td>\n",
       "      <td>Schnauzer</td>\n",
       "      <td>2</td>\n",
       "    </tr>\n",
       "    <tr>\n",
       "      <th>Miki</th>\n",
       "      <td>3</td>\n",
       "      <td>Shitzu</td>\n",
       "      <td>0</td>\n",
       "    </tr>\n",
       "  </tbody>\n",
       "</table>\n",
       "</div>"
      ],
      "text/plain": [
       "      age      breed  energy\n",
       "Emi     4  Schnauzer       2\n",
       "Miki    3     Shitzu       0"
      ]
     },
     "execution_count": 63,
     "metadata": {},
     "output_type": "execute_result"
    }
   ],
   "source": [
    "con1 = dog_df['age']>2\n",
    "con2 = dog_df['energy']<4\n",
    "old_tired_dogs = dog_df[con1 & con2]\n",
    "old_tired_dogs"
   ]
  },
  {
   "cell_type": "code",
   "execution_count": 64,
   "metadata": {
    "colab": {
     "base_uri": "https://localhost:8080/",
     "height": 111
    },
    "executionInfo": {
     "elapsed": 11,
     "status": "ok",
     "timestamp": 1635236643446,
     "user": {
      "displayName": "Ilan Vasilevsky",
      "photoUrl": "https://lh3.googleusercontent.com/a-/AOh14GguyxPxQM0_RGlxWIPJAwj0FMVfxWgPlwWl0QT3=s64",
      "userId": "01351641955183714281"
     },
     "user_tz": -180
    },
    "id": "XLo7KX47q1wY",
    "outputId": "d47a8f25-4e6e-4364-d6b4-06b0d4034bce"
   },
   "outputs": [
    {
     "data": {
      "text/html": [
       "<div>\n",
       "<style scoped>\n",
       "    .dataframe tbody tr th:only-of-type {\n",
       "        vertical-align: middle;\n",
       "    }\n",
       "\n",
       "    .dataframe tbody tr th {\n",
       "        vertical-align: top;\n",
       "    }\n",
       "\n",
       "    .dataframe thead th {\n",
       "        text-align: right;\n",
       "    }\n",
       "</style>\n",
       "<table border=\"1\" class=\"dataframe\">\n",
       "  <thead>\n",
       "    <tr style=\"text-align: right;\">\n",
       "      <th></th>\n",
       "      <th>age</th>\n",
       "      <th>breed</th>\n",
       "      <th>energy</th>\n",
       "    </tr>\n",
       "  </thead>\n",
       "  <tbody>\n",
       "    <tr>\n",
       "      <th>Emi</th>\n",
       "      <td>4</td>\n",
       "      <td>Schnauzer</td>\n",
       "      <td>2</td>\n",
       "    </tr>\n",
       "    <tr>\n",
       "      <th>Miki</th>\n",
       "      <td>3</td>\n",
       "      <td>Shitzu</td>\n",
       "      <td>0</td>\n",
       "    </tr>\n",
       "  </tbody>\n",
       "</table>\n",
       "</div>"
      ],
      "text/plain": [
       "      age      breed  energy\n",
       "Emi     4  Schnauzer       2\n",
       "Miki    3     Shitzu       0"
      ]
     },
     "execution_count": 64,
     "metadata": {},
     "output_type": "execute_result"
    }
   ],
   "source": [
    "#Shorter, yet less readable way to do the same\n",
    "dog_df[(dog_df['age']>2)&(dog_df['energy']<4)]"
   ]
  },
  {
   "cell_type": "markdown",
   "metadata": {
    "id": "8RE88j70q1wY"
   },
   "source": [
    "---"
   ]
  },
  {
   "cell_type": "markdown",
   "metadata": {
    "id": "8V5amMhPq1wY"
   },
   "source": [
    "## Data Manipulation\n",
    "We will return to the imdb dataframe for this section"
   ]
  },
  {
   "cell_type": "markdown",
   "metadata": {
    "id": "GmaQagaoq1wY"
   },
   "source": [
    "### Pre Proccessing"
   ]
  },
  {
   "cell_type": "markdown",
   "metadata": {
    "id": "rSK9Sfhmq1wY"
   },
   "source": [
    "#### Missing Values"
   ]
  },
  {
   "cell_type": "markdown",
   "metadata": {
    "id": "ZMij-5syq1wZ"
   },
   "source": [
    "`isnull()` returns a DataFrame where each cell is either True or False depending on that cell's null status."
   ]
  },
  {
   "cell_type": "code",
   "execution_count": 65,
   "metadata": {
    "colab": {
     "base_uri": "https://localhost:8080/",
     "height": 450
    },
    "executionInfo": {
     "elapsed": 431,
     "status": "ok",
     "timestamp": 1635236643867,
     "user": {
      "displayName": "Ilan Vasilevsky",
      "photoUrl": "https://lh3.googleusercontent.com/a-/AOh14GguyxPxQM0_RGlxWIPJAwj0FMVfxWgPlwWl0QT3=s64",
      "userId": "01351641955183714281"
     },
     "user_tz": -180
    },
    "id": "xogIQaNjq1wZ",
    "outputId": "39eb3d78-ed4b-48ef-e4e1-04b220640852"
   },
   "outputs": [
    {
     "data": {
      "text/html": [
       "<div>\n",
       "<style scoped>\n",
       "    .dataframe tbody tr th:only-of-type {\n",
       "        vertical-align: middle;\n",
       "    }\n",
       "\n",
       "    .dataframe tbody tr th {\n",
       "        vertical-align: top;\n",
       "    }\n",
       "\n",
       "    .dataframe thead th {\n",
       "        text-align: right;\n",
       "    }\n",
       "</style>\n",
       "<table border=\"1\" class=\"dataframe\">\n",
       "  <thead>\n",
       "    <tr style=\"text-align: right;\">\n",
       "      <th></th>\n",
       "      <th>title</th>\n",
       "      <th>genre</th>\n",
       "      <th>description</th>\n",
       "      <th>director</th>\n",
       "      <th>actors</th>\n",
       "      <th>year</th>\n",
       "      <th>runtime</th>\n",
       "      <th>rating</th>\n",
       "      <th>votes</th>\n",
       "      <th>revenue_millions</th>\n",
       "      <th>metascore</th>\n",
       "    </tr>\n",
       "    <tr>\n",
       "      <th>ID</th>\n",
       "      <th></th>\n",
       "      <th></th>\n",
       "      <th></th>\n",
       "      <th></th>\n",
       "      <th></th>\n",
       "      <th></th>\n",
       "      <th></th>\n",
       "      <th></th>\n",
       "      <th></th>\n",
       "      <th></th>\n",
       "      <th></th>\n",
       "    </tr>\n",
       "  </thead>\n",
       "  <tbody>\n",
       "    <tr>\n",
       "      <th>10066</th>\n",
       "      <td>False</td>\n",
       "      <td>False</td>\n",
       "      <td>False</td>\n",
       "      <td>False</td>\n",
       "      <td>False</td>\n",
       "      <td>False</td>\n",
       "      <td>False</td>\n",
       "      <td>False</td>\n",
       "      <td>False</td>\n",
       "      <td>False</td>\n",
       "      <td>False</td>\n",
       "    </tr>\n",
       "    <tr>\n",
       "      <th>36452</th>\n",
       "      <td>False</td>\n",
       "      <td>False</td>\n",
       "      <td>False</td>\n",
       "      <td>False</td>\n",
       "      <td>False</td>\n",
       "      <td>False</td>\n",
       "      <td>False</td>\n",
       "      <td>False</td>\n",
       "      <td>False</td>\n",
       "      <td>False</td>\n",
       "      <td>False</td>\n",
       "    </tr>\n",
       "    <tr>\n",
       "      <th>41798</th>\n",
       "      <td>False</td>\n",
       "      <td>False</td>\n",
       "      <td>False</td>\n",
       "      <td>False</td>\n",
       "      <td>False</td>\n",
       "      <td>False</td>\n",
       "      <td>False</td>\n",
       "      <td>False</td>\n",
       "      <td>False</td>\n",
       "      <td>False</td>\n",
       "      <td>False</td>\n",
       "    </tr>\n",
       "    <tr>\n",
       "      <th>63054</th>\n",
       "      <td>False</td>\n",
       "      <td>False</td>\n",
       "      <td>False</td>\n",
       "      <td>False</td>\n",
       "      <td>False</td>\n",
       "      <td>False</td>\n",
       "      <td>False</td>\n",
       "      <td>False</td>\n",
       "      <td>False</td>\n",
       "      <td>False</td>\n",
       "      <td>False</td>\n",
       "    </tr>\n",
       "    <tr>\n",
       "      <th>16233</th>\n",
       "      <td>False</td>\n",
       "      <td>False</td>\n",
       "      <td>False</td>\n",
       "      <td>False</td>\n",
       "      <td>False</td>\n",
       "      <td>False</td>\n",
       "      <td>False</td>\n",
       "      <td>False</td>\n",
       "      <td>False</td>\n",
       "      <td>False</td>\n",
       "      <td>False</td>\n",
       "    </tr>\n",
       "    <tr>\n",
       "      <th>...</th>\n",
       "      <td>...</td>\n",
       "      <td>...</td>\n",
       "      <td>...</td>\n",
       "      <td>...</td>\n",
       "      <td>...</td>\n",
       "      <td>...</td>\n",
       "      <td>...</td>\n",
       "      <td>...</td>\n",
       "      <td>...</td>\n",
       "      <td>...</td>\n",
       "      <td>...</td>\n",
       "    </tr>\n",
       "    <tr>\n",
       "      <th>87845</th>\n",
       "      <td>False</td>\n",
       "      <td>False</td>\n",
       "      <td>False</td>\n",
       "      <td>False</td>\n",
       "      <td>False</td>\n",
       "      <td>False</td>\n",
       "      <td>False</td>\n",
       "      <td>False</td>\n",
       "      <td>False</td>\n",
       "      <td>True</td>\n",
       "      <td>False</td>\n",
       "    </tr>\n",
       "    <tr>\n",
       "      <th>83535</th>\n",
       "      <td>False</td>\n",
       "      <td>False</td>\n",
       "      <td>False</td>\n",
       "      <td>False</td>\n",
       "      <td>False</td>\n",
       "      <td>False</td>\n",
       "      <td>False</td>\n",
       "      <td>False</td>\n",
       "      <td>False</td>\n",
       "      <td>False</td>\n",
       "      <td>False</td>\n",
       "    </tr>\n",
       "    <tr>\n",
       "      <th>48221</th>\n",
       "      <td>False</td>\n",
       "      <td>False</td>\n",
       "      <td>False</td>\n",
       "      <td>False</td>\n",
       "      <td>False</td>\n",
       "      <td>False</td>\n",
       "      <td>False</td>\n",
       "      <td>False</td>\n",
       "      <td>False</td>\n",
       "      <td>False</td>\n",
       "      <td>False</td>\n",
       "    </tr>\n",
       "    <tr>\n",
       "      <th>54715</th>\n",
       "      <td>False</td>\n",
       "      <td>False</td>\n",
       "      <td>False</td>\n",
       "      <td>False</td>\n",
       "      <td>False</td>\n",
       "      <td>False</td>\n",
       "      <td>False</td>\n",
       "      <td>False</td>\n",
       "      <td>False</td>\n",
       "      <td>True</td>\n",
       "      <td>False</td>\n",
       "    </tr>\n",
       "    <tr>\n",
       "      <th>83080</th>\n",
       "      <td>False</td>\n",
       "      <td>False</td>\n",
       "      <td>False</td>\n",
       "      <td>False</td>\n",
       "      <td>False</td>\n",
       "      <td>False</td>\n",
       "      <td>False</td>\n",
       "      <td>False</td>\n",
       "      <td>False</td>\n",
       "      <td>False</td>\n",
       "      <td>False</td>\n",
       "    </tr>\n",
       "  </tbody>\n",
       "</table>\n",
       "<p>1000 rows × 11 columns</p>\n",
       "</div>"
      ],
      "text/plain": [
       "       title  genre  description  ...  votes  revenue_millions  metascore\n",
       "ID                                ...                                    \n",
       "10066  False  False        False  ...  False             False      False\n",
       "36452  False  False        False  ...  False             False      False\n",
       "41798  False  False        False  ...  False             False      False\n",
       "63054  False  False        False  ...  False             False      False\n",
       "16233  False  False        False  ...  False             False      False\n",
       "...      ...    ...          ...  ...    ...               ...        ...\n",
       "87845  False  False        False  ...  False              True      False\n",
       "83535  False  False        False  ...  False             False      False\n",
       "48221  False  False        False  ...  False             False      False\n",
       "54715  False  False        False  ...  False              True      False\n",
       "83080  False  False        False  ...  False             False      False\n",
       "\n",
       "[1000 rows x 11 columns]"
      ]
     },
     "execution_count": 65,
     "metadata": {},
     "output_type": "execute_result"
    }
   ],
   "source": [
    "df.isnull()"
   ]
  },
  {
   "cell_type": "markdown",
   "metadata": {
    "id": "c5PDHnhzq1wZ"
   },
   "source": [
    "To count the number of nulls in each column we use an aggregate function for summing:"
   ]
  },
  {
   "cell_type": "code",
   "execution_count": 66,
   "metadata": {
    "colab": {
     "base_uri": "https://localhost:8080/"
    },
    "executionInfo": {
     "elapsed": 18,
     "status": "ok",
     "timestamp": 1635236643867,
     "user": {
      "displayName": "Ilan Vasilevsky",
      "photoUrl": "https://lh3.googleusercontent.com/a-/AOh14GguyxPxQM0_RGlxWIPJAwj0FMVfxWgPlwWl0QT3=s64",
      "userId": "01351641955183714281"
     },
     "user_tz": -180
    },
    "id": "9G398xojq1wZ",
    "outputId": "7ab9eb3d-93dc-450c-94a4-55581a2f3e7f"
   },
   "outputs": [
    {
     "data": {
      "text/plain": [
       "title                 0\n",
       "genre                 0\n",
       "description           0\n",
       "director              0\n",
       "actors                0\n",
       "year                  0\n",
       "runtime               0\n",
       "rating                0\n",
       "votes                 0\n",
       "revenue_millions    128\n",
       "metascore            64\n",
       "dtype: int64"
      ]
     },
     "execution_count": 66,
     "metadata": {},
     "output_type": "execute_result"
    }
   ],
   "source": [
    "df.isnull().sum()"
   ]
  },
  {
   "cell_type": "markdown",
   "metadata": {
    "id": "48SPF6Igq1wZ"
   },
   "source": [
    "#### Dropping missing values - `dropna()`"
   ]
  },
  {
   "cell_type": "code",
   "execution_count": 67,
   "metadata": {
    "colab": {
     "base_uri": "https://localhost:8080/"
    },
    "executionInfo": {
     "elapsed": 17,
     "status": "ok",
     "timestamp": 1635236643868,
     "user": {
      "displayName": "Ilan Vasilevsky",
      "photoUrl": "https://lh3.googleusercontent.com/a-/AOh14GguyxPxQM0_RGlxWIPJAwj0FMVfxWgPlwWl0QT3=s64",
      "userId": "01351641955183714281"
     },
     "user_tz": -180
    },
    "id": "sVlWZe7Bq1wZ",
    "outputId": "47cab6ac-222d-45bf-df8a-a0dc92730c6f"
   },
   "outputs": [
    {
     "data": {
      "text/plain": [
       "title               0\n",
       "genre               0\n",
       "description         0\n",
       "director            0\n",
       "actors              0\n",
       "year                0\n",
       "runtime             0\n",
       "rating              0\n",
       "votes               0\n",
       "revenue_millions    0\n",
       "metascore           0\n",
       "dtype: int64"
      ]
     },
     "execution_count": 67,
     "metadata": {},
     "output_type": "execute_result"
    }
   ],
   "source": [
    "new_df = df.dropna()\n",
    "new_df.isnull().sum()"
   ]
  },
  {
   "cell_type": "markdown",
   "metadata": {
    "id": "VJa8_HxEq1wZ"
   },
   "source": [
    "We can also drop columns (and not rows) by adding `axis = 1`"
   ]
  },
  {
   "cell_type": "code",
   "execution_count": 68,
   "metadata": {
    "colab": {
     "base_uri": "https://localhost:8080/"
    },
    "executionInfo": {
     "elapsed": 15,
     "status": "ok",
     "timestamp": 1635236643868,
     "user": {
      "displayName": "Ilan Vasilevsky",
      "photoUrl": "https://lh3.googleusercontent.com/a-/AOh14GguyxPxQM0_RGlxWIPJAwj0FMVfxWgPlwWl0QT3=s64",
      "userId": "01351641955183714281"
     },
     "user_tz": -180
    },
    "id": "W1Jl2ceMq1wZ",
    "outputId": "620040ea-3806-4a55-bebd-33bf33d6a7ae"
   },
   "outputs": [
    {
     "name": "stdout",
     "output_type": "stream",
     "text": [
      "# of columns in original df: 11\n",
      "# of columns in new_df: 9\n"
     ]
    }
   ],
   "source": [
    "new_df = df.dropna(axis = 1)\n",
    "print(f'# of columns in original df: {len(df.columns)}')\n",
    "print(f'# of columns in new_df: {len(new_df.columns)}')"
   ]
  },
  {
   "cell_type": "markdown",
   "metadata": {
    "id": "4mm8cmzMq1wZ"
   },
   "source": [
    "##### Imputing Missing Values - `fillna()`"
   ]
  },
  {
   "cell_type": "code",
   "execution_count": 69,
   "metadata": {
    "colab": {
     "base_uri": "https://localhost:8080/"
    },
    "executionInfo": {
     "elapsed": 14,
     "status": "ok",
     "timestamp": 1635236643868,
     "user": {
      "displayName": "Ilan Vasilevsky",
      "photoUrl": "https://lh3.googleusercontent.com/a-/AOh14GguyxPxQM0_RGlxWIPJAwj0FMVfxWgPlwWl0QT3=s64",
      "userId": "01351641955183714281"
     },
     "user_tz": -180
    },
    "id": "2J4K5QgOq1wa",
    "outputId": "3b455ae5-4357-4264-c4d8-2f7394b7bc66"
   },
   "outputs": [
    {
     "data": {
      "text/plain": [
       "128"
      ]
     },
     "execution_count": 69,
     "metadata": {},
     "output_type": "execute_result"
    }
   ],
   "source": [
    "revenue = df[\"revenue_millions\"]\n",
    "revenue.isnull().sum()"
   ]
  },
  {
   "cell_type": "code",
   "execution_count": 70,
   "metadata": {
    "colab": {
     "base_uri": "https://localhost:8080/"
    },
    "executionInfo": {
     "elapsed": 12,
     "status": "ok",
     "timestamp": 1635236643868,
     "user": {
      "displayName": "Ilan Vasilevsky",
      "photoUrl": "https://lh3.googleusercontent.com/a-/AOh14GguyxPxQM0_RGlxWIPJAwj0FMVfxWgPlwWl0QT3=s64",
      "userId": "01351641955183714281"
     },
     "user_tz": -180
    },
    "id": "ekf4FTkhq1wa",
    "outputId": "de898643-fcf7-4f56-efd3-f70cd1e2276b"
   },
   "outputs": [
    {
     "data": {
      "text/plain": [
       "0"
      ]
     },
     "execution_count": 70,
     "metadata": {},
     "output_type": "execute_result"
    }
   ],
   "source": [
    "revenue_mean = revenue.mean()\n",
    "revenue.fillna(revenue_mean, inplace=True) # note the \"inplace\". Values can also be imputed by row, by adding axis = 0\n",
    "revenue.isnull().sum()"
   ]
  },
  {
   "cell_type": "markdown",
   "metadata": {
    "id": "Bn0TLZiVq1wa"
   },
   "source": [
    "####  Normalization - Arithmetic Operations"
   ]
  },
  {
   "cell_type": "markdown",
   "metadata": {
    "id": "NKSsw0NCq1wa"
   },
   "source": [
    "First, lets see an example of the data manipulation that we will be using: \n",
    "Lets assume we want to calculate the dogs aging level by : $\\dfrac{age}{energy}$"
   ]
  },
  {
   "cell_type": "code",
   "execution_count": 71,
   "metadata": {
    "colab": {
     "base_uri": "https://localhost:8080/",
     "height": 173
    },
    "executionInfo": {
     "elapsed": 11,
     "status": "ok",
     "timestamp": 1635236643869,
     "user": {
      "displayName": "Ilan Vasilevsky",
      "photoUrl": "https://lh3.googleusercontent.com/a-/AOh14GguyxPxQM0_RGlxWIPJAwj0FMVfxWgPlwWl0QT3=s64",
      "userId": "01351641955183714281"
     },
     "user_tz": -180
    },
    "id": "Wr6e1EVQq1wa",
    "outputId": "34aeff54-6275-4ef9-8fb8-2f3cc58c26f1"
   },
   "outputs": [
    {
     "data": {
      "text/html": [
       "<div>\n",
       "<style scoped>\n",
       "    .dataframe tbody tr th:only-of-type {\n",
       "        vertical-align: middle;\n",
       "    }\n",
       "\n",
       "    .dataframe tbody tr th {\n",
       "        vertical-align: top;\n",
       "    }\n",
       "\n",
       "    .dataframe thead th {\n",
       "        text-align: right;\n",
       "    }\n",
       "</style>\n",
       "<table border=\"1\" class=\"dataframe\">\n",
       "  <thead>\n",
       "    <tr style=\"text-align: right;\">\n",
       "      <th></th>\n",
       "      <th>age</th>\n",
       "      <th>breed</th>\n",
       "      <th>energy</th>\n",
       "      <th>aging_level</th>\n",
       "    </tr>\n",
       "  </thead>\n",
       "  <tbody>\n",
       "    <tr>\n",
       "      <th>Lichy</th>\n",
       "      <td>1</td>\n",
       "      <td>Beagle</td>\n",
       "      <td>10</td>\n",
       "      <td>0.100000</td>\n",
       "    </tr>\n",
       "    <tr>\n",
       "      <th>Emi</th>\n",
       "      <td>4</td>\n",
       "      <td>Schnauzer</td>\n",
       "      <td>2</td>\n",
       "      <td>2.000000</td>\n",
       "    </tr>\n",
       "    <tr>\n",
       "      <th>Bamba</th>\n",
       "      <td>7</td>\n",
       "      <td>Shepherd</td>\n",
       "      <td>6</td>\n",
       "      <td>1.166667</td>\n",
       "    </tr>\n",
       "    <tr>\n",
       "      <th>Miki</th>\n",
       "      <td>3</td>\n",
       "      <td>Shitzu</td>\n",
       "      <td>0</td>\n",
       "      <td>inf</td>\n",
       "    </tr>\n",
       "  </tbody>\n",
       "</table>\n",
       "</div>"
      ],
      "text/plain": [
       "       age      breed  energy  aging_level\n",
       "Lichy    1     Beagle      10     0.100000\n",
       "Emi      4  Schnauzer       2     2.000000\n",
       "Bamba    7   Shepherd       6     1.166667\n",
       "Miki     3     Shitzu       0          inf"
      ]
     },
     "execution_count": 71,
     "metadata": {},
     "output_type": "execute_result"
    }
   ],
   "source": [
    "dog_df['aging_level'] = dog_df['age']/dog_df['energy']\n",
    "dog_df"
   ]
  },
  {
   "cell_type": "markdown",
   "metadata": {
    "id": "zhBhhGhZq1wa"
   },
   "source": [
    "Now let's normalize the votes column to be between 1 to 0 (min-max normalization)"
   ]
  },
  {
   "cell_type": "code",
   "execution_count": 72,
   "metadata": {
    "colab": {
     "base_uri": "https://localhost:8080/",
     "height": 235
    },
    "executionInfo": {
     "elapsed": 11,
     "status": "ok",
     "timestamp": 1635236643869,
     "user": {
      "displayName": "Ilan Vasilevsky",
      "photoUrl": "https://lh3.googleusercontent.com/a-/AOh14GguyxPxQM0_RGlxWIPJAwj0FMVfxWgPlwWl0QT3=s64",
      "userId": "01351641955183714281"
     },
     "user_tz": -180
    },
    "id": "JAxSdINrq1wa",
    "outputId": "1fba2001-1557-4317-a23c-6c65907eb55d"
   },
   "outputs": [
    {
     "data": {
      "text/html": [
       "<div>\n",
       "<style scoped>\n",
       "    .dataframe tbody tr th:only-of-type {\n",
       "        vertical-align: middle;\n",
       "    }\n",
       "\n",
       "    .dataframe tbody tr th {\n",
       "        vertical-align: top;\n",
       "    }\n",
       "\n",
       "    .dataframe thead th {\n",
       "        text-align: right;\n",
       "    }\n",
       "</style>\n",
       "<table border=\"1\" class=\"dataframe\">\n",
       "  <thead>\n",
       "    <tr style=\"text-align: right;\">\n",
       "      <th></th>\n",
       "      <th>norm_votes</th>\n",
       "      <th>votes</th>\n",
       "    </tr>\n",
       "    <tr>\n",
       "      <th>ID</th>\n",
       "      <th></th>\n",
       "      <th></th>\n",
       "    </tr>\n",
       "  </thead>\n",
       "  <tbody>\n",
       "    <tr>\n",
       "      <th>10066</th>\n",
       "      <td>0.422474</td>\n",
       "      <td>757074</td>\n",
       "    </tr>\n",
       "    <tr>\n",
       "      <th>36452</th>\n",
       "      <td>0.271093</td>\n",
       "      <td>485820</td>\n",
       "    </tr>\n",
       "    <tr>\n",
       "      <th>41798</th>\n",
       "      <td>0.087923</td>\n",
       "      <td>157606</td>\n",
       "    </tr>\n",
       "    <tr>\n",
       "      <th>63054</th>\n",
       "      <td>0.033755</td>\n",
       "      <td>60545</td>\n",
       "    </tr>\n",
       "    <tr>\n",
       "      <th>16233</th>\n",
       "      <td>0.219697</td>\n",
       "      <td>393727</td>\n",
       "    </tr>\n",
       "  </tbody>\n",
       "</table>\n",
       "</div>"
      ],
      "text/plain": [
       "       norm_votes   votes\n",
       "ID                       \n",
       "10066    0.422474  757074\n",
       "36452    0.271093  485820\n",
       "41798    0.087923  157606\n",
       "63054    0.033755   60545\n",
       "16233    0.219697  393727"
      ]
     },
     "execution_count": 72,
     "metadata": {},
     "output_type": "execute_result"
    }
   ],
   "source": [
    "df_copy = df.copy() # We want to COPY the DataFrame. Without using the \"copy()\" function, the new df will be a pointer to the old one.\n",
    "df_copy[\"norm_votes\"] = (df_copy[\"votes\"] - df_copy[\"votes\"].min()) / (df_copy[\"votes\"].max() - df_copy[\"votes\"].min())\n",
    "df_copy[[\"norm_votes\",\"votes\"]].head()"
   ]
  },
  {
   "cell_type": "markdown",
   "metadata": {
    "id": "FfeeHiY0q1wb"
   },
   "source": [
    "**Broadcasting** <br><br>\n",
    "Notice the Broadcasting in last line, in the `df_copy[\"votes\"] - df_copy[\"votes\"].min()` operation (an integer minus a series)!"
   ]
  },
  {
   "cell_type": "markdown",
   "metadata": {
    "id": "bTkMr_4Pq1wb"
   },
   "source": [
    "### Feature Extraction / Engineering"
   ]
  },
  {
   "cell_type": "markdown",
   "metadata": {
    "id": "EhnbotFkq1wb"
   },
   "source": [
    "It is possible to iterate over a DataFrame or Series as you would with a list, but doing so — especially on large datasets — is very slow.\n",
    "\n",
    "An efficient alternative is to `apply()` a function to the DataFrame, along its axis. \n",
    "For example, we could use a function to convert movies with an 8.0 or greater to a string value of \"good\" and the rest to \"bad\" and use this transformed values to create a new column.\n",
    "\n",
    "First we would create a function that, when given a rating, determines if it's good or bad."
   ]
  },
  {
   "cell_type": "code",
   "execution_count": 73,
   "metadata": {
    "executionInfo": {
     "elapsed": 10,
     "status": "ok",
     "timestamp": 1635236643869,
     "user": {
      "displayName": "Ilan Vasilevsky",
      "photoUrl": "https://lh3.googleusercontent.com/a-/AOh14GguyxPxQM0_RGlxWIPJAwj0FMVfxWgPlwWl0QT3=s64",
      "userId": "01351641955183714281"
     },
     "user_tz": -180
    },
    "id": "VHCbw1Qmq1wb"
   },
   "outputs": [],
   "source": [
    "def rating_function(x):\n",
    "    if x >= 8.0:\n",
    "        return \"good\"\n",
    "    else:\n",
    "        return \"bad\""
   ]
  },
  {
   "cell_type": "code",
   "execution_count": 74,
   "metadata": {
    "colab": {
     "base_uri": "https://localhost:8080/",
     "height": 235
    },
    "executionInfo": {
     "elapsed": 10,
     "status": "ok",
     "timestamp": 1635236643869,
     "user": {
      "displayName": "Ilan Vasilevsky",
      "photoUrl": "https://lh3.googleusercontent.com/a-/AOh14GguyxPxQM0_RGlxWIPJAwj0FMVfxWgPlwWl0QT3=s64",
      "userId": "01351641955183714281"
     },
     "user_tz": -180
    },
    "id": "RenYl9epq1wb",
    "outputId": "8fc76469-3b74-4250-fc7d-7b58a88f3133"
   },
   "outputs": [
    {
     "data": {
      "text/html": [
       "<div>\n",
       "<style scoped>\n",
       "    .dataframe tbody tr th:only-of-type {\n",
       "        vertical-align: middle;\n",
       "    }\n",
       "\n",
       "    .dataframe tbody tr th {\n",
       "        vertical-align: top;\n",
       "    }\n",
       "\n",
       "    .dataframe thead th {\n",
       "        text-align: right;\n",
       "    }\n",
       "</style>\n",
       "<table border=\"1\" class=\"dataframe\">\n",
       "  <thead>\n",
       "    <tr style=\"text-align: right;\">\n",
       "      <th></th>\n",
       "      <th>title</th>\n",
       "      <th>rating</th>\n",
       "      <th>rating_category</th>\n",
       "    </tr>\n",
       "    <tr>\n",
       "      <th>ID</th>\n",
       "      <th></th>\n",
       "      <th></th>\n",
       "      <th></th>\n",
       "    </tr>\n",
       "  </thead>\n",
       "  <tbody>\n",
       "    <tr>\n",
       "      <th>10066</th>\n",
       "      <td>Guardians of the Galaxy</td>\n",
       "      <td>8.1</td>\n",
       "      <td>good</td>\n",
       "    </tr>\n",
       "    <tr>\n",
       "      <th>36452</th>\n",
       "      <td>Prometheus</td>\n",
       "      <td>7.0</td>\n",
       "      <td>bad</td>\n",
       "    </tr>\n",
       "    <tr>\n",
       "      <th>41798</th>\n",
       "      <td>Split</td>\n",
       "      <td>7.3</td>\n",
       "      <td>bad</td>\n",
       "    </tr>\n",
       "    <tr>\n",
       "      <th>63054</th>\n",
       "      <td>Sing</td>\n",
       "      <td>7.2</td>\n",
       "      <td>bad</td>\n",
       "    </tr>\n",
       "    <tr>\n",
       "      <th>16233</th>\n",
       "      <td>Suicide Squad</td>\n",
       "      <td>6.2</td>\n",
       "      <td>bad</td>\n",
       "    </tr>\n",
       "  </tbody>\n",
       "</table>\n",
       "</div>"
      ],
      "text/plain": [
       "                         title  rating rating_category\n",
       "ID                                                    \n",
       "10066  Guardians of the Galaxy     8.1            good\n",
       "36452               Prometheus     7.0             bad\n",
       "41798                    Split     7.3             bad\n",
       "63054                     Sing     7.2             bad\n",
       "16233            Suicide Squad     6.2             bad"
      ]
     },
     "execution_count": 74,
     "metadata": {},
     "output_type": "execute_result"
    }
   ],
   "source": [
    "df[\"rating_category\"] = df[\"rating\"].apply(rating_function)\n",
    "\n",
    "df[[\"title\",\"rating\",\"rating_category\"]].head()"
   ]
  },
  {
   "cell_type": "code",
   "execution_count": 75,
   "metadata": {
    "colab": {
     "base_uri": "https://localhost:8080/",
     "height": 235
    },
    "executionInfo": {
     "elapsed": 10,
     "status": "ok",
     "timestamp": 1635236643870,
     "user": {
      "displayName": "Ilan Vasilevsky",
      "photoUrl": "https://lh3.googleusercontent.com/a-/AOh14GguyxPxQM0_RGlxWIPJAwj0FMVfxWgPlwWl0QT3=s64",
      "userId": "01351641955183714281"
     },
     "user_tz": -180
    },
    "id": "Rp0AJ75gq1wb",
    "outputId": "bab9a811-bccf-4399-d7ab-6bbead8e0f02"
   },
   "outputs": [
    {
     "data": {
      "text/html": [
       "<div>\n",
       "<style scoped>\n",
       "    .dataframe tbody tr th:only-of-type {\n",
       "        vertical-align: middle;\n",
       "    }\n",
       "\n",
       "    .dataframe tbody tr th {\n",
       "        vertical-align: top;\n",
       "    }\n",
       "\n",
       "    .dataframe thead th {\n",
       "        text-align: right;\n",
       "    }\n",
       "</style>\n",
       "<table border=\"1\" class=\"dataframe\">\n",
       "  <thead>\n",
       "    <tr style=\"text-align: right;\">\n",
       "      <th></th>\n",
       "      <th>title</th>\n",
       "      <th>rating</th>\n",
       "      <th>rating_category</th>\n",
       "    </tr>\n",
       "    <tr>\n",
       "      <th>ID</th>\n",
       "      <th></th>\n",
       "      <th></th>\n",
       "      <th></th>\n",
       "    </tr>\n",
       "  </thead>\n",
       "  <tbody>\n",
       "    <tr>\n",
       "      <th>10066</th>\n",
       "      <td>Guardians of the Galaxy</td>\n",
       "      <td>8.1</td>\n",
       "      <td>good</td>\n",
       "    </tr>\n",
       "    <tr>\n",
       "      <th>36452</th>\n",
       "      <td>Prometheus</td>\n",
       "      <td>7.0</td>\n",
       "      <td>bad</td>\n",
       "    </tr>\n",
       "    <tr>\n",
       "      <th>41798</th>\n",
       "      <td>Split</td>\n",
       "      <td>7.3</td>\n",
       "      <td>bad</td>\n",
       "    </tr>\n",
       "    <tr>\n",
       "      <th>63054</th>\n",
       "      <td>Sing</td>\n",
       "      <td>7.2</td>\n",
       "      <td>bad</td>\n",
       "    </tr>\n",
       "    <tr>\n",
       "      <th>16233</th>\n",
       "      <td>Suicide Squad</td>\n",
       "      <td>6.2</td>\n",
       "      <td>bad</td>\n",
       "    </tr>\n",
       "  </tbody>\n",
       "</table>\n",
       "</div>"
      ],
      "text/plain": [
       "                         title  rating rating_category\n",
       "ID                                                    \n",
       "10066  Guardians of the Galaxy     8.1            good\n",
       "36452               Prometheus     7.0             bad\n",
       "41798                    Split     7.3             bad\n",
       "63054                     Sing     7.2             bad\n",
       "16233            Suicide Squad     6.2             bad"
      ]
     },
     "execution_count": 75,
     "metadata": {},
     "output_type": "execute_result"
    }
   ],
   "source": [
    "df[\"rating_category\"] = df[\"rating\"].apply(lambda x: 'good' if x >= 8.0 else 'bad')\n",
    "\n",
    "df[[\"title\",\"rating\",\"rating_category\"]].head()"
   ]
  },
  {
   "cell_type": "markdown",
   "metadata": {
    "id": "5HxCAhi6q1wb"
   },
   "source": [
    "## Saving the Data"
   ]
  },
  {
   "cell_type": "code",
   "execution_count": null,
   "metadata": {
    "id": "_uz2c-Nfq1wb"
   },
   "outputs": [],
   "source": [
    "# Saving dataframe to CSV\n",
    "df.to_csv(\"movies-db-processed.csv\", index=False)"
   ]
  },
  {
   "cell_type": "markdown",
   "metadata": {
    "id": "_nfRiFBCq1wc"
   },
   "source": [
    "## Extras"
   ]
  },
  {
   "cell_type": "markdown",
   "metadata": {
    "id": "NtyXOBSr9CmM"
   },
   "source": [
    "### Plotting"
   ]
  },
  {
   "cell_type": "code",
   "execution_count": null,
   "metadata": {
    "id": "x8qxKdd-9CmM"
   },
   "outputs": [],
   "source": [
    "import matplotlib.pyplot as plt\n",
    "import seaborn as sns\n",
    "plt.rcParams.update({'font.size': 12, 'figure.figsize': (8, 6)}) # set font and plot size to be larger"
   ]
  },
  {
   "cell_type": "markdown",
   "metadata": {
    "id": "CAlnKQLw9CmM"
   },
   "source": [
    "#### Scatter"
   ]
  },
  {
   "cell_type": "code",
   "execution_count": null,
   "metadata": {
    "id": "XxrSEHlp9CmN",
    "outputId": "30486c31-2bf0-4935-f62b-caae4bf36b5c"
   },
   "outputs": [
    {
     "data": {
      "image/png": "[encoded data removed]",
      "text/plain": [
       "<Figure size 432x288 with 1 Axes>"
      ]
     },
     "metadata": {
      "needs_background": "light",
      "tags": []
     },
     "output_type": "display_data"
    }
   ],
   "source": [
    "df.plot.scatter(x='rating', y='revenue_millions', title='Revenue (millions) vs Rating');\n",
    "plt.show()"
   ]
  },
  {
   "cell_type": "markdown",
   "metadata": {
    "id": "ujQmd5cD9CmN"
   },
   "source": [
    "#### Distributions"
   ]
  },
  {
   "cell_type": "markdown",
   "metadata": {
    "id": "TUttpRA39CmN"
   },
   "source": [
    "##### Histogram"
   ]
  },
  {
   "cell_type": "markdown",
   "metadata": {
    "id": "TzqgbTDy9CmO"
   },
   "source": [
    "Let's plot the rating distribution:"
   ]
  },
  {
   "cell_type": "code",
   "execution_count": null,
   "metadata": {
    "id": "1Gv2QsGx9CmO",
    "outputId": "72acf212-224d-43ea-e82a-83e61f530abf"
   },
   "outputs": [
    {
     "data": {
      "image/png": "[encoded data removed]",
      "text/plain": [
       "<Figure size 432x288 with 1 Axes>"
      ]
     },
     "metadata": {
      "needs_background": "light",
      "tags": []
     },
     "output_type": "display_data"
    }
   ],
   "source": [
    "df['rating'].plot.hist()\n",
    "plt.show()"
   ]
  },
  {
   "cell_type": "markdown",
   "metadata": {
    "id": "mgybwjNh9CmO"
   },
   "source": [
    "We can also plot multiple histograms"
   ]
  },
  {
   "cell_type": "markdown",
   "metadata": {
    "id": "ztq6JT_u9CmO"
   },
   "source": [
    "##### Bar Plot"
   ]
  },
  {
   "cell_type": "markdown",
   "metadata": {
    "id": "gBreHHvu9CmP"
   },
   "source": [
    "Let's plot how many films where created in each genre:"
   ]
  },
  {
   "cell_type": "code",
   "execution_count": null,
   "metadata": {
    "id": "NlmoPtjO9CmP",
    "outputId": "a3fda5ee-9486-4a6c-8bcd-50ca5c990ed2"
   },
   "outputs": [
    {
     "data": {
      "text/plain": [
       "Action,Adventure,Sci-Fi       50\n",
       "Drama                         48\n",
       "Comedy,Drama,Romance          35\n",
       "Comedy                        32\n",
       "Drama,Romance                 31\n",
       "Comedy,Drama                  27\n",
       "Animation,Adventure,Comedy    27\n",
       "Action,Adventure,Fantasy      27\n",
       "Comedy,Romance                26\n",
       "Crime,Drama,Thriller          24\n",
       "Name: genre, dtype: int64"
      ]
     },
     "execution_count": 54,
     "metadata": {
      "tags": []
     },
     "output_type": "execute_result"
    }
   ],
   "source": [
    "df['genre'].value_counts().head(10)"
   ]
  },
  {
   "cell_type": "code",
   "execution_count": null,
   "metadata": {
    "id": "KYYgLgWd9CmP",
    "outputId": "98859797-a1be-4f91-e91c-2aa0375aeeb2"
   },
   "outputs": [
    {
     "data": {
      "image/png": "[encoded data removed]",
      "text/plain": [
       "<Figure size 432x288 with 1 Axes>"
      ]
     },
     "metadata": {
      "needs_background": "light",
      "tags": []
     },
     "output_type": "display_data"
    }
   ],
   "source": [
    "df['genre'].value_counts().head(10).plot.barh()\n",
    "plt.show()"
   ]
  },
  {
   "cell_type": "markdown",
   "metadata": {
    "id": "EJdM97TG9CmP"
   },
   "source": [
    "#### Box Plot"
   ]
  },
  {
   "cell_type": "code",
   "execution_count": null,
   "metadata": {
    "id": "slYSJE-09CmQ",
    "outputId": "194a1dca-fff1-4a50-8a3b-2086b041f53a"
   },
   "outputs": [
    {
     "data": {
      "image/png": "[encoded data removed]",
      "text/plain": [
       "<Figure size 432x288 with 1 Axes>"
      ]
     },
     "metadata": {
      "needs_background": "light",
      "tags": []
     },
     "output_type": "display_data"
    }
   ],
   "source": [
    "df.boxplot(column='revenue_millions',\n",
    "           by='rating_category');\n",
    "plt.show()"
   ]
  },
  {
   "cell_type": "markdown",
   "metadata": {
    "id": "mQpWUejE9CmQ"
   },
   "source": [
    "### Correlations"
   ]
  },
  {
   "cell_type": "markdown",
   "metadata": {
    "id": "OK5A8GRq9CmQ"
   },
   "source": [
    "By using the correlation method .corr() we can generate the relationship between each continuous variable:"
   ]
  },
  {
   "cell_type": "code",
   "execution_count": null,
   "metadata": {
    "id": "rIIdRfwg9CmQ",
    "outputId": "9a8b9243-4ff2-4068-8272-4b501dd119ed"
   },
   "outputs": [
    {
     "data": {
      "text/html": [
       "<div>\n",
       "<style scoped>\n",
       "    .dataframe tbody tr th:only-of-type {\n",
       "        vertical-align: middle;\n",
       "    }\n",
       "\n",
       "    .dataframe tbody tr th {\n",
       "        vertical-align: top;\n",
       "    }\n",
       "\n",
       "    .dataframe thead th {\n",
       "        text-align: right;\n",
       "    }\n",
       "</style>\n",
       "<table border=\"1\" class=\"dataframe\">\n",
       "  <thead>\n",
       "    <tr style=\"text-align: right;\">\n",
       "      <th></th>\n",
       "      <th>year</th>\n",
       "      <th>runtime</th>\n",
       "      <th>rating</th>\n",
       "      <th>votes</th>\n",
       "      <th>revenue_millions</th>\n",
       "      <th>metascore</th>\n",
       "    </tr>\n",
       "  </thead>\n",
       "  <tbody>\n",
       "    <tr>\n",
       "      <th>year</th>\n",
       "      <td>1.000000</td>\n",
       "      <td>-0.164900</td>\n",
       "      <td>-0.211219</td>\n",
       "      <td>-0.411904</td>\n",
       "      <td>-0.117562</td>\n",
       "      <td>-0.079305</td>\n",
       "    </tr>\n",
       "    <tr>\n",
       "      <th>runtime</th>\n",
       "      <td>-0.164900</td>\n",
       "      <td>1.000000</td>\n",
       "      <td>0.392214</td>\n",
       "      <td>0.407062</td>\n",
       "      <td>0.247834</td>\n",
       "      <td>0.211978</td>\n",
       "    </tr>\n",
       "    <tr>\n",
       "      <th>rating</th>\n",
       "      <td>-0.211219</td>\n",
       "      <td>0.392214</td>\n",
       "      <td>1.000000</td>\n",
       "      <td>0.511537</td>\n",
       "      <td>0.189527</td>\n",
       "      <td>0.631897</td>\n",
       "    </tr>\n",
       "    <tr>\n",
       "      <th>votes</th>\n",
       "      <td>-0.411904</td>\n",
       "      <td>0.407062</td>\n",
       "      <td>0.511537</td>\n",
       "      <td>1.000000</td>\n",
       "      <td>0.607941</td>\n",
       "      <td>0.325684</td>\n",
       "    </tr>\n",
       "    <tr>\n",
       "      <th>revenue_millions</th>\n",
       "      <td>-0.117562</td>\n",
       "      <td>0.247834</td>\n",
       "      <td>0.189527</td>\n",
       "      <td>0.607941</td>\n",
       "      <td>1.000000</td>\n",
       "      <td>0.133328</td>\n",
       "    </tr>\n",
       "    <tr>\n",
       "      <th>metascore</th>\n",
       "      <td>-0.079305</td>\n",
       "      <td>0.211978</td>\n",
       "      <td>0.631897</td>\n",
       "      <td>0.325684</td>\n",
       "      <td>0.133328</td>\n",
       "      <td>1.000000</td>\n",
       "    </tr>\n",
       "  </tbody>\n",
       "</table>\n",
       "</div>"
      ],
      "text/plain": [
       "                      year   runtime    rating     votes  revenue_millions  \\\n",
       "year              1.000000 -0.164900 -0.211219 -0.411904         -0.117562   \n",
       "runtime          -0.164900  1.000000  0.392214  0.407062          0.247834   \n",
       "rating           -0.211219  0.392214  1.000000  0.511537          0.189527   \n",
       "votes            -0.411904  0.407062  0.511537  1.000000          0.607941   \n",
       "revenue_millions -0.117562  0.247834  0.189527  0.607941          1.000000   \n",
       "metascore        -0.079305  0.211978  0.631897  0.325684          0.133328   \n",
       "\n",
       "                  metascore  \n",
       "year              -0.079305  \n",
       "runtime            0.211978  \n",
       "rating             0.631897  \n",
       "votes              0.325684  \n",
       "revenue_millions   0.133328  \n",
       "metascore          1.000000  "
      ]
     },
     "execution_count": 57,
     "metadata": {
      "tags": []
     },
     "output_type": "execute_result"
    }
   ],
   "source": [
    "df.corr()"
   ]
  },
  {
   "cell_type": "code",
   "execution_count": null,
   "metadata": {
    "colab": {
     "base_uri": "https://localhost:8080/",
     "height": 118
    },
    "executionInfo": {
     "elapsed": 697,
     "status": "ok",
     "timestamp": 1613926576015,
     "user": {
      "displayName": "shahaf goren",
      "photoUrl": "",
      "userId": "10396340241877551029"
     },
     "user_tz": -120
    },
    "id": "3AAQbZrnf9if",
    "outputId": "f7ee0846-9cf1-4389-cdb5-5fd1a773c9c6"
   },
   "outputs": [
    {
     "data": {
      "text/html": [
       "<style  type=\"text/css\" >\n",
       "#T_b68f4f12_7465_11eb_b082_0242ac1c0002row0_col0,#T_b68f4f12_7465_11eb_b082_0242ac1c0002row0_col2,#T_b68f4f12_7465_11eb_b082_0242ac1c0002row1_col1,#T_b68f4f12_7465_11eb_b082_0242ac1c0002row2_col0,#T_b68f4f12_7465_11eb_b082_0242ac1c0002row2_col2,#T_b68f4f12_7465_11eb_b082_0242ac1c0002row3_col3{\n",
       "            color:  yellow;\n",
       "        }</style><table id=\"T_b68f4f12_7465_11eb_b082_0242ac1c0002\" ><thead>    <tr>        <th class=\"blank level0\" ></th>        <th class=\"col_heading level0 col0\" >A</th>        <th class=\"col_heading level0 col1\" >B</th>        <th class=\"col_heading level0 col2\" >C</th>        <th class=\"col_heading level0 col3\" >D</th>    </tr></thead><tbody>\n",
       "                <tr>\n",
       "                        <th id=\"T_b68f4f12_7465_11eb_b082_0242ac1c0002level0_row0\" class=\"row_heading level0 row0\" >A</th>\n",
       "                        <td id=\"T_b68f4f12_7465_11eb_b082_0242ac1c0002row0_col0\" class=\"data row0 col0\" >1.000000</td>\n",
       "                        <td id=\"T_b68f4f12_7465_11eb_b082_0242ac1c0002row0_col1\" class=\"data row0 col1\" >-0.624041</td>\n",
       "                        <td id=\"T_b68f4f12_7465_11eb_b082_0242ac1c0002row0_col2\" class=\"data row0 col2\" >-0.771772</td>\n",
       "                        <td id=\"T_b68f4f12_7465_11eb_b082_0242ac1c0002row0_col3\" class=\"data row0 col3\" >0.211865</td>\n",
       "            </tr>\n",
       "            <tr>\n",
       "                        <th id=\"T_b68f4f12_7465_11eb_b082_0242ac1c0002level0_row1\" class=\"row_heading level0 row1\" >B</th>\n",
       "                        <td id=\"T_b68f4f12_7465_11eb_b082_0242ac1c0002row1_col0\" class=\"data row1 col0\" >-0.624041</td>\n",
       "                        <td id=\"T_b68f4f12_7465_11eb_b082_0242ac1c0002row1_col1\" class=\"data row1 col1\" >1.000000</td>\n",
       "                        <td id=\"T_b68f4f12_7465_11eb_b082_0242ac1c0002row1_col2\" class=\"data row1 col2\" >0.047550</td>\n",
       "                        <td id=\"T_b68f4f12_7465_11eb_b082_0242ac1c0002row1_col3\" class=\"data row1 col3\" >-0.537047</td>\n",
       "            </tr>\n",
       "            <tr>\n",
       "                        <th id=\"T_b68f4f12_7465_11eb_b082_0242ac1c0002level0_row2\" class=\"row_heading level0 row2\" >C</th>\n",
       "                        <td id=\"T_b68f4f12_7465_11eb_b082_0242ac1c0002row2_col0\" class=\"data row2 col0\" >-0.771772</td>\n",
       "                        <td id=\"T_b68f4f12_7465_11eb_b082_0242ac1c0002row2_col1\" class=\"data row2 col1\" >0.047550</td>\n",
       "                        <td id=\"T_b68f4f12_7465_11eb_b082_0242ac1c0002row2_col2\" class=\"data row2 col2\" >1.000000</td>\n",
       "                        <td id=\"T_b68f4f12_7465_11eb_b082_0242ac1c0002row2_col3\" class=\"data row2 col3\" >0.300918</td>\n",
       "            </tr>\n",
       "            <tr>\n",
       "                        <th id=\"T_b68f4f12_7465_11eb_b082_0242ac1c0002level0_row3\" class=\"row_heading level0 row3\" >D</th>\n",
       "                        <td id=\"T_b68f4f12_7465_11eb_b082_0242ac1c0002row3_col0\" class=\"data row3 col0\" >0.211865</td>\n",
       "                        <td id=\"T_b68f4f12_7465_11eb_b082_0242ac1c0002row3_col1\" class=\"data row3 col1\" >-0.537047</td>\n",
       "                        <td id=\"T_b68f4f12_7465_11eb_b082_0242ac1c0002row3_col2\" class=\"data row3 col2\" >0.300918</td>\n",
       "                        <td id=\"T_b68f4f12_7465_11eb_b082_0242ac1c0002row3_col3\" class=\"data row3 col3\" >1.000000</td>\n",
       "            </tr>\n",
       "    </tbody></table>"
      ],
      "text/plain": [
       "<pandas.io.formats.style.Styler at 0x7fa3718bf710>"
      ]
     },
     "execution_count": 14,
     "metadata": {
      "tags": []
     },
     "output_type": "execute_result"
    }
   ],
   "source": [
    "def highlight_max(s):\n",
    "    '''\n",
    "    highlight correlations\n",
    "    '''\n",
    "    return ['color: yellow' if abs(v)>0.7 else '' for v in s]\n",
    "    \n",
    "df.corr().style.apply(lambda s: ['color: yellow' if abs(v)>0.7 else '' for v in s])"
   ]
  },
  {
   "cell_type": "markdown",
   "metadata": {
    "id": "YgZMFLLi9CmQ"
   },
   "source": [
    "#### Heatmap"
   ]
  },
  {
   "cell_type": "code",
   "execution_count": null,
   "metadata": {
    "id": "H7iocubG9CmR",
    "outputId": "a70e0b82-c956-4847-e6c9-d10e2e14c5c6"
   },
   "outputs": [
    {
     "data": {
      "image/png": "[encoded data removed]",
      "text/plain": [
       "<Figure size 432x288 with 2 Axes>"
      ]
     },
     "metadata": {
      "needs_background": "light",
      "tags": []
     },
     "output_type": "display_data"
    }
   ],
   "source": [
    "sns.heatmap(df.corr(), \n",
    "        xticklabels=df.corr().columns,\n",
    "        yticklabels=df.corr().columns)\n",
    "plt.show()"
   ]
  }
 ],
 "metadata": {
  "colab": {
   "collapsed_sections": [
    "_nfRiFBCq1wc",
    "NtyXOBSr9CmM",
    "mQpWUejE9CmQ"
   ],
   "name": "Python_4ML.ipynb",
   "provenance": [
    {
     "file_id": "/v2/external/notebooks/mlcc/intro_to_pandas.ipynb",
     "timestamp": 1633108671142
    }
   ]
  },
  "interpreter": {
   "hash": "0a0bccf790fda96cc67732d5c128cb214b467233f5459e6857ef92c9fe380ef6"
  },
  "kernelspec": {
   "display_name": "Python 3 (ipykernel)",
   "language": "python",
   "name": "python3"
  },
  "language_info": {
   "codemirror_mode": {
    "name": "ipython",
    "version": 3
   },
   "file_extension": ".py",
   "mimetype": "text/x-python",
   "name": "python",
   "nbconvert_exporter": "python",
   "pygments_lexer": "ipython3",
   "version": "3.9.13"
  }
 },
 "nbformat": 4,
 "nbformat_minor": 1
}

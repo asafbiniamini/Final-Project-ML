{
 "cells": [
  {
   "cell_type": "markdown",
   "id": "21d44765",
   "metadata": {},
   "source": [
    "<center><br><font size=10>Final Project</font><br>\n",
    "<br><br>\n",
    "<b>Introduction to Machine Learning – Digital Sciences for High-Tech</b>\n",
    "<br><br>\n",
    "<b>Author</b>: Asaf Biniamini & Guy Maoz\n",
    "<br><i>Spring 2023</i> </center>"
   ]
  },
  {
   "cell_type": "markdown",
   "id": "cf82d8ac",
   "metadata": {},
   "source": [
    "<center>\n",
    "<font size=6>pre-processing</font>\n",
    "</center>"
   ]
  },
  {
   "cell_type": "markdown",
   "id": "a57d09fb",
   "metadata": {},
   "source": [
    "## Import libraries"
   ]
  },
  {
   "cell_type": "code",
   "execution_count": 2,
   "id": "2c7a1241",
   "metadata": {},
   "outputs": [],
   "source": [
    "import pandas as pd\n",
    "import numpy as np\n",
    "import matplotlib.pyplot as plt\n",
    "from sklearn.metrics import mean_squared_error\n",
    "from sklearn.model_selection import train_test_split, KFold\n",
    "from sklearn.datasets import fetch_openml\n",
    "from sklearn.linear_model import LogisticRegression,LinearRegression\n",
    "from sklearn.preprocessing import StandardScaler\n",
    "from sklearn.metrics import confusion_matrix\n",
    "from typing import List, Dict\n",
    "%matplotlib inline"
   ]
  },
  {
   "cell_type": "markdown",
   "id": "45fbfc58",
   "metadata": {},
   "source": [
    "Are there outliers in the data? If so, you must remove them or at least give explanation about it."
   ]
  },
  {
   "cell_type": "code",
   "execution_count": null,
   "id": "04e1e466",
   "metadata": {},
   "outputs": [],
   "source": [
    "# Load the data\n",
    "data = pd.read_csv(\"train.csv\")\n",
    "X, y = data.values[:, :-1], data.values[:, -1]\n",
    "\n",
    "# Step 1: Explore the data\n",
    "print(\"Summary statistics:\")\n",
    "print(data.describe())\n",
    "\n",
    "# Step 2: Visualize the data\n",
    "data.hist(figsize=(12, 12))\n",
    "plt.tight_layout()\n",
    "plt.show()\n",
    "\n",
    "# Step 3: Analyze feature distributions\n",
    "for column in data.columns:\n",
    "    plt.figure()\n",
    "    data.boxplot(column=[column])\n",
    "    plt.title(column)\n",
    "    plt.show()\n",
    "\n",
    "# Step 4: Use statistical techniques (Z-score)\n",
    "z_scores = np.abs(stats.zscore(X))\n",
    "threshold = 3  # Set your threshold for outliers here\n",
    "outliers = np.where(z_scores > threshold)\n",
    "\n",
    "# Step 5: Handle outliers\n",
    "# Remove outliers\n",
    "clean_X = X[(z_scores < threshold).all(axis=1)]\n",
    "clean_y = y[(z_scores < threshold).all(axis=1)]\n",
    "\n",
    "# Transform outliers (Winsorization)\n",
    "winsorized_X = np.where(z_scores > threshold, np.sign(X) * threshold, X)\n",
    "\n",
    "# Print the number of outliers detected\n",
    "print(\"Number of outliers detected:\", len(outliers[0]))\n",
    "\n",
    "# Print the number of data points after handling outliers\n",
    "print(\"Number of data points after handling outliers:\", len(clean_X))\n",
    "\n"
   ]
  }
 ],
 "metadata": {
  "kernelspec": {
   "display_name": "Python 3 (ipykernel)",
   "language": "python",
   "name": "python3"
  },
  "language_info": {
   "codemirror_mode": {
    "name": "ipython",
    "version": 3
   },
   "file_extension": ".py",
   "mimetype": "text/x-python",
   "name": "python",
   "nbconvert_exporter": "python",
   "pygments_lexer": "ipython3",
   "version": "3.9.13"
  }
 },
 "nbformat": 4,
 "nbformat_minor": 5
}

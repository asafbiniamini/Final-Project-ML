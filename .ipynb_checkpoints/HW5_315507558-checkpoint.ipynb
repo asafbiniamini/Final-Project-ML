{
 "cells": [
  {
   "cell_type": "markdown",
   "metadata": {
    "id": "DVeelyV4HcWg"
   },
   "source": [
    "<center><br><font size=10>HW5</font><br>\n",
    "<font size=6>Bayesian Classifiers</font>\n",
    "<br><br>\n",
    "<b>Introduction to Machine Learning – Digital Sciences for High-Tech</b>\n",
    "<br><br>\n",
    "<b>Author</b>: Ilan Vasilevsky - ilanv@mail.tau.ac.il\n",
    "<br><i>Spring 2023</i></center>"
   ]
  },
  {
   "cell_type": "markdown",
   "metadata": {},
   "source": [
    "The answered notebook should be submitted in the following format: HW5_{id}.ipynb"
   ]
  },
  {
   "cell_type": "markdown",
   "metadata": {},
   "source": [
    "**Important** - Use relative paths only! <br>\n",
    "for example - \"data_part1.csv\" <br>\n",
    "and **NOT** \"C:\\Users\\Ilan\\Desktop\\HW4\\data_part1.csv\""
   ]
  },
  {
   "cell_type": "markdown",
   "metadata": {
    "id": "mwEcTO2FHcWq"
   },
   "source": [
    "### Import libraries\n",
    "You are allowed to use these libraries only."
   ]
  },
  {
   "cell_type": "code",
   "execution_count": 6,
   "metadata": {
    "ExecuteTime": {
     "end_time": "2021-05-08T15:38:19.168746Z",
     "start_time": "2021-05-08T15:38:17.638784Z"
    },
    "id": "8uluoR5zHcWs"
   },
   "outputs": [],
   "source": [
    "import numpy as np\n",
    "import pandas as pd\n",
    "from sklearn.model_selection import train_test_split\n",
    "from matplotlib import pyplot as plt"
   ]
  },
  {
   "cell_type": "markdown",
   "metadata": {
    "id": "5MfnYRmoHcWu"
   },
   "source": [
    "## Part 1 - Bernoulli Naive Bayes"
   ]
  },
  {
   "cell_type": "markdown",
   "metadata": {
    "id": "opaZXxBHHcWw"
   },
   "source": [
    "We will use the data from the homework, question 3. The following code creates the train data."
   ]
  },
  {
   "cell_type": "code",
   "execution_count": 7,
   "metadata": {},
   "outputs": [],
   "source": [
    "X = np.array(\n",
    "    [\n",
    "        [0,1,0,0,0],\n",
    "        [1,0,1,1,0],\n",
    "        [1,0,1,1,1],\n",
    "        [0,1,1,0,1],\n",
    "        [1,0,0,1,1]\n",
    "    ]\n",
    ")\n",
    "\n",
    "y = np.array([0,1,0,1,0])"
   ]
  },
  {
   "cell_type": "markdown",
   "metadata": {
    "id": "B4LguoguHcWy"
   },
   "source": [
    "Here you should write down your code. It's ok if the code is suitable for just 2 classes."
   ]
  },
  {
   "cell_type": "code",
   "execution_count": 8,
   "metadata": {
    "ExecuteTime": {
     "end_time": "2021-05-08T15:41:24.548785Z",
     "start_time": "2021-05-08T15:41:24.542854Z"
    },
    "id": "wfVOLmY0HcWz"
   },
   "outputs": [],
   "source": [
    "class BernoulliNaiveBayes:\n",
    "    \n",
    "    def __init__(self):\n",
    "        # use the following variables to store the parameters of the model.\n",
    "        self.priors = None\n",
    "        self.p_0 = None\n",
    "        self.p_1 = None\n",
    "    \n",
    "    def fit(self, X, y):\n",
    "        # X and y are numpy arrays.\n",
    "        # Use numpy (or pandas) the find the priors, P(y=0) and P(y=1)\n",
    "        # find P(X=1|y=0) and P(X=1|y=1) for each feature.\n",
    "        # The .fit method can be written in 3 lines of code. \n",
    "        \n",
    "        #TODO: your solution\n",
    "        n_samples, n_features = X.shape\n",
    "        self.priors = np.array([np.count_nonzero(y == i) / n_samples for i in range(2)])\n",
    "        self.p0 = np.array([np.mean(X[y == 0, feature] == 1) for feature in range(n_features)])\n",
    "        self.p1 = np.array([np.mean(X[y == 1, feature] == 1) for feature in range(n_features)])\n",
    "\n",
    "\n",
    "    def predict_proba(self, X) -> np.array:      \n",
    "        # Given a new sample X, you should return a probability vector with 2 elements.\n",
    "        # The probability of class 0, and the probability of class 1.\n",
    "        # Given an n by p matrix, you should return an n by 2 matrix.\n",
    "        # The .predict_proba method can be written in 3 lines of code. (you may also use more)\n",
    "        \n",
    "        #TODO: your solution\n",
    "        n_samples, _ = X.shape\n",
    "        probabilities = np.zeros((n_samples, 2))\n",
    "    \n",
    "        for i in range(n_samples):\n",
    "            x = X[i]\n",
    "            prob_0 = self.priors[0]\n",
    "            prob_1 = self.priors[1]\n",
    "        \n",
    "            for j in range(len(x)):\n",
    "                if x[j] == 1:\n",
    "                    prob_0 *= self.p0[j]\n",
    "                    prob_1 *= self.p1[j]\n",
    "                else:\n",
    "                    prob_0 *= (1 - self.p0[j])\n",
    "                    prob_1 *= (1 - self.p1[j])\n",
    "        \n",
    "            probabilities[i] = [prob_0, prob_1]\n",
    "    \n",
    "        return probabilities / np.sum(probabilities, axis=1, keepdims=True)\n",
    "\n",
    "        \n",
    "    def predict(self, X) -> np.array:\n",
    "        # Given a new sample X, you should return the predicted label, which is the one with the highest probability.\n",
    "        # You may use previous methods\n",
    "        #TODO: your solution\n",
    "        probabilities = self.predict_proba(X)\n",
    "        predicted_labels = np.argmax(probabilities, axis=1)\n",
    "        \n",
    "        return predicted_labels\n",
    "        \n",
    "\n",
    "    def get_likelihood(self) -> np.array:\n",
    "        # Returns the likelihood for each x value, given the y value p(x|y).\n",
    "        # Should return a matrix with shape: (#classes, #features)\n",
    "        # for that matrix X[i,j] = p(X_j=1|y=i)\n",
    "        #TODO: your solution\n",
    "        likelihood_matrix = np.stack((self.p0,self.p1))\n",
    "        return likelihood_matrix\n"
   ]
  },
  {
   "cell_type": "markdown",
   "metadata": {
    "id": "k6DaaEEqHcW3"
   },
   "source": [
    "Re create the test sample from the homework, and predict the probability of the test sample to be from class 1."
   ]
  },
  {
   "cell_type": "code",
   "execution_count": 9,
   "metadata": {
    "ExecuteTime": {
     "end_time": "2021-05-08T15:41:25.536108Z",
     "start_time": "2021-05-08T15:41:25.531750Z"
    },
    "id": "q6tS4xUpHcW5",
    "outputId": "0e0ab3b4-7625-4994-a880-a667043a6b5a"
   },
   "outputs": [
    {
     "name": "stdout",
     "output_type": "stream",
     "text": [
      "predict probability: [[0.28318584 0.71681416]]\n",
      "decision: [1]\n"
     ]
    }
   ],
   "source": [
    "clf = BernoulliNaiveBayes() #It is the class you just wrote down.\n",
    "test_sample = [1, 1, 1, 0, 1] # TODO: fill the list with 5 values, 0 or 1, representing the features of the new sample.\n",
    "# Convert array to 2D array with shape (1, #features)\n",
    "test = np.array([test_sample])\n",
    "clf.fit(X,y)\n",
    "\n",
    "# TODO: complete the next 2 lines of code\n",
    "predict_proba = clf.predict_proba(test)\n",
    "decision = clf.predict(test) \n",
    "print (f\"predict probability: {predict_proba}\")\n",
    "print(f\"decision: {decision}\")"
   ]
  },
  {
   "cell_type": "markdown",
   "metadata": {
    "id": "Krk44fCHHcW9"
   },
   "source": [
    "# Part 2 - Predicting  gender from name"
   ]
  },
  {
   "cell_type": "markdown",
   "metadata": {
    "id": "Ig3JXYpQHcW_"
   },
   "source": [
    "### read data"
   ]
  },
  {
   "cell_type": "code",
   "execution_count": 10,
   "metadata": {
    "ExecuteTime": {
     "end_time": "2021-05-08T15:44:11.306574Z",
     "start_time": "2021-05-08T15:44:11.290939Z"
    },
    "id": "SUFxfwg1HcXA"
   },
   "outputs": [],
   "source": [
    "df = pd.read_csv(\"names.csv\", index_col=0)\n",
    "y = df.is_female"
   ]
  },
  {
   "cell_type": "markdown",
   "metadata": {
    "id": "h3JwJJo4HcXA"
   },
   "source": [
    "### generate features"
   ]
  },
  {
   "cell_type": "markdown",
   "metadata": {
    "id": "1jAoYMYWHcXB"
   },
   "source": [
    "In this part, you shall perform a task from the domain of Natural Language Processing (NLP).\n",
    "You shall predict whether a name belongs to a male or a female. For simplicity, we shall do this only based on the last letter of the name.\n",
    "In NLP many times we need to make up features using expert knowledge to be able to classify words. <br>\n",
    "In the following cell you are asked to:\n",
    "1. Extract the last letter of every name\n",
    "2. Make a **Numpy array** `X` of dummy varialbes (one hot encoding) from the last letter feature.<br>\n",
    "   (use pd.get_dummies)"
   ]
  },
  {
   "cell_type": "code",
   "execution_count": 11,
   "metadata": {
    "ExecuteTime": {
     "end_time": "2021-05-08T15:38:23.592091Z",
     "start_time": "2021-05-08T15:38:23.585171Z"
    },
    "id": "fcEhXaAnHcXB"
   },
   "outputs": [],
   "source": [
    "#TODO: Extract the last letter of every name\n",
    "last_letter = df['name'].str[-1]\n",
    "\n",
    "#TODO: Make binary data \n",
    "X = pd.get_dummies(last_letter).values"
   ]
  },
  {
   "cell_type": "markdown",
   "metadata": {
    "id": "TUGpqlHCHcXC"
   },
   "source": [
    "### train and predict"
   ]
  },
  {
   "cell_type": "markdown",
   "metadata": {
    "id": "gy5XtxfzHcXD"
   },
   "source": [
    "Now that we have a binary data we can use the `BernoulliNaiveBayes` class you wrote to classify the names. <br>\n",
    "Run the cell below to see the results, and answer the question below.\n",
    "1. we plot 2 plots of the most common male/female letters ($P(X|y)$)\n",
    "2. we plot the predictions ($P(y|X)$) for every letter"
   ]
  },
  {
   "cell_type": "code",
   "execution_count": 12,
   "metadata": {
    "ExecuteTime": {
     "end_time": "2021-05-08T15:38:50.567665Z",
     "start_time": "2021-05-08T15:38:50.192075Z"
    },
    "id": "M2YGbf8DHcXE",
    "outputId": "12486b66-efcf-4d60-d39c-62cc247fb789",
    "scrolled": false
   },
   "outputs": [
    {
     "name": "stdout",
     "output_type": "stream",
     "text": [
      "accuracy: 75%\n"
     ]
    },
    {
     "data": {
      "image/png": "[encoded data removed]",
      "text/plain": [
       "<Figure size 640x480 with 1 Axes>"
      ]
     },
     "metadata": {},
     "output_type": "display_data"
    },
    {
     "data": {
      "image/png": "[encoded data removed]",
      "text/plain": [
       "<Figure size 640x480 with 1 Axes>"
      ]
     },
     "metadata": {},
     "output_type": "display_data"
    },
    {
     "data": {
      "text/html": [
       "<style type=\"text/css\">\n",
       "#T_00c4c_row0_col0 {\n",
       "  background-color: #b40426;\n",
       "  color: #f1f1f1;\n",
       "}\n",
       "#T_00c4c_row1_col0 {\n",
       "  background-color: #e26952;\n",
       "  color: #f1f1f1;\n",
       "}\n",
       "#T_00c4c_row2_col0 {\n",
       "  background-color: #f18d6f;\n",
       "  color: #f1f1f1;\n",
       "}\n",
       "#T_00c4c_row3_col0 {\n",
       "  background-color: #edd1c2;\n",
       "  color: #000000;\n",
       "}\n",
       "#T_00c4c_row4_col0 {\n",
       "  background-color: #e0dbd8;\n",
       "  color: #000000;\n",
       "}\n",
       "#T_00c4c_row5_col0 {\n",
       "  background-color: #d8dce2;\n",
       "  color: #000000;\n",
       "}\n",
       "#T_00c4c_row6_col0 {\n",
       "  background-color: #cdd9ec;\n",
       "  color: #000000;\n",
       "}\n",
       "#T_00c4c_row7_col0 {\n",
       "  background-color: #bcd2f7;\n",
       "  color: #000000;\n",
       "}\n",
       "#T_00c4c_row8_col0 {\n",
       "  background-color: #abc8fd;\n",
       "  color: #000000;\n",
       "}\n",
       "#T_00c4c_row9_col0 {\n",
       "  background-color: #9bbcff;\n",
       "  color: #000000;\n",
       "}\n",
       "#T_00c4c_row10_col0 {\n",
       "  background-color: #8db0fe;\n",
       "  color: #000000;\n",
       "}\n",
       "#T_00c4c_row11_col0 {\n",
       "  background-color: #89acfd;\n",
       "  color: #000000;\n",
       "}\n",
       "#T_00c4c_row12_col0, #T_00c4c_row13_col0 {\n",
       "  background-color: #88abfd;\n",
       "  color: #000000;\n",
       "}\n",
       "#T_00c4c_row14_col0 {\n",
       "  background-color: #84a7fc;\n",
       "  color: #f1f1f1;\n",
       "}\n",
       "#T_00c4c_row15_col0 {\n",
       "  background-color: #7699f6;\n",
       "  color: #f1f1f1;\n",
       "}\n",
       "#T_00c4c_row16_col0 {\n",
       "  background-color: #6f92f3;\n",
       "  color: #f1f1f1;\n",
       "}\n",
       "#T_00c4c_row17_col0 {\n",
       "  background-color: #6c8ff1;\n",
       "  color: #f1f1f1;\n",
       "}\n",
       "#T_00c4c_row18_col0 {\n",
       "  background-color: #6b8df0;\n",
       "  color: #f1f1f1;\n",
       "}\n",
       "#T_00c4c_row19_col0, #T_00c4c_row20_col0, #T_00c4c_row21_col0 {\n",
       "  background-color: #6788ee;\n",
       "  color: #f1f1f1;\n",
       "}\n",
       "#T_00c4c_row22_col0 {\n",
       "  background-color: #5470de;\n",
       "  color: #f1f1f1;\n",
       "}\n",
       "#T_00c4c_row23_col0 {\n",
       "  background-color: #445acc;\n",
       "  color: #f1f1f1;\n",
       "}\n",
       "#T_00c4c_row24_col0 {\n",
       "  background-color: #3b4cc0;\n",
       "  color: #f1f1f1;\n",
       "}\n",
       "</style>\n",
       "<table id=\"T_00c4c\">\n",
       "  <thead>\n",
       "    <tr>\n",
       "      <th class=\"blank level0\" >&nbsp;</th>\n",
       "      <th id=\"T_00c4c_level0_col0\" class=\"col_heading level0 col0\" >female_proba</th>\n",
       "    </tr>\n",
       "  </thead>\n",
       "  <tbody>\n",
       "    <tr>\n",
       "      <th id=\"T_00c4c_level0_row0\" class=\"row_heading level0 row0\" >a</th>\n",
       "      <td id=\"T_00c4c_row0_col0\" class=\"data row0 col0\" >0.988287</td>\n",
       "    </tr>\n",
       "    <tr>\n",
       "      <th id=\"T_00c4c_level0_row1\" class=\"row_heading level0 row1\" >i</th>\n",
       "      <td id=\"T_00c4c_row1_col0\" class=\"data row1 col0\" >0.845649</td>\n",
       "    </tr>\n",
       "    <tr>\n",
       "      <th id=\"T_00c4c_level0_row2\" class=\"row_heading level0 row2\" >e</th>\n",
       "      <td id=\"T_00c4c_row2_col0\" class=\"data row2 col0\" >0.770754</td>\n",
       "    </tr>\n",
       "    <tr>\n",
       "      <th id=\"T_00c4c_level0_row3\" class=\"row_heading level0 row3\" >y</th>\n",
       "      <td id=\"T_00c4c_row3_col0\" class=\"data row3 col0\" >0.563696</td>\n",
       "    </tr>\n",
       "    <tr>\n",
       "      <th id=\"T_00c4c_level0_row4\" class=\"row_heading level0 row4\" >h</th>\n",
       "      <td id=\"T_00c4c_row4_col0\" class=\"data row4 col0\" >0.506333</td>\n",
       "    </tr>\n",
       "    <tr>\n",
       "      <th id=\"T_00c4c_level0_row5\" class=\"row_heading level0 row5\" >l</th>\n",
       "      <td id=\"T_00c4c_row5_col0\" class=\"data row5 col0\" >0.476937</td>\n",
       "    </tr>\n",
       "    <tr>\n",
       "      <th id=\"T_00c4c_level0_row6\" class=\"row_heading level0 row6\" >x</th>\n",
       "      <td id=\"T_00c4c_row6_col0\" class=\"data row6 col0\" >0.437547</td>\n",
       "    </tr>\n",
       "    <tr>\n",
       "      <th id=\"T_00c4c_level0_row7\" class=\"row_heading level0 row7\" >n</th>\n",
       "      <td id=\"T_00c4c_row7_col0\" class=\"data row7 col0\" >0.383315</td>\n",
       "    </tr>\n",
       "    <tr>\n",
       "      <th id=\"T_00c4c_level0_row8\" class=\"row_heading level0 row8\" >u</th>\n",
       "      <td id=\"T_00c4c_row8_col0\" class=\"data row8 col0\" >0.334937</td>\n",
       "    </tr>\n",
       "    <tr>\n",
       "      <th id=\"T_00c4c_level0_row9\" class=\"row_heading level0 row9\" >w</th>\n",
       "      <td id=\"T_00c4c_row9_col0\" class=\"data row9 col0\" >0.287133</td>\n",
       "    </tr>\n",
       "    <tr>\n",
       "      <th id=\"T_00c4c_level0_row10\" class=\"row_heading level0 row10\" >t</th>\n",
       "      <td id=\"T_00c4c_row10_col0\" class=\"data row10 col0\" >0.249277</td>\n",
       "    </tr>\n",
       "    <tr>\n",
       "      <th id=\"T_00c4c_level0_row11\" class=\"row_heading level0 row11\" >s</th>\n",
       "      <td id=\"T_00c4c_row11_col0\" class=\"data row11 col0\" >0.235793</td>\n",
       "    </tr>\n",
       "    <tr>\n",
       "      <th id=\"T_00c4c_level0_row12\" class=\"row_heading level0 row12\" >j</th>\n",
       "      <td id=\"T_00c4c_row12_col0\" class=\"data row12 col0\" >0.232350</td>\n",
       "    </tr>\n",
       "    <tr>\n",
       "      <th id=\"T_00c4c_level0_row13\" class=\"row_heading level0 row13\" >z</th>\n",
       "      <td id=\"T_00c4c_row13_col0\" class=\"data row13 col0\" >0.232153</td>\n",
       "    </tr>\n",
       "    <tr>\n",
       "      <th id=\"T_00c4c_level0_row14\" class=\"row_heading level0 row14\" >b</th>\n",
       "      <td id=\"T_00c4c_row14_col0\" class=\"data row14 col0\" >0.221811</td>\n",
       "    </tr>\n",
       "    <tr>\n",
       "      <th id=\"T_00c4c_level0_row15\" class=\"row_heading level0 row15\" >r</th>\n",
       "      <td id=\"T_00c4c_row15_col0\" class=\"data row15 col0\" >0.183272</td>\n",
       "    </tr>\n",
       "    <tr>\n",
       "      <th id=\"T_00c4c_level0_row16\" class=\"row_heading level0 row16\" >m</th>\n",
       "      <td id=\"T_00c4c_row16_col0\" class=\"data row16 col0\" >0.163887</td>\n",
       "    </tr>\n",
       "    <tr>\n",
       "      <th id=\"T_00c4c_level0_row17\" class=\"row_heading level0 row17\" >g</th>\n",
       "      <td id=\"T_00c4c_row17_col0\" class=\"data row17 col0\" >0.157939</td>\n",
       "    </tr>\n",
       "    <tr>\n",
       "      <th id=\"T_00c4c_level0_row18\" class=\"row_heading level0 row18\" >v</th>\n",
       "      <td id=\"T_00c4c_row18_col0\" class=\"data row18 col0\" >0.153314</td>\n",
       "    </tr>\n",
       "    <tr>\n",
       "      <th id=\"T_00c4c_level0_row19\" class=\"row_heading level0 row19\" >o</th>\n",
       "      <td id=\"T_00c4c_row19_col0\" class=\"data row19 col0\" >0.142170</td>\n",
       "    </tr>\n",
       "    <tr>\n",
       "      <th id=\"T_00c4c_level0_row20\" class=\"row_heading level0 row20\" >d</th>\n",
       "      <td id=\"T_00c4c_row20_col0\" class=\"data row20 col0\" >0.141856</td>\n",
       "    </tr>\n",
       "    <tr>\n",
       "      <th id=\"T_00c4c_level0_row21\" class=\"row_heading level0 row21\" >p</th>\n",
       "      <td id=\"T_00c4c_row21_col0\" class=\"data row21 col0\" >0.141291</td>\n",
       "    </tr>\n",
       "    <tr>\n",
       "      <th id=\"T_00c4c_level0_row22\" class=\"row_heading level0 row22\" >f</th>\n",
       "      <td id=\"T_00c4c_row22_col0\" class=\"data row22 col0\" >0.082673</td>\n",
       "    </tr>\n",
       "    <tr>\n",
       "      <th id=\"T_00c4c_level0_row23\" class=\"row_heading level0 row23\" >k</th>\n",
       "      <td id=\"T_00c4c_row23_col0\" class=\"data row23 col0\" >0.031238</td>\n",
       "    </tr>\n",
       "    <tr>\n",
       "      <th id=\"T_00c4c_level0_row24\" class=\"row_heading level0 row24\" >c</th>\n",
       "      <td id=\"T_00c4c_row24_col0\" class=\"data row24 col0\" >0.000000</td>\n",
       "    </tr>\n",
       "  </tbody>\n",
       "</table>\n"
      ],
      "text/plain": [
       "<pandas.io.formats.style.Styler at 0x230d5e119a0>"
      ]
     },
     "execution_count": 12,
     "metadata": {},
     "output_type": "execute_result"
    }
   ],
   "source": [
    "X_train, X_test, y_train, y_test = train_test_split(X, y, random_state=6)\n",
    "clf = BernoulliNaiveBayes() #It is the class you just wrote.\n",
    "clf.fit(X_train, y_train)\n",
    "preds = clf.predict(X_test)\n",
    "acc = (preds == y_test).mean()\n",
    "print(f\"accuracy: {(acc*100):.0f}%\")\n",
    "\n",
    "\n",
    "letters = ['a', 'b', 'c', 'd', 'e', 'f', 'g', 'h', 'i', 'j', 'k', 'l', 'm', 'n',\n",
    "           'o', 'p', 'r', 's', 't', 'u', 'v', 'w', 'x', 'y', 'z'] # no name ending in `q`\n",
    "\n",
    "\n",
    "#using likelihood method\n",
    "likelihood_matrix = clf.get_likelihood()\n",
    "p1 = likelihood_matrix[1]\n",
    "p0 = likelihood_matrix[0]\n",
    "# most indicating letter for each gender\n",
    "female = pd.Series(p1, index=letters).sort_values(ascending=False).head(10)\n",
    "male = pd.Series(p0, index=letters).sort_values(ascending=False).head(10)\n",
    "\n",
    "# plot results\n",
    "plt.bar(female.index, female*100, color='firebrick')\n",
    "plt.ylabel(\"% of females\")\n",
    "plt.xlabel(\"last letter in name\")\n",
    "plt.title(\"top 10 last letters for females\")\n",
    "plt.ylim(0,40)\n",
    "plt.show()\n",
    "\n",
    "plt.bar(male.index, male*100, color='mediumblue')\n",
    "plt.ylabel(\"% of males\")\n",
    "plt.ylim(0,40)\n",
    "plt.xlabel(\"last letter in name\")\n",
    "plt.title(\"top 10 last letters for males\")\n",
    "plt.show()\n",
    "\n",
    "is_letter_female = clf.predict_proba(np.eye(25))[:, 1]\n",
    "is_letter_female = pd.DataFrame(is_letter_female, index = letters, columns=['female_proba'])\n",
    "is_letter_female = is_letter_female.sort_values('female_proba', ascending=False)\n",
    "is_letter_female.style.background_gradient(cmap='coolwarm')"
   ]
  },
  {
   "cell_type": "markdown",
   "metadata": {
    "id": "LXESgrgSHcXG"
   },
   "source": [
    "### question\n",
    "explain how come the letter *h* has higher probability to be feminine than *n* even though it is less popular for women?"
   ]
  },
  {
   "cell_type": "markdown",
   "metadata": {
    "id": "0_dYhCUVHcXH"
   },
   "source": [
    "TODO **Answer:** <br>\n",
    "In this data names ending with 'h' have a higher likelihood of names ending with 'N'. This is because of the posterior probabilities, which take into account both prior knowledge and the likelihood of the data.\n"
   ]
  },
  {
   "cell_type": "markdown",
   "metadata": {},
   "source": []
  }
 ],
 "metadata": {
  "anaconda-cloud": {},
  "colab": {
   "name": "HW5 - Bayes - Solution.ipynb",
   "provenance": []
  },
  "interpreter": {
   "hash": "d0d24260c26781aab6a6247b3ae992ece4f26fd75ea3713b7a84756a27d5e272"
  },
  "kernelspec": {
   "display_name": "Python 3 (ipykernel)",
   "language": "python",
   "name": "python3"
  },
  "language_info": {
   "codemirror_mode": {
    "name": "ipython",
    "version": 3
   },
   "file_extension": ".py",
   "mimetype": "text/x-python",
   "name": "python",
   "nbconvert_exporter": "python",
   "pygments_lexer": "ipython3",
   "version": "3.9.13"
  },
  "toc": {
   "base_numbering": 1,
   "nav_menu": {},
   "number_sections": true,
   "sideBar": true,
   "skip_h1_title": false,
   "title_cell": "Table of Contents",
   "title_sidebar": "Contents",
   "toc_cell": false,
   "toc_position": {},
   "toc_section_display": true,
   "toc_window_display": true
  }
 },
 "nbformat": 4,
 "nbformat_minor": 1
}

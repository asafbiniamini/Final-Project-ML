{
 "cells": [
  {
   "cell_type": "code",
   "execution_count": 37,
   "metadata": {
    "ExecuteTime": {
     "end_time": "2021-03-12T15:26:02.114874Z",
     "start_time": "2021-03-12T15:26:01.068139Z"
    }
   },
   "outputs": [],
   "source": [
    "import pandas as pd\n",
    "import numpy as np\n",
    "import matplotlib.pyplot as plt"
   ]
  },
  {
   "cell_type": "markdown",
   "metadata": {},
   "source": [
    "# Linear Regression\n"
   ]
  },
  {
   "cell_type": "code",
   "execution_count": 38,
   "metadata": {
    "ExecuteTime": {
     "end_time": "2021-03-12T15:26:03.114976Z",
     "start_time": "2021-03-12T15:26:02.116533Z"
    }
   },
   "outputs": [],
   "source": [
    "from sklearn.linear_model import LinearRegression"
   ]
  },
  {
   "attachments": {},
   "cell_type": "markdown",
   "metadata": {},
   "source": [
    "### The Dataset:\n",
    "The dataset we will be using for the regression task is called Boston House Prices Dataset. The dataset contains 506 observations and 13 dimensions, lets take a look:"
   ]
  },
  {
   "cell_type": "code",
   "execution_count": 39,
   "metadata": {
    "ExecuteTime": {
     "end_time": "2021-03-12T15:26:04.466798Z",
     "start_time": "2021-03-12T15:26:04.404349Z"
    }
   },
   "outputs": [
    {
     "name": "stdout",
     "output_type": "stream",
     "text": [
      "(506, 14)\n"
     ]
    }
   ],
   "source": [
    "boston = pd.read_csv('boston_housing.csv')\n",
    "print(boston.shape)"
   ]
  },
  {
   "attachments": {},
   "cell_type": "markdown",
   "metadata": {
    "collapsed": true
   },
   "source": [
    "Each record in the database describes a Boston suburb or town. The data was drawn from the Boston Standard Metropolitan Statistical Area (SMSA) in 1970.\n",
    "\n",
    "1) CRIM - per capita crime rate by town\n",
    "2) ZN: proportion of residential land zoned for lots over 25,000 sq.ft.\n",
    "3) INDUS: proportion of non-retail business acres per town\n",
    "4) CHAS: Charles River dummy variable (= 1 if tract bounds river; 0 otherwise)\n",
    "5) NOX: nitric oxides concentration (parts per 10 million)\n",
    "6) RM: average number of rooms per dwelling\n",
    "7) AGE: proportion of owner-occupied units built prior to 1940\n",
    "8) DIS: weighted distances to ﬁve Boston employment centers\n",
    "9) RAD: index of accessibility to radial highways\n",
    "10) TAX: full-value property-tax rate per 10,000 doller\n",
    "11) PTRATIO: pupil-teacher ratio by town\n",
    "12) B: (1000(Bk−0.63)2) where Bk is the proportion of blacks by town\n",
    "13) LSTAT: % lower status of the population\n",
    "14) MEDV: Median value of owner-occupied homes in 1000 doller\n",
    "\n",
    "Our aim is to create a machine learning model to predict MEDV from the given data."
   ]
  },
  {
   "cell_type": "markdown",
   "metadata": {},
   "source": [
    "<span style=\"font-size:2em;\"> seriously?!</span>\n",
    "\n",
    "* B        1000(Bk - 0.63)^2 where Bk is the **proportion of blacks by town**\n",
    "* LSTAT    % **lower status** of the population        \n",
    "\n",
    "well.... yes it's from the 70s\n",
    "\n",
    "you can read more about it in this blogpost digging deeper into the dataset and this column specifically:<br>\n",
    "https://medium.com/@docintangible/racist-data-destruction-113e3eff54a8"
   ]
  },
  {
   "cell_type": "code",
   "execution_count": 40,
   "metadata": {
    "ExecuteTime": {
     "end_time": "2021-03-12T15:54:59.296110Z",
     "start_time": "2021-03-12T15:54:59.245849Z"
    }
   },
   "outputs": [],
   "source": [
    "feature_cols = ['CRIM', 'ZN', 'INDUS', 'CHAS', 'NOX', 'RM', 'AGE', 'DIS', 'RAD', 'TAX', 'PTRATIO', 'B', 'LSTAT']\n",
    "X = boston[feature_cols]\n",
    "y = boston['MEDV']"
   ]
  },
  {
   "cell_type": "markdown",
   "metadata": {},
   "source": [
    "After we have seen the data and we have the some observations, we can train the data on using a linear regressor:"
   ]
  },
  {
   "cell_type": "code",
   "execution_count": 41,
   "metadata": {
    "ExecuteTime": {
     "end_time": "2021-03-12T15:58:51.642440Z",
     "start_time": "2021-03-12T15:58:51.635555Z"
    }
   },
   "outputs": [
    {
     "data": {
      "text/html": [
       "<style>#sk-container-id-2 {color: black;background-color: white;}#sk-container-id-2 pre{padding: 0;}#sk-container-id-2 div.sk-toggleable {background-color: white;}#sk-container-id-2 label.sk-toggleable__label {cursor: pointer;display: block;width: 100%;margin-bottom: 0;padding: 0.3em;box-sizing: border-box;text-align: center;}#sk-container-id-2 label.sk-toggleable__label-arrow:before {content: \"▸\";float: left;margin-right: 0.25em;color: #696969;}#sk-container-id-2 label.sk-toggleable__label-arrow:hover:before {color: black;}#sk-container-id-2 div.sk-estimator:hover label.sk-toggleable__label-arrow:before {color: black;}#sk-container-id-2 div.sk-toggleable__content {max-height: 0;max-width: 0;overflow: hidden;text-align: left;background-color: #f0f8ff;}#sk-container-id-2 div.sk-toggleable__content pre {margin: 0.2em;color: black;border-radius: 0.25em;background-color: #f0f8ff;}#sk-container-id-2 input.sk-toggleable__control:checked~div.sk-toggleable__content {max-height: 200px;max-width: 100%;overflow: auto;}#sk-container-id-2 input.sk-toggleable__control:checked~label.sk-toggleable__label-arrow:before {content: \"▾\";}#sk-container-id-2 div.sk-estimator input.sk-toggleable__control:checked~label.sk-toggleable__label {background-color: #d4ebff;}#sk-container-id-2 div.sk-label input.sk-toggleable__control:checked~label.sk-toggleable__label {background-color: #d4ebff;}#sk-container-id-2 input.sk-hidden--visually {border: 0;clip: rect(1px 1px 1px 1px);clip: rect(1px, 1px, 1px, 1px);height: 1px;margin: -1px;overflow: hidden;padding: 0;position: absolute;width: 1px;}#sk-container-id-2 div.sk-estimator {font-family: monospace;background-color: #f0f8ff;border: 1px dotted black;border-radius: 0.25em;box-sizing: border-box;margin-bottom: 0.5em;}#sk-container-id-2 div.sk-estimator:hover {background-color: #d4ebff;}#sk-container-id-2 div.sk-parallel-item::after {content: \"\";width: 100%;border-bottom: 1px solid gray;flex-grow: 1;}#sk-container-id-2 div.sk-label:hover label.sk-toggleable__label {background-color: #d4ebff;}#sk-container-id-2 div.sk-serial::before {content: \"\";position: absolute;border-left: 1px solid gray;box-sizing: border-box;top: 0;bottom: 0;left: 50%;z-index: 0;}#sk-container-id-2 div.sk-serial {display: flex;flex-direction: column;align-items: center;background-color: white;padding-right: 0.2em;padding-left: 0.2em;position: relative;}#sk-container-id-2 div.sk-item {position: relative;z-index: 1;}#sk-container-id-2 div.sk-parallel {display: flex;align-items: stretch;justify-content: center;background-color: white;position: relative;}#sk-container-id-2 div.sk-item::before, #sk-container-id-2 div.sk-parallel-item::before {content: \"\";position: absolute;border-left: 1px solid gray;box-sizing: border-box;top: 0;bottom: 0;left: 50%;z-index: -1;}#sk-container-id-2 div.sk-parallel-item {display: flex;flex-direction: column;z-index: 1;position: relative;background-color: white;}#sk-container-id-2 div.sk-parallel-item:first-child::after {align-self: flex-end;width: 50%;}#sk-container-id-2 div.sk-parallel-item:last-child::after {align-self: flex-start;width: 50%;}#sk-container-id-2 div.sk-parallel-item:only-child::after {width: 0;}#sk-container-id-2 div.sk-dashed-wrapped {border: 1px dashed gray;margin: 0 0.4em 0.5em 0.4em;box-sizing: border-box;padding-bottom: 0.4em;background-color: white;}#sk-container-id-2 div.sk-label label {font-family: monospace;font-weight: bold;display: inline-block;line-height: 1.2em;}#sk-container-id-2 div.sk-label-container {text-align: center;}#sk-container-id-2 div.sk-container {/* jupyter's `normalize.less` sets `[hidden] { display: none; }` but bootstrap.min.css set `[hidden] { display: none !important; }` so we also need the `!important` here to be able to override the default hidden behavior on the sphinx rendered scikit-learn.org. See: https://github.com/scikit-learn/scikit-learn/issues/21755 */display: inline-block !important;position: relative;}#sk-container-id-2 div.sk-text-repr-fallback {display: none;}</style><div id=\"sk-container-id-2\" class=\"sk-top-container\"><div class=\"sk-text-repr-fallback\"><pre>LinearRegression()</pre><b>In a Jupyter environment, please rerun this cell to show the HTML representation or trust the notebook. <br />On GitHub, the HTML representation is unable to render, please try loading this page with nbviewer.org.</b></div><div class=\"sk-container\" hidden><div class=\"sk-item\"><div class=\"sk-estimator sk-toggleable\"><input class=\"sk-toggleable__control sk-hidden--visually\" id=\"sk-estimator-id-2\" type=\"checkbox\" checked><label for=\"sk-estimator-id-2\" class=\"sk-toggleable__label sk-toggleable__label-arrow\">LinearRegression</label><div class=\"sk-toggleable__content\"><pre>LinearRegression()</pre></div></div></div></div></div>"
      ],
      "text/plain": [
       "LinearRegression()"
      ]
     },
     "execution_count": 41,
     "metadata": {},
     "output_type": "execute_result"
    }
   ],
   "source": [
    "reg  = LinearRegression() #The best thing about linear regression, that we don't have ANY hyperparameter to tune :-)\n",
    "reg.fit(X, y)"
   ]
  },
  {
   "cell_type": "markdown",
   "metadata": {},
   "source": [
    "#### The way we predict the y for a new data is by using the following:\n",
    "\n",
    "For each row in the new data the regressor will predict the outcome based on the way he was trained to."
   ]
  },
  {
   "cell_type": "code",
   "execution_count": 42,
   "metadata": {
    "ExecuteTime": {
     "end_time": "2021-03-12T15:55:50.316673Z",
     "start_time": "2021-03-12T15:55:50.306673Z"
    }
   },
   "outputs": [
    {
     "name": "stdout",
     "output_type": "stream",
     "text": [
      "(506,)\n"
     ]
    },
    {
     "data": {
      "text/plain": [
       "array([30.00384338, 25.02556238, 30.56759672])"
      ]
     },
     "execution_count": 42,
     "metadata": {},
     "output_type": "execute_result"
    }
   ],
   "source": [
    "preds = reg.predict(X)\n",
    "print(preds.shape)\n",
    "reg.predict(X)[:3]"
   ]
  },
  {
   "cell_type": "markdown",
   "metadata": {},
   "source": [
    "As you recall, the algorithm of a linear model is just a matrix with the coefficients of each parameter:\n",
    "\n",
    "$ y = w_0+ w_1 x_1 + w_2 x_2 + ... $ <br>\n",
    "So that $w_0$ is the intercept and the $w_1$... $w_m$ are coefs.<br><br>\n",
    "\n",
    "$b$ is a scalar <br>\n",
    "$W$ is a vector of coefs with a shape of (n_features) <br>\n",
    "$x$ is a matrix of inputs with a shape of (n_samples, n_features) <br>\n",
    "$y$ is a vecotr of outputs with a shape of (n_samples)\n",
    "\n",
    "<!-- In the general matter, we can create a larger coef matrix for multiple regression purposes:\n",
    "\n",
    "$$ y = xW^T + b $$ \n",
    "So that: <br>\n",
    "$b$ is a vector of intercepts with a shape of (n_regression_tasks, 1) <br>\n",
    "$W$ is a matrix of coefs with a shape of (n_regression_tasks, n_features) <br>\n",
    "$x$ is a matrix of inputs with a shape of (n_samples, n_features) <br>\n",
    "$y$ is a matrix of outputs with a shape of (n_samples, n_regression_tasks) -->"
   ]
  },
  {
   "cell_type": "markdown",
   "metadata": {},
   "source": [
    "We can take a look over these coefs in our regressor attributes:"
   ]
  },
  {
   "cell_type": "code",
   "execution_count": 43,
   "metadata": {
    "ExecuteTime": {
     "end_time": "2021-03-12T16:03:12.015086Z",
     "start_time": "2021-03-12T16:03:12.009657Z"
    }
   },
   "outputs": [
    {
     "name": "stdout",
     "output_type": "stream",
     "text": [
      "W coefs: \n",
      "[-1.08011358e-01  4.64204584e-02  2.05586264e-02  2.68673382e+00\n",
      " -1.77666112e+01  3.80986521e+00  6.92224640e-04 -1.47556685e+00\n",
      "  3.06049479e-01 -1.23345939e-02 -9.52747232e-01  9.31168327e-03\n",
      " -5.24758378e-01]\n",
      "W intercept: 36.45948838508985 \n",
      "\n",
      "W len: 13\n",
      "b len: ()\n",
      "X len: (506, 13)\n"
     ]
    }
   ],
   "source": [
    "W = reg.coef_\n",
    "b = reg.intercept_ #Since we have only one prediction task, the shape of the W and b will be (13, ) and () = 1\n",
    "print(f'W coefs: \\n{W}')\n",
    "print(f'W intercept: {b}','\\n')\n",
    "print(f'W len: {len(W)}')\n",
    "print(f'b len: {b.shape}')\n",
    "print(f'X len: {X.shape}')\n",
    "\n"
   ]
  },
  {
   "cell_type": "code",
   "execution_count": 44,
   "metadata": {},
   "outputs": [
    {
     "name": "stdout",
     "output_type": "stream",
     "text": [
      "[30.00384338 25.02556238 30.56759672]\n",
      "[30.00384338 25.02556238 30.56759672]\n"
     ]
    }
   ],
   "source": [
    "# np.dot(X,W.transpose())+b Equivilant to reg.predict(X)\n",
    "\n",
    "print((np.dot(X,W.transpose())+b)[:3])\n",
    "print(reg.predict(X)[:3])"
   ]
  },
  {
   "cell_type": "markdown",
   "metadata": {},
   "source": [
    "If we want to take a look on the coefs:"
   ]
  },
  {
   "cell_type": "code",
   "execution_count": 45,
   "metadata": {
    "ExecuteTime": {
     "end_time": "2021-03-12T16:05:16.331549Z",
     "start_time": "2021-03-12T16:05:16.324270Z"
    }
   },
   "outputs": [
    {
     "data": {
      "text/html": [
       "<style type=\"text/css\">\n",
       "#T_388dd_row0_col0 {\n",
       "  background-color: #ea7b60;\n",
       "  color: #f1f1f1;\n",
       "}\n",
       "#T_388dd_row1_col0, #T_388dd_row2_col0 {\n",
       "  background-color: #e9785d;\n",
       "  color: #f1f1f1;\n",
       "}\n",
       "#T_388dd_row3_col0 {\n",
       "  background-color: #c73635;\n",
       "  color: #f1f1f1;\n",
       "}\n",
       "#T_388dd_row4_col0 {\n",
       "  background-color: #3b4cc0;\n",
       "  color: #f1f1f1;\n",
       "}\n",
       "#T_388dd_row5_col0 {\n",
       "  background-color: #b40426;\n",
       "  color: #f1f1f1;\n",
       "}\n",
       "#T_388dd_row6_col0, #T_388dd_row9_col0, #T_388dd_row11_col0 {\n",
       "  background-color: #e97a5f;\n",
       "  color: #f1f1f1;\n",
       "}\n",
       "#T_388dd_row7_col0 {\n",
       "  background-color: #f39778;\n",
       "  color: #000000;\n",
       "}\n",
       "#T_388dd_row8_col0 {\n",
       "  background-color: #e67259;\n",
       "  color: #f1f1f1;\n",
       "}\n",
       "#T_388dd_row10_col0 {\n",
       "  background-color: #f18d6f;\n",
       "  color: #f1f1f1;\n",
       "}\n",
       "#T_388dd_row12_col0 {\n",
       "  background-color: #ee8468;\n",
       "  color: #f1f1f1;\n",
       "}\n",
       "</style>\n",
       "<table id=\"T_388dd\">\n",
       "  <thead>\n",
       "    <tr>\n",
       "      <th class=\"blank level0\" >&nbsp;</th>\n",
       "      <th id=\"T_388dd_level0_col0\" class=\"col_heading level0 col0\" >Coefficients</th>\n",
       "    </tr>\n",
       "  </thead>\n",
       "  <tbody>\n",
       "    <tr>\n",
       "      <th id=\"T_388dd_level0_row0\" class=\"row_heading level0 row0\" >CRIM</th>\n",
       "      <td id=\"T_388dd_row0_col0\" class=\"data row0 col0\" >-0.108011</td>\n",
       "    </tr>\n",
       "    <tr>\n",
       "      <th id=\"T_388dd_level0_row1\" class=\"row_heading level0 row1\" >ZN</th>\n",
       "      <td id=\"T_388dd_row1_col0\" class=\"data row1 col0\" >0.046420</td>\n",
       "    </tr>\n",
       "    <tr>\n",
       "      <th id=\"T_388dd_level0_row2\" class=\"row_heading level0 row2\" >INDUS</th>\n",
       "      <td id=\"T_388dd_row2_col0\" class=\"data row2 col0\" >0.020559</td>\n",
       "    </tr>\n",
       "    <tr>\n",
       "      <th id=\"T_388dd_level0_row3\" class=\"row_heading level0 row3\" >CHAS</th>\n",
       "      <td id=\"T_388dd_row3_col0\" class=\"data row3 col0\" >2.686734</td>\n",
       "    </tr>\n",
       "    <tr>\n",
       "      <th id=\"T_388dd_level0_row4\" class=\"row_heading level0 row4\" >NOX</th>\n",
       "      <td id=\"T_388dd_row4_col0\" class=\"data row4 col0\" >-17.766611</td>\n",
       "    </tr>\n",
       "    <tr>\n",
       "      <th id=\"T_388dd_level0_row5\" class=\"row_heading level0 row5\" >RM</th>\n",
       "      <td id=\"T_388dd_row5_col0\" class=\"data row5 col0\" >3.809865</td>\n",
       "    </tr>\n",
       "    <tr>\n",
       "      <th id=\"T_388dd_level0_row6\" class=\"row_heading level0 row6\" >AGE</th>\n",
       "      <td id=\"T_388dd_row6_col0\" class=\"data row6 col0\" >0.000692</td>\n",
       "    </tr>\n",
       "    <tr>\n",
       "      <th id=\"T_388dd_level0_row7\" class=\"row_heading level0 row7\" >DIS</th>\n",
       "      <td id=\"T_388dd_row7_col0\" class=\"data row7 col0\" >-1.475567</td>\n",
       "    </tr>\n",
       "    <tr>\n",
       "      <th id=\"T_388dd_level0_row8\" class=\"row_heading level0 row8\" >RAD</th>\n",
       "      <td id=\"T_388dd_row8_col0\" class=\"data row8 col0\" >0.306049</td>\n",
       "    </tr>\n",
       "    <tr>\n",
       "      <th id=\"T_388dd_level0_row9\" class=\"row_heading level0 row9\" >TAX</th>\n",
       "      <td id=\"T_388dd_row9_col0\" class=\"data row9 col0\" >-0.012335</td>\n",
       "    </tr>\n",
       "    <tr>\n",
       "      <th id=\"T_388dd_level0_row10\" class=\"row_heading level0 row10\" >PTRATIO</th>\n",
       "      <td id=\"T_388dd_row10_col0\" class=\"data row10 col0\" >-0.952747</td>\n",
       "    </tr>\n",
       "    <tr>\n",
       "      <th id=\"T_388dd_level0_row11\" class=\"row_heading level0 row11\" >B</th>\n",
       "      <td id=\"T_388dd_row11_col0\" class=\"data row11 col0\" >0.009312</td>\n",
       "    </tr>\n",
       "    <tr>\n",
       "      <th id=\"T_388dd_level0_row12\" class=\"row_heading level0 row12\" >LSTAT</th>\n",
       "      <td id=\"T_388dd_row12_col0\" class=\"data row12 col0\" >-0.524758</td>\n",
       "    </tr>\n",
       "  </tbody>\n",
       "</table>\n"
      ],
      "text/plain": [
       "<pandas.io.formats.style.Styler at 0x160bda48a90>"
      ]
     },
     "execution_count": 45,
     "metadata": {},
     "output_type": "execute_result"
    }
   ],
   "source": [
    "#Zipped them together with the relevant feature name\n",
    "coef_df = pd.DataFrame(W.reshape(-1, 1), columns = [\"Coefficients\"], index=feature_cols)\n",
    "# add some styling to the dataframe\n",
    "coef_df.style.background_gradient(cmap='coolwarm')"
   ]
  },
  {
   "cell_type": "markdown",
   "metadata": {},
   "source": [
    "### Linear vs Non Linear Transformations"
   ]
  },
  {
   "cell_type": "code",
   "execution_count": 46,
   "metadata": {},
   "outputs": [],
   "source": [
    "feature_name = 'RM'\n",
    "feature_index = X.columns.get_loc(feature_name)\n",
    "# Linear transformations for one feature\n",
    "X_lin_mul = X.copy()\n",
    "X_lin_mul[feature_name] = X_lin_mul[feature_name] * 10\n",
    "\n",
    "X_lin_add = X.copy()\n",
    "X_lin_add[feature_name] = X_lin_add[feature_name] +17\n",
    "\n",
    "#Non linear transformation for one feature\n",
    "X_not_lin = X.copy()\n",
    "X_not_lin[feature_name] = X_not_lin[feature_name] ** 2 #Power of 2"
   ]
  },
  {
   "cell_type": "code",
   "execution_count": 47,
   "metadata": {},
   "outputs": [
    {
     "data": {
      "text/html": [
       "<div>\n",
       "<style scoped>\n",
       "    .dataframe tbody tr th:only-of-type {\n",
       "        vertical-align: middle;\n",
       "    }\n",
       "\n",
       "    .dataframe tbody tr th {\n",
       "        vertical-align: top;\n",
       "    }\n",
       "\n",
       "    .dataframe thead th {\n",
       "        text-align: right;\n",
       "    }\n",
       "</style>\n",
       "<table border=\"1\" class=\"dataframe\">\n",
       "  <thead>\n",
       "    <tr style=\"text-align: right;\">\n",
       "      <th></th>\n",
       "      <th>original</th>\n",
       "      <th>linear transforamtion (x+17)</th>\n",
       "      <th>linear transforamtion (x*10)</th>\n",
       "      <th>not linear transforamtion (x^2)</th>\n",
       "    </tr>\n",
       "  </thead>\n",
       "  <tbody>\n",
       "    <tr>\n",
       "      <th>0</th>\n",
       "      <td>3.809865</td>\n",
       "      <td>3.809865</td>\n",
       "      <td>0.380987</td>\n",
       "      <td>0.340329</td>\n",
       "    </tr>\n",
       "  </tbody>\n",
       "</table>\n",
       "</div>"
      ],
      "text/plain": [
       "   original  linear transforamtion (x+17)  linear transforamtion (x*10)  \\\n",
       "0  3.809865                      3.809865                      0.380987   \n",
       "\n",
       "   not linear transforamtion (x^2)  \n",
       "0                         0.340329  "
      ]
     },
     "execution_count": 47,
     "metadata": {},
     "output_type": "execute_result"
    }
   ],
   "source": [
    "reg = LinearRegression()\n",
    "\n",
    "reg.fit(X_lin_mul, y)\n",
    "W_lin_mul = reg.coef_\n",
    "\n",
    "reg.fit(X_lin_add, y)\n",
    "W_lin_add = reg.coef_\n",
    "inter_lin_add = reg.intercept_\n",
    "\n",
    "reg.fit(X_not_lin, y)\n",
    "W_not_lin = reg.coef_\n",
    "\n",
    "\n",
    "pd.DataFrame([[W[feature_index],W_lin_add[feature_index],W_lin_mul[feature_index],W_not_lin[feature_index]]],\n",
    "            columns = ['original',\n",
    "                        'linear transforamtion (x+17)',\n",
    "                        'linear transforamtion (x*10)',\n",
    "                        'not linear transforamtion (x^2)'])"
   ]
  },
  {
   "cell_type": "code",
   "execution_count": 48,
   "metadata": {},
   "outputs": [
    {
     "name": "stdout",
     "output_type": "stream",
     "text": [
      "original intercept: 36.45948838508985\n",
      "intecept after linear transformation (x+17): -28.308220130666417\n",
      "36.46 - (3.81 * 17) = -28.31\n"
     ]
    }
   ],
   "source": [
    "print (f'original intercept: {b}')\n",
    "print(f'intecept after linear transformation (x+17): {inter_lin_add}')\n",
    "print(f'{round(b,2)} - ({round(W_lin_add[feature_index],2)} * 17) = {round(b-W_lin_add[feature_index]*17,2)}')"
   ]
  },
  {
   "cell_type": "markdown",
   "metadata": {},
   "source": [
    "And of course to evaluate our model and look for an R^2 score:"
   ]
  },
  {
   "cell_type": "code",
   "execution_count": 49,
   "metadata": {},
   "outputs": [],
   "source": [
    "from sklearn.metrics import mean_squared_error\n",
    "from sklearn.metrics import r2_score\n",
    "from sklearn.metrics import mean_absolute_error"
   ]
  },
  {
   "cell_type": "code",
   "execution_count": 50,
   "metadata": {},
   "outputs": [
    {
     "name": "stdout",
     "output_type": "stream",
     "text": [
      "160.44934774557194\n",
      "11.470670632196663\n",
      "-0.9006182341063349\n",
      "-0.9006182341063349\n"
     ]
    }
   ],
   "source": [
    "#MSE cost function \n",
    "print (mean_squared_error(y, reg.predict(X)))\n",
    "\n",
    "#MAE cost function It means that in average we miss predicted the price by 3272$.\n",
    "print (mean_absolute_error(y, reg.predict(X)))\n",
    "\n",
    "#R^2 \n",
    "print (reg.score(X, y))\n",
    "print (r2_score(y, reg.predict(X))) #Equivalent to the above line."
   ]
  },
  {
   "cell_type": "markdown",
   "metadata": {},
   "source": [
    "And a great evaluation huristic:"
   ]
  },
  {
   "cell_type": "code",
   "execution_count": 51,
   "metadata": {
    "ExecuteTime": {
     "end_time": "2021-03-12T16:05:51.802717Z",
     "start_time": "2021-03-12T16:05:51.436784Z"
    }
   },
   "outputs": [
    {
     "data": {
      "image/png": "[encoded data removed]",
      "text/plain": [
       "<Figure size 432x288 with 1 Axes>"
      ]
     },
     "metadata": {
      "needs_background": "light"
     },
     "output_type": "display_data"
    }
   ],
   "source": [
    "plt.scatter(y, reg.predict(X), s=2, c = \"red\")\n",
    "plt.plot(y,y)\n",
    "plt.xlabel(\"Prices: $Y_i$  (actual)\")\n",
    "plt.ylabel(\"Predicted prices: $\\hat{Y}_i$  (predicted)\")\n",
    "plt.title(\"Prices vs Predicted prices: $Y_i$ vs $\\hat{Y}_i$\")\n",
    "\n",
    "plt.show()"
   ]
  }
 ],
 "metadata": {
  "kernelspec": {
   "display_name": "base",
   "language": "python",
   "name": "python3"
  },
  "language_info": {
   "codemirror_mode": {
    "name": "ipython",
    "version": 3
   },
   "file_extension": ".py",
   "mimetype": "text/x-python",
   "name": "python",
   "nbconvert_exporter": "python",
   "pygments_lexer": "ipython3",
   "version": "3.8.8"
  },
  "toc": {
   "base_numbering": 1,
   "nav_menu": {},
   "number_sections": true,
   "sideBar": true,
   "skip_h1_title": false,
   "title_cell": "Table of Contents",
   "title_sidebar": "Contents",
   "toc_cell": false,
   "toc_position": {},
   "toc_section_display": true,
   "toc_window_display": true
  },
  "vscode": {
   "interpreter": {
    "hash": "d0d24260c26781aab6a6247b3ae992ece4f26fd75ea3713b7a84756a27d5e272"
   }
  }
 },
 "nbformat": 4,
 "nbformat_minor": 2
}
